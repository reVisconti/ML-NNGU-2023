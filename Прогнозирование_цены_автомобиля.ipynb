{
  "cells": [
    {
      "cell_type": "markdown",
      "metadata": {
        "id": "Rf_Aio067Soz"
      },
      "source": [
        "# Прогнозирование цены автомобиля\n",
        "\n",
        "\n",
        "<b>Постановка задачи:</b>  \n",
        "Практика покупки и продажи поддержанных автомобилей широко распростронена в современном мире и одной из главной проблем данной практики - это оценка стоимости автомобиля, так как на стоимость влияют много различных факторов, такие как: состояние, год выпуска, пробен, а также внутренние характеристики автомобиля. А так как оценка стоимости происходит владельцами, то часто происходят ситуации с сильным завышением цен. Данный проект направлен на создание модели для оценки стоимости поддержанных автомобилей, которая поможет как и покупателям - не переплачивать за желаемую технику, так и продавцам - быстро устанавливать рыночную цену, без дополнительных трат на оценку стоимости.\n",
        "\n",
        "<br>\n",
        "\n",
        "<b>Исходные данные</b>\n",
        "Исходные данные для работы взяты из открытого доступа ресурса kaggle\n",
        "https://www.kaggle.com/datasets/austinreese/craigslist-carstrucks-data\n",
        "\n",
        "<br>"
      ]
    },
    {
      "cell_type": "markdown",
      "metadata": {
        "id": "CmeIcTnC8tko"
      },
      "source": [
        "## Установка датасета с kaggle\n",
        "Для установки с kaggle используется специальный API токен kaggle.json"
      ]
    },
    {
      "cell_type": "code",
      "execution_count": null,
      "metadata": {
        "id": "Zo80bcH97cnB"
      },
      "outputs": [],
      "source": [
        "! pip install -q kaggle"
      ]
    },
    {
      "cell_type": "code",
      "execution_count": null,
      "metadata": {
        "colab": {
          "base_uri": "https://localhost:8080/",
          "height": 90
        },
        "id": "rQ319Aax7it6",
        "outputId": "9ceceb16-e954-4101-8d4c-2b8f095e8186"
      },
      "outputs": [
        {
          "output_type": "display_data",
          "data": {
            "text/plain": [
              "<IPython.core.display.HTML object>"
            ],
            "text/html": [
              "\n",
              "     <input type=\"file\" id=\"files-121c758f-2ab4-44a6-90c6-c390bdca0708\" name=\"files[]\" multiple disabled\n",
              "        style=\"border:none\" />\n",
              "     <output id=\"result-121c758f-2ab4-44a6-90c6-c390bdca0708\">\n",
              "      Upload widget is only available when the cell has been executed in the\n",
              "      current browser session. Please rerun this cell to enable.\n",
              "      </output>\n",
              "      <script>// Copyright 2017 Google LLC\n",
              "//\n",
              "// Licensed under the Apache License, Version 2.0 (the \"License\");\n",
              "// you may not use this file except in compliance with the License.\n",
              "// You may obtain a copy of the License at\n",
              "//\n",
              "//      http://www.apache.org/licenses/LICENSE-2.0\n",
              "//\n",
              "// Unless required by applicable law or agreed to in writing, software\n",
              "// distributed under the License is distributed on an \"AS IS\" BASIS,\n",
              "// WITHOUT WARRANTIES OR CONDITIONS OF ANY KIND, either express or implied.\n",
              "// See the License for the specific language governing permissions and\n",
              "// limitations under the License.\n",
              "\n",
              "/**\n",
              " * @fileoverview Helpers for google.colab Python module.\n",
              " */\n",
              "(function(scope) {\n",
              "function span(text, styleAttributes = {}) {\n",
              "  const element = document.createElement('span');\n",
              "  element.textContent = text;\n",
              "  for (const key of Object.keys(styleAttributes)) {\n",
              "    element.style[key] = styleAttributes[key];\n",
              "  }\n",
              "  return element;\n",
              "}\n",
              "\n",
              "// Max number of bytes which will be uploaded at a time.\n",
              "const MAX_PAYLOAD_SIZE = 100 * 1024;\n",
              "\n",
              "function _uploadFiles(inputId, outputId) {\n",
              "  const steps = uploadFilesStep(inputId, outputId);\n",
              "  const outputElement = document.getElementById(outputId);\n",
              "  // Cache steps on the outputElement to make it available for the next call\n",
              "  // to uploadFilesContinue from Python.\n",
              "  outputElement.steps = steps;\n",
              "\n",
              "  return _uploadFilesContinue(outputId);\n",
              "}\n",
              "\n",
              "// This is roughly an async generator (not supported in the browser yet),\n",
              "// where there are multiple asynchronous steps and the Python side is going\n",
              "// to poll for completion of each step.\n",
              "// This uses a Promise to block the python side on completion of each step,\n",
              "// then passes the result of the previous step as the input to the next step.\n",
              "function _uploadFilesContinue(outputId) {\n",
              "  const outputElement = document.getElementById(outputId);\n",
              "  const steps = outputElement.steps;\n",
              "\n",
              "  const next = steps.next(outputElement.lastPromiseValue);\n",
              "  return Promise.resolve(next.value.promise).then((value) => {\n",
              "    // Cache the last promise value to make it available to the next\n",
              "    // step of the generator.\n",
              "    outputElement.lastPromiseValue = value;\n",
              "    return next.value.response;\n",
              "  });\n",
              "}\n",
              "\n",
              "/**\n",
              " * Generator function which is called between each async step of the upload\n",
              " * process.\n",
              " * @param {string} inputId Element ID of the input file picker element.\n",
              " * @param {string} outputId Element ID of the output display.\n",
              " * @return {!Iterable<!Object>} Iterable of next steps.\n",
              " */\n",
              "function* uploadFilesStep(inputId, outputId) {\n",
              "  const inputElement = document.getElementById(inputId);\n",
              "  inputElement.disabled = false;\n",
              "\n",
              "  const outputElement = document.getElementById(outputId);\n",
              "  outputElement.innerHTML = '';\n",
              "\n",
              "  const pickedPromise = new Promise((resolve) => {\n",
              "    inputElement.addEventListener('change', (e) => {\n",
              "      resolve(e.target.files);\n",
              "    });\n",
              "  });\n",
              "\n",
              "  const cancel = document.createElement('button');\n",
              "  inputElement.parentElement.appendChild(cancel);\n",
              "  cancel.textContent = 'Cancel upload';\n",
              "  const cancelPromise = new Promise((resolve) => {\n",
              "    cancel.onclick = () => {\n",
              "      resolve(null);\n",
              "    };\n",
              "  });\n",
              "\n",
              "  // Wait for the user to pick the files.\n",
              "  const files = yield {\n",
              "    promise: Promise.race([pickedPromise, cancelPromise]),\n",
              "    response: {\n",
              "      action: 'starting',\n",
              "    }\n",
              "  };\n",
              "\n",
              "  cancel.remove();\n",
              "\n",
              "  // Disable the input element since further picks are not allowed.\n",
              "  inputElement.disabled = true;\n",
              "\n",
              "  if (!files) {\n",
              "    return {\n",
              "      response: {\n",
              "        action: 'complete',\n",
              "      }\n",
              "    };\n",
              "  }\n",
              "\n",
              "  for (const file of files) {\n",
              "    const li = document.createElement('li');\n",
              "    li.append(span(file.name, {fontWeight: 'bold'}));\n",
              "    li.append(span(\n",
              "        `(${file.type || 'n/a'}) - ${file.size} bytes, ` +\n",
              "        `last modified: ${\n",
              "            file.lastModifiedDate ? file.lastModifiedDate.toLocaleDateString() :\n",
              "                                    'n/a'} - `));\n",
              "    const percent = span('0% done');\n",
              "    li.appendChild(percent);\n",
              "\n",
              "    outputElement.appendChild(li);\n",
              "\n",
              "    const fileDataPromise = new Promise((resolve) => {\n",
              "      const reader = new FileReader();\n",
              "      reader.onload = (e) => {\n",
              "        resolve(e.target.result);\n",
              "      };\n",
              "      reader.readAsArrayBuffer(file);\n",
              "    });\n",
              "    // Wait for the data to be ready.\n",
              "    let fileData = yield {\n",
              "      promise: fileDataPromise,\n",
              "      response: {\n",
              "        action: 'continue',\n",
              "      }\n",
              "    };\n",
              "\n",
              "    // Use a chunked sending to avoid message size limits. See b/62115660.\n",
              "    let position = 0;\n",
              "    do {\n",
              "      const length = Math.min(fileData.byteLength - position, MAX_PAYLOAD_SIZE);\n",
              "      const chunk = new Uint8Array(fileData, position, length);\n",
              "      position += length;\n",
              "\n",
              "      const base64 = btoa(String.fromCharCode.apply(null, chunk));\n",
              "      yield {\n",
              "        response: {\n",
              "          action: 'append',\n",
              "          file: file.name,\n",
              "          data: base64,\n",
              "        },\n",
              "      };\n",
              "\n",
              "      let percentDone = fileData.byteLength === 0 ?\n",
              "          100 :\n",
              "          Math.round((position / fileData.byteLength) * 100);\n",
              "      percent.textContent = `${percentDone}% done`;\n",
              "\n",
              "    } while (position < fileData.byteLength);\n",
              "  }\n",
              "\n",
              "  // All done.\n",
              "  yield {\n",
              "    response: {\n",
              "      action: 'complete',\n",
              "    }\n",
              "  };\n",
              "}\n",
              "\n",
              "scope.google = scope.google || {};\n",
              "scope.google.colab = scope.google.colab || {};\n",
              "scope.google.colab._files = {\n",
              "  _uploadFiles,\n",
              "  _uploadFilesContinue,\n",
              "};\n",
              "})(self);\n",
              "</script> "
            ]
          },
          "metadata": {}
        },
        {
          "output_type": "stream",
          "name": "stdout",
          "text": [
            "Saving kaggle.json to kaggle.json\n"
          ]
        },
        {
          "output_type": "execute_result",
          "data": {
            "text/plain": [
              "{'kaggle.json': b'{\"username\":\"dievisconti\",\"key\":\"28fd0ae6209e5708bf6572ebb762657a\"}'}"
            ]
          },
          "metadata": {},
          "execution_count": 2
        }
      ],
      "source": [
        "from google.colab import files\n",
        "files.upload()"
      ]
    },
    {
      "cell_type": "code",
      "execution_count": null,
      "metadata": {
        "id": "2lE6dsmO75sA"
      },
      "outputs": [],
      "source": [
        "!rm -r ~/.kaggle\n",
        "!mkdir ~/.kaggle\n",
        "!mv ./kaggle.json ~/.kaggle/\n",
        "!chmod 600 ~/.kaggle/kaggle.json"
      ]
    },
    {
      "cell_type": "code",
      "execution_count": null,
      "metadata": {
        "colab": {
          "base_uri": "https://localhost:8080/"
        },
        "id": "bOdUDtL08zWX",
        "outputId": "cc30bb0c-cb27-4e4f-aa57-1f7fb51ff7a0"
      },
      "outputs": [
        {
          "output_type": "stream",
          "name": "stdout",
          "text": [
            "craigslist-carstrucks-data.zip: Skipping, found more recently modified local copy (use --force to force download)\n"
          ]
        }
      ],
      "source": [
        "!kaggle datasets download -d austinreese/craigslist-carstrucks-data"
      ]
    },
    {
      "cell_type": "code",
      "execution_count": null,
      "metadata": {
        "id": "9YWaO3Io88fX"
      },
      "outputs": [],
      "source": [
        "import zipfile\n",
        "zip_ref = zipfile.ZipFile('craigslist-carstrucks-data.zip', 'r')\n",
        "zip_ref.extractall('/content')\n",
        "zip_ref.close()"
      ]
    },
    {
      "cell_type": "markdown",
      "metadata": {
        "id": "o7GDJ7u-9GGX"
      },
      "source": [
        "# Подготовка данных"
      ]
    },
    {
      "cell_type": "code",
      "execution_count": null,
      "metadata": {
        "id": "FZijVBkaAKdC"
      },
      "outputs": [],
      "source": [
        "import numpy as np\n",
        "import pandas as pd\n",
        "import matplotlib.pyplot as plt"
      ]
    },
    {
      "cell_type": "code",
      "execution_count": 7,
      "metadata": {
        "id": "49-ppkaSAjQq",
        "colab": {
          "base_uri": "https://localhost:8080/",
          "height": 270
        },
        "outputId": "10e067c4-3ed1-42c3-ba05-343b6b71367f"
      },
      "outputs": [
        {
          "data": {
            "text/html": [
              "\n",
              "  <div id=\"df-11216511-5318-4e75-86ed-ee08b9b95fc7\" class=\"colab-df-container\">\n",
              "    <div>\n",
              "<style scoped>\n",
              "    .dataframe tbody tr th:only-of-type {\n",
              "        vertical-align: middle;\n",
              "    }\n",
              "\n",
              "    .dataframe tbody tr th {\n",
              "        vertical-align: top;\n",
              "    }\n",
              "\n",
              "    .dataframe thead th {\n",
              "        text-align: right;\n",
              "    }\n",
              "</style>\n",
              "<table border=\"1\" class=\"dataframe\">\n",
              "  <thead>\n",
              "    <tr style=\"text-align: right;\">\n",
              "      <th></th>\n",
              "      <th>id</th>\n",
              "      <th>url</th>\n",
              "      <th>region</th>\n",
              "      <th>region_url</th>\n",
              "      <th>price</th>\n",
              "      <th>year</th>\n",
              "      <th>manufacturer</th>\n",
              "      <th>model</th>\n",
              "      <th>condition</th>\n",
              "      <th>cylinders</th>\n",
              "      <th>...</th>\n",
              "      <th>size</th>\n",
              "      <th>type</th>\n",
              "      <th>paint_color</th>\n",
              "      <th>image_url</th>\n",
              "      <th>description</th>\n",
              "      <th>county</th>\n",
              "      <th>state</th>\n",
              "      <th>lat</th>\n",
              "      <th>long</th>\n",
              "      <th>posting_date</th>\n",
              "    </tr>\n",
              "  </thead>\n",
              "  <tbody>\n",
              "    <tr>\n",
              "      <th>0</th>\n",
              "      <td>7222695916</td>\n",
              "      <td>https://prescott.craigslist.org/cto/d/prescott...</td>\n",
              "      <td>prescott</td>\n",
              "      <td>https://prescott.craigslist.org</td>\n",
              "      <td>6000</td>\n",
              "      <td>NaN</td>\n",
              "      <td>NaN</td>\n",
              "      <td>NaN</td>\n",
              "      <td>NaN</td>\n",
              "      <td>NaN</td>\n",
              "      <td>...</td>\n",
              "      <td>NaN</td>\n",
              "      <td>NaN</td>\n",
              "      <td>NaN</td>\n",
              "      <td>NaN</td>\n",
              "      <td>NaN</td>\n",
              "      <td>NaN</td>\n",
              "      <td>az</td>\n",
              "      <td>NaN</td>\n",
              "      <td>NaN</td>\n",
              "      <td>NaN</td>\n",
              "    </tr>\n",
              "    <tr>\n",
              "      <th>1</th>\n",
              "      <td>7218891961</td>\n",
              "      <td>https://fayar.craigslist.org/ctd/d/bentonville...</td>\n",
              "      <td>fayetteville</td>\n",
              "      <td>https://fayar.craigslist.org</td>\n",
              "      <td>11900</td>\n",
              "      <td>NaN</td>\n",
              "      <td>NaN</td>\n",
              "      <td>NaN</td>\n",
              "      <td>NaN</td>\n",
              "      <td>NaN</td>\n",
              "      <td>...</td>\n",
              "      <td>NaN</td>\n",
              "      <td>NaN</td>\n",
              "      <td>NaN</td>\n",
              "      <td>NaN</td>\n",
              "      <td>NaN</td>\n",
              "      <td>NaN</td>\n",
              "      <td>ar</td>\n",
              "      <td>NaN</td>\n",
              "      <td>NaN</td>\n",
              "      <td>NaN</td>\n",
              "    </tr>\n",
              "    <tr>\n",
              "      <th>2</th>\n",
              "      <td>7221797935</td>\n",
              "      <td>https://keys.craigslist.org/cto/d/summerland-k...</td>\n",
              "      <td>florida keys</td>\n",
              "      <td>https://keys.craigslist.org</td>\n",
              "      <td>21000</td>\n",
              "      <td>NaN</td>\n",
              "      <td>NaN</td>\n",
              "      <td>NaN</td>\n",
              "      <td>NaN</td>\n",
              "      <td>NaN</td>\n",
              "      <td>...</td>\n",
              "      <td>NaN</td>\n",
              "      <td>NaN</td>\n",
              "      <td>NaN</td>\n",
              "      <td>NaN</td>\n",
              "      <td>NaN</td>\n",
              "      <td>NaN</td>\n",
              "      <td>fl</td>\n",
              "      <td>NaN</td>\n",
              "      <td>NaN</td>\n",
              "      <td>NaN</td>\n",
              "    </tr>\n",
              "    <tr>\n",
              "      <th>3</th>\n",
              "      <td>7222270760</td>\n",
              "      <td>https://worcester.craigslist.org/cto/d/west-br...</td>\n",
              "      <td>worcester / central MA</td>\n",
              "      <td>https://worcester.craigslist.org</td>\n",
              "      <td>1500</td>\n",
              "      <td>NaN</td>\n",
              "      <td>NaN</td>\n",
              "      <td>NaN</td>\n",
              "      <td>NaN</td>\n",
              "      <td>NaN</td>\n",
              "      <td>...</td>\n",
              "      <td>NaN</td>\n",
              "      <td>NaN</td>\n",
              "      <td>NaN</td>\n",
              "      <td>NaN</td>\n",
              "      <td>NaN</td>\n",
              "      <td>NaN</td>\n",
              "      <td>ma</td>\n",
              "      <td>NaN</td>\n",
              "      <td>NaN</td>\n",
              "      <td>NaN</td>\n",
              "    </tr>\n",
              "    <tr>\n",
              "      <th>4</th>\n",
              "      <td>7210384030</td>\n",
              "      <td>https://greensboro.craigslist.org/cto/d/trinit...</td>\n",
              "      <td>greensboro</td>\n",
              "      <td>https://greensboro.craigslist.org</td>\n",
              "      <td>4900</td>\n",
              "      <td>NaN</td>\n",
              "      <td>NaN</td>\n",
              "      <td>NaN</td>\n",
              "      <td>NaN</td>\n",
              "      <td>NaN</td>\n",
              "      <td>...</td>\n",
              "      <td>NaN</td>\n",
              "      <td>NaN</td>\n",
              "      <td>NaN</td>\n",
              "      <td>NaN</td>\n",
              "      <td>NaN</td>\n",
              "      <td>NaN</td>\n",
              "      <td>nc</td>\n",
              "      <td>NaN</td>\n",
              "      <td>NaN</td>\n",
              "      <td>NaN</td>\n",
              "    </tr>\n",
              "  </tbody>\n",
              "</table>\n",
              "<p>5 rows × 26 columns</p>\n",
              "</div>\n",
              "    <div class=\"colab-df-buttons\">\n",
              "\n",
              "  <div class=\"colab-df-container\">\n",
              "    <button class=\"colab-df-convert\" onclick=\"convertToInteractive('df-11216511-5318-4e75-86ed-ee08b9b95fc7')\"\n",
              "            title=\"Convert this dataframe to an interactive table.\"\n",
              "            style=\"display:none;\">\n",
              "\n",
              "  <svg xmlns=\"http://www.w3.org/2000/svg\" height=\"24px\" viewBox=\"0 -960 960 960\">\n",
              "    <path d=\"M120-120v-720h720v720H120Zm60-500h600v-160H180v160Zm220 220h160v-160H400v160Zm0 220h160v-160H400v160ZM180-400h160v-160H180v160Zm440 0h160v-160H620v160ZM180-180h160v-160H180v160Zm440 0h160v-160H620v160Z\"/>\n",
              "  </svg>\n",
              "    </button>\n",
              "\n",
              "  <style>\n",
              "    .colab-df-container {\n",
              "      display:flex;\n",
              "      gap: 12px;\n",
              "    }\n",
              "\n",
              "    .colab-df-convert {\n",
              "      background-color: #E8F0FE;\n",
              "      border: none;\n",
              "      border-radius: 50%;\n",
              "      cursor: pointer;\n",
              "      display: none;\n",
              "      fill: #1967D2;\n",
              "      height: 32px;\n",
              "      padding: 0 0 0 0;\n",
              "      width: 32px;\n",
              "    }\n",
              "\n",
              "    .colab-df-convert:hover {\n",
              "      background-color: #E2EBFA;\n",
              "      box-shadow: 0px 1px 2px rgba(60, 64, 67, 0.3), 0px 1px 3px 1px rgba(60, 64, 67, 0.15);\n",
              "      fill: #174EA6;\n",
              "    }\n",
              "\n",
              "    .colab-df-buttons div {\n",
              "      margin-bottom: 4px;\n",
              "    }\n",
              "\n",
              "    [theme=dark] .colab-df-convert {\n",
              "      background-color: #3B4455;\n",
              "      fill: #D2E3FC;\n",
              "    }\n",
              "\n",
              "    [theme=dark] .colab-df-convert:hover {\n",
              "      background-color: #434B5C;\n",
              "      box-shadow: 0px 1px 3px 1px rgba(0, 0, 0, 0.15);\n",
              "      filter: drop-shadow(0px 1px 2px rgba(0, 0, 0, 0.3));\n",
              "      fill: #FFFFFF;\n",
              "    }\n",
              "  </style>\n",
              "\n",
              "    <script>\n",
              "      const buttonEl =\n",
              "        document.querySelector('#df-11216511-5318-4e75-86ed-ee08b9b95fc7 button.colab-df-convert');\n",
              "      buttonEl.style.display =\n",
              "        google.colab.kernel.accessAllowed ? 'block' : 'none';\n",
              "\n",
              "      async function convertToInteractive(key) {\n",
              "        const element = document.querySelector('#df-11216511-5318-4e75-86ed-ee08b9b95fc7');\n",
              "        const dataTable =\n",
              "          await google.colab.kernel.invokeFunction('convertToInteractive',\n",
              "                                                    [key], {});\n",
              "        if (!dataTable) return;\n",
              "\n",
              "        const docLinkHtml = 'Like what you see? Visit the ' +\n",
              "          '<a target=\"_blank\" href=https://colab.research.google.com/notebooks/data_table.ipynb>data table notebook</a>'\n",
              "          + ' to learn more about interactive tables.';\n",
              "        element.innerHTML = '';\n",
              "        dataTable['output_type'] = 'display_data';\n",
              "        await google.colab.output.renderOutput(dataTable, element);\n",
              "        const docLink = document.createElement('div');\n",
              "        docLink.innerHTML = docLinkHtml;\n",
              "        element.appendChild(docLink);\n",
              "      }\n",
              "    </script>\n",
              "  </div>\n",
              "\n",
              "\n",
              "<div id=\"df-c24114fa-5fc8-462a-a17d-e9ccf9761789\">\n",
              "  <button class=\"colab-df-quickchart\" onclick=\"quickchart('df-c24114fa-5fc8-462a-a17d-e9ccf9761789')\"\n",
              "            title=\"Suggest charts\"\n",
              "            style=\"display:none;\">\n",
              "\n",
              "<svg xmlns=\"http://www.w3.org/2000/svg\" height=\"24px\"viewBox=\"0 0 24 24\"\n",
              "     width=\"24px\">\n",
              "    <g>\n",
              "        <path d=\"M19 3H5c-1.1 0-2 .9-2 2v14c0 1.1.9 2 2 2h14c1.1 0 2-.9 2-2V5c0-1.1-.9-2-2-2zM9 17H7v-7h2v7zm4 0h-2V7h2v10zm4 0h-2v-4h2v4z\"/>\n",
              "    </g>\n",
              "</svg>\n",
              "  </button>\n",
              "\n",
              "<style>\n",
              "  .colab-df-quickchart {\n",
              "      --bg-color: #E8F0FE;\n",
              "      --fill-color: #1967D2;\n",
              "      --hover-bg-color: #E2EBFA;\n",
              "      --hover-fill-color: #174EA6;\n",
              "      --disabled-fill-color: #AAA;\n",
              "      --disabled-bg-color: #DDD;\n",
              "  }\n",
              "\n",
              "  [theme=dark] .colab-df-quickchart {\n",
              "      --bg-color: #3B4455;\n",
              "      --fill-color: #D2E3FC;\n",
              "      --hover-bg-color: #434B5C;\n",
              "      --hover-fill-color: #FFFFFF;\n",
              "      --disabled-bg-color: #3B4455;\n",
              "      --disabled-fill-color: #666;\n",
              "  }\n",
              "\n",
              "  .colab-df-quickchart {\n",
              "    background-color: var(--bg-color);\n",
              "    border: none;\n",
              "    border-radius: 50%;\n",
              "    cursor: pointer;\n",
              "    display: none;\n",
              "    fill: var(--fill-color);\n",
              "    height: 32px;\n",
              "    padding: 0;\n",
              "    width: 32px;\n",
              "  }\n",
              "\n",
              "  .colab-df-quickchart:hover {\n",
              "    background-color: var(--hover-bg-color);\n",
              "    box-shadow: 0 1px 2px rgba(60, 64, 67, 0.3), 0 1px 3px 1px rgba(60, 64, 67, 0.15);\n",
              "    fill: var(--button-hover-fill-color);\n",
              "  }\n",
              "\n",
              "  .colab-df-quickchart-complete:disabled,\n",
              "  .colab-df-quickchart-complete:disabled:hover {\n",
              "    background-color: var(--disabled-bg-color);\n",
              "    fill: var(--disabled-fill-color);\n",
              "    box-shadow: none;\n",
              "  }\n",
              "\n",
              "  .colab-df-spinner {\n",
              "    border: 2px solid var(--fill-color);\n",
              "    border-color: transparent;\n",
              "    border-bottom-color: var(--fill-color);\n",
              "    animation:\n",
              "      spin 1s steps(1) infinite;\n",
              "  }\n",
              "\n",
              "  @keyframes spin {\n",
              "    0% {\n",
              "      border-color: transparent;\n",
              "      border-bottom-color: var(--fill-color);\n",
              "      border-left-color: var(--fill-color);\n",
              "    }\n",
              "    20% {\n",
              "      border-color: transparent;\n",
              "      border-left-color: var(--fill-color);\n",
              "      border-top-color: var(--fill-color);\n",
              "    }\n",
              "    30% {\n",
              "      border-color: transparent;\n",
              "      border-left-color: var(--fill-color);\n",
              "      border-top-color: var(--fill-color);\n",
              "      border-right-color: var(--fill-color);\n",
              "    }\n",
              "    40% {\n",
              "      border-color: transparent;\n",
              "      border-right-color: var(--fill-color);\n",
              "      border-top-color: var(--fill-color);\n",
              "    }\n",
              "    60% {\n",
              "      border-color: transparent;\n",
              "      border-right-color: var(--fill-color);\n",
              "    }\n",
              "    80% {\n",
              "      border-color: transparent;\n",
              "      border-right-color: var(--fill-color);\n",
              "      border-bottom-color: var(--fill-color);\n",
              "    }\n",
              "    90% {\n",
              "      border-color: transparent;\n",
              "      border-bottom-color: var(--fill-color);\n",
              "    }\n",
              "  }\n",
              "</style>\n",
              "\n",
              "  <script>\n",
              "    async function quickchart(key) {\n",
              "      const quickchartButtonEl =\n",
              "        document.querySelector('#' + key + ' button');\n",
              "      quickchartButtonEl.disabled = true;  // To prevent multiple clicks.\n",
              "      quickchartButtonEl.classList.add('colab-df-spinner');\n",
              "      try {\n",
              "        const charts = await google.colab.kernel.invokeFunction(\n",
              "            'suggestCharts', [key], {});\n",
              "      } catch (error) {\n",
              "        console.error('Error during call to suggestCharts:', error);\n",
              "      }\n",
              "      quickchartButtonEl.classList.remove('colab-df-spinner');\n",
              "      quickchartButtonEl.classList.add('colab-df-quickchart-complete');\n",
              "    }\n",
              "    (() => {\n",
              "      let quickchartButtonEl =\n",
              "        document.querySelector('#df-c24114fa-5fc8-462a-a17d-e9ccf9761789 button');\n",
              "      quickchartButtonEl.style.display =\n",
              "        google.colab.kernel.accessAllowed ? 'block' : 'none';\n",
              "    })();\n",
              "  </script>\n",
              "</div>\n",
              "    </div>\n",
              "  </div>\n"
            ],
            "text/plain": [
              "           id                                                url  \\\n",
              "0  7222695916  https://prescott.craigslist.org/cto/d/prescott...   \n",
              "1  7218891961  https://fayar.craigslist.org/ctd/d/bentonville...   \n",
              "2  7221797935  https://keys.craigslist.org/cto/d/summerland-k...   \n",
              "3  7222270760  https://worcester.craigslist.org/cto/d/west-br...   \n",
              "4  7210384030  https://greensboro.craigslist.org/cto/d/trinit...   \n",
              "\n",
              "                   region                         region_url  price  year  \\\n",
              "0                prescott    https://prescott.craigslist.org   6000   NaN   \n",
              "1            fayetteville       https://fayar.craigslist.org  11900   NaN   \n",
              "2            florida keys        https://keys.craigslist.org  21000   NaN   \n",
              "3  worcester / central MA   https://worcester.craigslist.org   1500   NaN   \n",
              "4              greensboro  https://greensboro.craigslist.org   4900   NaN   \n",
              "\n",
              "  manufacturer model condition cylinders  ... size  type paint_color  \\\n",
              "0          NaN   NaN       NaN       NaN  ...  NaN   NaN         NaN   \n",
              "1          NaN   NaN       NaN       NaN  ...  NaN   NaN         NaN   \n",
              "2          NaN   NaN       NaN       NaN  ...  NaN   NaN         NaN   \n",
              "3          NaN   NaN       NaN       NaN  ...  NaN   NaN         NaN   \n",
              "4          NaN   NaN       NaN       NaN  ...  NaN   NaN         NaN   \n",
              "\n",
              "  image_url description county state lat long posting_date  \n",
              "0       NaN         NaN    NaN    az NaN  NaN          NaN  \n",
              "1       NaN         NaN    NaN    ar NaN  NaN          NaN  \n",
              "2       NaN         NaN    NaN    fl NaN  NaN          NaN  \n",
              "3       NaN         NaN    NaN    ma NaN  NaN          NaN  \n",
              "4       NaN         NaN    NaN    nc NaN  NaN          NaN  \n",
              "\n",
              "[5 rows x 26 columns]"
            ]
          },
          "execution_count": 7,
          "metadata": {},
          "output_type": "execute_result"
        }
      ],
      "source": [
        "df = pd.read_csv('/content/vehicles.csv')\n",
        "df.head()"
      ]
    },
    {
      "cell_type": "markdown",
      "metadata": {
        "id": "3D7aTdLED3G-"
      },
      "source": [
        "### Рассмотрим признаки данного датасета"
      ]
    },
    {
      "cell_type": "code",
      "execution_count": null,
      "metadata": {
        "colab": {
          "base_uri": "https://localhost:8080/"
        },
        "id": "xXEQtomAD6dW",
        "outputId": "9f6868c6-be82-4613-a28e-cf4f8d5e0204"
      },
      "outputs": [
        {
          "name": "stdout",
          "output_type": "stream",
          "text": [
            "<class 'pandas.core.frame.DataFrame'>\n",
            "RangeIndex: 426880 entries, 0 to 426879\n",
            "Data columns (total 26 columns):\n",
            " #   Column        Non-Null Count   Dtype  \n",
            "---  ------        --------------   -----  \n",
            " 0   id            426880 non-null  int64  \n",
            " 1   url           426880 non-null  object \n",
            " 2   region        426880 non-null  object \n",
            " 3   region_url    426880 non-null  object \n",
            " 4   price         426880 non-null  int64  \n",
            " 5   year          425675 non-null  float64\n",
            " 6   manufacturer  409234 non-null  object \n",
            " 7   model         421603 non-null  object \n",
            " 8   condition     252776 non-null  object \n",
            " 9   cylinders     249202 non-null  object \n",
            " 10  fuel          423867 non-null  object \n",
            " 11  odometer      422480 non-null  float64\n",
            " 12  title_status  418638 non-null  object \n",
            " 13  transmission  424324 non-null  object \n",
            " 14  VIN           265838 non-null  object \n",
            " 15  drive         296313 non-null  object \n",
            " 16  size          120519 non-null  object \n",
            " 17  type          334022 non-null  object \n",
            " 18  paint_color   296677 non-null  object \n",
            " 19  image_url     426812 non-null  object \n",
            " 20  description   426810 non-null  object \n",
            " 21  county        0 non-null       float64\n",
            " 22  state         426880 non-null  object \n",
            " 23  lat           420331 non-null  float64\n",
            " 24  long          420331 non-null  float64\n",
            " 25  posting_date  426812 non-null  object \n",
            "dtypes: float64(5), int64(2), object(19)\n",
            "memory usage: 84.7+ MB\n"
          ]
        }
      ],
      "source": [
        "df.info()"
      ]
    },
    {
      "cell_type": "markdown",
      "metadata": {
        "id": "qZumFtuqIAqm"
      },
      "source": [
        "Имеются следующие признаки\n",
        "\n",
        "\n",
        "*  id - идентификатор записи\n",
        "*  url - ссылка на обьявление\n",
        "*  region - регион на Craiglist\n",
        "*  region_url - ссылка на регион Craiglist\n",
        "*  price - стоимость (в долларах)\n",
        "*  year - год выпуска транспортного средства\n",
        "*  manufacturer - производитель\n",
        "*  model - модель транспортного средства\n",
        "*  condition - состояние транспортного средства\n",
        "*  cyclinders - число целиндров\n",
        "*  fuel - используемое топливо\n",
        "*  odometer - пробег (кол-во миль, пройденных автомобилем)\n",
        "*  title_status - тип статуса транспортного средства\n",
        "*  transmission - тип трансмисии\n",
        "*  VIN - Идентификационный номер транспортного средства — уникальный код транспортного средства, состоящий из 17 знаков. В коде представлены сведения о производителе и характеристиках транспортного средства, а также о годе выпуска\n",
        "*  drive - тип привода\n",
        "*  size - размер транспортного средства\n",
        "*  type - общий тип транспортного средства\n",
        "*  paint_color - цвет транспортного средства\n",
        "*  image_url - ссылка на изображение с автомобилем\n",
        "*  description - описание\n",
        "*  county - округ (примечание автора датасета: бесполезный столбец оставлен по ошибке)\n",
        "*  state - штат, где находится транспортной средство\n",
        "*  lat - географическая широта обьявления\n",
        "*  long - географическая долгота обьявления\n",
        "*  posting_date - дата публикации обьявления"
      ]
    },
    {
      "cell_type": "markdown",
      "metadata": {
        "id": "YqDtRlNZuuGg"
      },
      "source": [
        "### Посчитаем процент пропущенных значений признаков"
      ]
    },
    {
      "cell_type": "code",
      "execution_count": 9,
      "metadata": {
        "colab": {
          "base_uri": "https://localhost:8080/"
        },
        "id": "D2Ruo9j2uvke",
        "outputId": "64ed4d7c-2cc4-423d-ccfe-8c9f26c7c9e3"
      },
      "outputs": [
        {
          "output_type": "execute_result",
          "data": {
            "text/plain": [
              "id                0.00\n",
              "url               0.00\n",
              "region            0.00\n",
              "region_url        0.00\n",
              "price             0.00\n",
              "year              0.28\n",
              "manufacturer      4.13\n",
              "model             1.24\n",
              "condition        40.79\n",
              "cylinders        41.62\n",
              "fuel              0.71\n",
              "odometer          1.03\n",
              "title_status      1.93\n",
              "transmission      0.60\n",
              "VIN              37.73\n",
              "drive            30.59\n",
              "size             71.77\n",
              "type             21.75\n",
              "paint_color      30.50\n",
              "image_url         0.02\n",
              "description       0.02\n",
              "county          100.00\n",
              "state             0.00\n",
              "lat               1.53\n",
              "long              1.53\n",
              "posting_date      0.02\n",
              "dtype: float64"
            ]
          },
          "metadata": {},
          "execution_count": 9
        }
      ],
      "source": [
        "clear_df = df.copy()\n",
        "(clear_df.isna().sum() / len(clear_df)).round(4) * 100"
      ]
    },
    {
      "cell_type": "markdown",
      "metadata": {
        "id": "mKUFJYGOu1bR"
      },
      "source": [
        "Признак county не имеет ненулевых значений, а признак size имеет около 70% нулевых, поэтому отбросим данные признаки."
      ]
    },
    {
      "cell_type": "code",
      "execution_count": 10,
      "metadata": {
        "id": "gRuZaSTFuvh8"
      },
      "outputs": [],
      "source": [
        "clear_df = clear_df.drop(['county', 'size'], axis=1)"
      ]
    },
    {
      "cell_type": "markdown",
      "metadata": {
        "id": "iO45KZKzu1wN"
      },
      "source": [
        "Признаки year, odometer, manufacturer, model, fuel, transmission имееют меньше 5 процентов нулевых значений. Избавимся от строк которые, содержат пропуски во всех этих признаках"
      ]
    },
    {
      "cell_type": "code",
      "execution_count": 11,
      "metadata": {
        "id": "VX2S6S0TuveG"
      },
      "outputs": [],
      "source": [
        "clear_df = clear_df.dropna(subset=['year', 'odometer', 'manufacturer', 'model', 'fuel', 'transmission'])"
      ]
    },
    {
      "cell_type": "markdown",
      "metadata": {
        "id": "AduFfLTFu_VX"
      },
      "source": [
        "Все остальные нулевые значения заполним категорией unknown"
      ]
    },
    {
      "cell_type": "code",
      "execution_count": 12,
      "metadata": {
        "id": "EN6wGQc8uvSO"
      },
      "outputs": [],
      "source": [
        "clear_df.fillna('unknown', inplace=True)"
      ]
    },
    {
      "cell_type": "markdown",
      "metadata": {
        "id": "MJ5xM6ZUPlCu"
      },
      "source": [
        "### Проанализируем типы признаков и какие значения они могут принимать\n",
        "\n"
      ]
    },
    {
      "cell_type": "code",
      "execution_count": 13,
      "metadata": {
        "id": "RDCPzKJTPq4F",
        "colab": {
          "base_uri": "https://localhost:8080/"
        },
        "outputId": "16c3e376-b2ad-44db-eb66-064d90a1ab36"
      },
      "outputs": [
        {
          "output_type": "stream",
          "name": "stdout",
          "text": [
            "Признак url\n",
            "Значения:  ['https://auburn.craigslist.org/ctd/d/auburn-university-2014-gmc-sierra-1500/7316814884.html'\n",
            " 'https://auburn.craigslist.org/ctd/d/auburn-university-2010-chevy-chevrolet/7316814758.html'\n",
            " 'https://auburn.craigslist.org/ctd/d/auburn-university-2020-chevy-chevrolet/7316814989.html'\n",
            " 'https://auburn.craigslist.org/ctd/d/auburn-university-2017-toyota-tundra/7316743432.html'\n",
            " 'https://auburn.craigslist.org/cto/d/auburn-university-2013-150/7316356412.html'\n",
            " 'https://auburn.craigslist.org/ctd/d/auburn-university-2012-gmc-sierra-2500/7316343444.html'\n",
            " 'https://auburn.craigslist.org/ctd/d/auburn-university-2016-chevy-chevrolet/7316304717.html'\n",
            " 'https://auburn.craigslist.org/cto/d/auburn-2019-tacoma-trd-offroad/7316285779.html'\n",
            " 'https://auburn.craigslist.org/ctd/d/auburn-university-2016-chevy-chevrolet/7316257769.html'\n",
            " 'https://auburn.craigslist.org/ctd/d/auburn-university-2011-chevy-chevrolet/7316133914.html'\n",
            " 'https://auburn.craigslist.org/cto/d/opelika-1992-jeep-cherokee/7316130053.html'\n",
            " 'https://auburn.craigslist.org/ctd/d/auburn-university-2017-jeep-wrangler/7315816316.html'\n",
            " 'https://auburn.craigslist.org/ctd/d/auburn-university-2017-chevy-chevrolet/7315770394.html'\n",
            " 'https://auburn.craigslist.org/ctd/d/auburn-university-2016-chevy-chevrolet/7315756348.html'\n",
            " 'https://auburn.craigslist.org/ctd/d/auburn-university-2014-toyota-tacoma/7315715960.html'\n",
            " 'https://auburn.craigslist.org/ctd/d/auburn-university-2016-chevy-chevrolet/7315379459.html'\n",
            " 'https://auburn.craigslist.org/ctd/d/auburn-university-2014-toyota-tundra/7315275975.html'\n",
            " 'https://auburn.craigslist.org/ctd/d/auburn-university-2019-ford-ranger/7315275942.html'\n",
            " 'https://auburn.craigslist.org/ctd/d/auburn-university-2018-nissan-frontier/7315270785.html'\n",
            " 'https://auburn.craigslist.org/ctd/d/auburn-999-sign-drive-2011-jeep-compass/7315039307.html']\n",
            "Количество значений:  396334 \n",
            "\n",
            "Признак region\n",
            "Значения:  ['auburn' 'birmingham' 'dothan' 'florence / muscle shoals'\n",
            " 'gadsden-anniston' 'huntsville / decatur' 'mobile' 'montgomery'\n",
            " 'tuscaloosa' 'anchorage / mat-su' 'fairbanks' 'kenai peninsula'\n",
            " 'southeast alaska' 'flagstaff / sedona' 'mohave county' 'phoenix'\n",
            " 'prescott' 'show low' 'sierra vista' 'tucson']\n",
            "Количество значений:  404 \n",
            "\n",
            "Признак region_url\n",
            "Значения:  ['https://auburn.craigslist.org' 'https://bham.craigslist.org'\n",
            " 'https://dothan.craigslist.org' 'https://shoals.craigslist.org'\n",
            " 'https://gadsden.craigslist.org' 'https://huntsville.craigslist.org'\n",
            " 'https://mobile.craigslist.org' 'https://montgomery.craigslist.org'\n",
            " 'https://tuscaloosa.craigslist.org' 'https://anchorage.craigslist.org'\n",
            " 'https://fairbanks.craigslist.org' 'https://kenai.craigslist.org'\n",
            " 'https://juneau.craigslist.org' 'https://flagstaff.craigslist.org'\n",
            " 'https://mohave.craigslist.org' 'https://phoenix.craigslist.org'\n",
            " 'https://prescott.craigslist.org' 'https://showlow.craigslist.org'\n",
            " 'https://sierravista.craigslist.org' 'https://tucson.craigslist.org']\n",
            "Количество значений:  413 \n",
            "\n",
            "Признак manufacturer\n",
            "Значения:  ['gmc' 'chevrolet' 'toyota' 'ford' 'jeep' 'nissan' 'ram' 'mazda'\n",
            " 'cadillac' 'honda' 'dodge' 'lexus' 'jaguar' 'buick' 'chrysler' 'volvo'\n",
            " 'audi' 'infiniti' 'lincoln' 'alfa-romeo']\n",
            "Количество значений:  41 \n",
            "\n",
            "Признак model\n",
            "Значения:  ['sierra 1500 crew cab slt' 'silverado 1500' 'silverado 1500 crew'\n",
            " 'tundra double cab sr' 'f-150 xlt' 'sierra 2500 hd extended cab'\n",
            " 'silverado 1500 double' 'tacoma' 'colorado extended cab'\n",
            " 'corvette grand sport' 'cherokee' 'wrangler unlimited sport'\n",
            " 'silverado 1500 regular' 'colorado crew cab z71'\n",
            " 'tacoma access cab pickup' 'camaro ss coupe 2d'\n",
            " 'tundra crewmax sr5 pickup' 'ranger supercrew xl pickup'\n",
            " 'frontier crew cab pro-4x' 'compass']\n",
            "Количество значений:  22879 \n",
            "\n",
            "Признак condition\n",
            "Значения:  ['good' 'excellent' 'fair' 'like new' 'new' 'unknown' 'salvage']\n",
            "Количество значений:  7 \n",
            "\n",
            "Признак cylinders\n",
            "Значения:  ['8 cylinders' '6 cylinders' 'unknown' '4 cylinders' '5 cylinders'\n",
            " '10 cylinders' '3 cylinders' 'other' '12 cylinders']\n",
            "Количество значений:  9 \n",
            "\n",
            "Признак fuel\n",
            "Значения:  ['gas' 'other' 'diesel' 'hybrid' 'electric']\n",
            "Количество значений:  5 \n",
            "\n",
            "Признак title_status\n",
            "Значения:  ['clean' 'rebuilt' 'lien' 'unknown' 'salvage' 'missing' 'parts only']\n",
            "Количество значений:  7 \n",
            "\n",
            "Признак transmission\n",
            "Значения:  ['other' 'automatic' 'manual']\n",
            "Количество значений:  3 \n",
            "\n",
            "Признак VIN\n",
            "Значения:  ['3GTP1VEC4EG551563' '1GCSCSE06AZ123805' '3GCPWCED5LG130317'\n",
            " '5TFRM5F17HX120972' 'unknown' '1GT220CG8CZ231238' '1GCVKREH6GZ228691'\n",
            " '1GCHTCE37G1186784' '1G1YR3DW3B5102190' '1C4BJWDG5HL705371'\n",
            " '1GCNCNEH7HZ118773' '1GCGTDE32G1341288' '5TFTX4CN3EX042751'\n",
            " '1G1FF1R79G0140582' '5TFEY5F15EX169621' '1FTER4EH3KLA31326'\n",
            " '1N6AD0EV5JN745213' '1FTEX1CBXJKD41626' '3TMAZ5CN7GM019182'\n",
            " '1C4GJXAN4LW180633']\n",
            "Количество значений:  111217 \n",
            "\n",
            "Признак drive\n",
            "Значения:  ['unknown' 'rwd' '4wd' 'fwd']\n",
            "Количество значений:  4 \n",
            "\n",
            "Признак type\n",
            "Значения:  ['pickup' 'truck' 'other' 'unknown' 'coupe' 'SUV' 'hatchback' 'mini-van'\n",
            " 'sedan' 'offroad' 'van' 'convertible' 'wagon' 'bus']\n",
            "Количество значений:  14 \n",
            "\n",
            "Признак paint_color\n",
            "Значения:  ['white' 'blue' 'red' 'black' 'silver' 'grey' 'unknown' 'brown' 'yellow'\n",
            " 'orange' 'green' 'custom' 'purple']\n",
            "Количество значений:  13 \n",
            "\n",
            "Признак image_url\n",
            "Значения:  ['https://images.craigslist.org/00R0R_lwWjXSEWNa7z_0x20oM_600x450.jpg'\n",
            " 'https://images.craigslist.org/01212_jjirIWa0y02z_0gw0co_600x450.jpg'\n",
            " 'https://images.craigslist.org/00x0x_1y9kIOzGCFaz_0gw0co_600x450.jpg'\n",
            " 'https://images.craigslist.org/00404_l4loxHvdQefz_0CI0t2_600x450.jpg'\n",
            " 'https://images.craigslist.org/00V0V_ftJbKrOgdi5z_0gw0co_600x450.jpg'\n",
            " 'https://images.craigslist.org/00E0E_iKN07Sh7ouz_0gw0co_600x450.jpg'\n",
            " 'https://images.craigslist.org/00101_dXoZTH7iVm2z_0t20t2_600x450.jpg'\n",
            " 'https://images.craigslist.org/00N0N_1xMPvfxRAIdz_0gw0co_600x450.jpg'\n",
            " 'https://images.craigslist.org/00U0U_kKYnS1LWh82z_0gw0co_600x450.jpg'\n",
            " 'https://images.craigslist.org/01010_7EM2aot64Gnz_0dp0t2_600x450.jpg'\n",
            " 'https://images.craigslist.org/00u0u_bB3krjp4B3lz_0gw0co_600x450.jpg'\n",
            " 'https://images.craigslist.org/01515_iDoR0Hy6JSnz_0gw0co_600x450.jpg'\n",
            " 'https://images.craigslist.org/00p0p_cfEoPpHPz3Kz_0gw0co_600x450.jpg'\n",
            " 'https://images.craigslist.org/00X0X_1cMDo5xqSuAz_0gw0co_600x450.jpg'\n",
            " 'https://images.craigslist.org/00i0i_5fpVmidrepGz_0gw0co_600x450.jpg'\n",
            " 'https://images.craigslist.org/00Q0Q_lVfMOkbtUOmz_0gw0co_600x450.jpg'\n",
            " 'https://images.craigslist.org/00202_4Fz2gXkV8pkz_0gw0co_600x450.jpg'\n",
            " 'https://images.craigslist.org/00Q0Q_4slPoGJwoj0z_0gw0co_600x450.jpg'\n",
            " 'https://images.craigslist.org/00R0R_5Jaj1sPpiFVz_09a07o_600x450.jpg'\n",
            " 'https://images.craigslist.org/00w0w_cGdvJjETZcNz_0gw0co_600x450.jpg']\n",
            "Количество значений:  223904 \n",
            "\n",
            "Признак description\n",
            "Значения:  [\"Carvana is the safer way to buy a car During these uncertain times, Carvana is dedicated to ensuring safety for all of our customers. In addition to our 100% online shopping and selling experience that allows all customers to buy and trade their cars without ever leaving the safety of their house, we’re providing touchless delivery that make all aspects of our process even safer. Now, you can get the car you want, and trade in your old one, while avoiding person-to-person contact with our friendly advocates. There are some things that can’t be put off. And if buying a car is one of them, know that we’re doing everything we can to keep you keep moving while continuing to put your health safety, and happiness first. Vehicle Stock# 2000909557📱 Want to instantly check this car’s availability? Call us at  334-758-9176Just text that stock number to 855-976-4304 or head to http://www.carvanaauto.com/7171237-74502 and plug it into the search bar!Get PRE-QUALIFIED for your auto loan in 2 minutes - no hit to your credit:http://finance.carvanaauto.com/7171237-74502Looking for more cars like this one? We have 63 GMC Sierra 1500 Crew Cab in stock for as low as $23990!Why buy with Carvana? We have one standard: the highest. Take a look at just some of the qualifications all of our cars must meet before we list them.150-POINT INSPECTION: We put each vehicle through a 150-point inspection so that you can be 100% confident in its quality and safety. See everything that goes into our inspections at:http://www.carvanaauto.com/7171237-74502NO REPORTED ACCIDENTS: We do not sell cars that have been in a reported accident or have a frame or structural damage.7 DAY TEST OWN MONEY BACK GUARANTEE: Every Carvana car comes with a 7-day money-back guarantee. Why? It takes more than 15-minutes to make a decision on your next car. Learn more about test owning at http://about.carvanaauto.comFLEXIBLE FINANCING, TRADE INS WELCOME: We’re all about real-time financing without the middle man. Need financing? Pick a combination of down and monthly payments that work for you. Have a trade-in? We’ll give you a value in 2 minutes. Check out everything about our financing at:http://finance.carvanaauto.com/7171237-74502COST SAVINGS: Carvana's business model has fewer expenses and no bloated fees compared to your local dealership. See how much we can save you at http://about.carvanaauto.comPREMIUM DETAIL: We go the extra mile so that your car is looking as good as new. There are a lot of specifics that we won’t list here (we wash, clean, buff, paint, polish, wax, seal), but trust us that when your car arrives, it’s going to look sweet.Vehicle Info for Stock# 2000909557Trim: SLT Pickup 4D 5 3/4 ft pickupMileage: 57k milesExterior Color: WhiteInterior Color: Lt. BrownEngine: EcoTec3 5.3L Flex Fuel V8 355hp 383ft. lbs.Drive: Two Wheel DriveTransmission: VIN: 3GTP1VEC4EG551563Dealer Disclosure: Price excludes tax, title, and registration (which we handle for you).Disclaimer: You agree that by providing your phone number, Carvana, or Carvana’s authorized representatives*, may call and/or send text messages (including by using equipment to automatically dial telephone numbers) about your interest in a purchase, for marketing/sales purposes, or for any other servicing or informational purpose related to your account. You do not have to consent to receiving calls or texts to purchase from Carvana. While every reasonable effort is made to ensure the accuracy of the information for this GMC Sierra 1500 Crew Cab, we are not responsible for any errors or omissions contained in this ad. Please verify any information in question with Carvana at 334-758-9176*Including, but not limited to, Bridgecrest Credit Company, GO Financial and SilverRock Automotive.*GMC* *Sierra* *1500* *Crew* *Cab* *Base* *GMC* *Sierra* *1500* *Crew* *Cab* *SLE* *GMC* *Sierra* *1500* *Crew* *Cab* *SLT* *GMC* *Sierra* *1500* *Crew* *Cab* *Denali* *GMC* *Sierra* *1500* *Crew* *Cab* *Work* *Truck* *4x2* *GMC* *Sierra* *1500* *Crew* *Cab* *4x4* *Crew* *Cab* *GMC* *Sierra* *1500* *Crew* *Cab* *Regular* *Cab* *Extended* *Cab* *Truck* 2022  2021  2020  2019  2018  2017  2016  2015  2014  2013  2012  2011  2010  2009  2008  2007  2006  2005  2004  2003  2002  2001  2000   22  21    19  18  17  16  15  14  13  12  11  10  09  08  07  06  05  04  03  02  01  00\"\n",
            " \"Carvana is the safer way to buy a car During these uncertain times, Carvana is dedicated to ensuring safety for all of our customers. In addition to our 100% online shopping and selling experience that allows all customers to buy and trade their cars without ever leaving the safety of their house, we’re providing touchless delivery that make all aspects of our process even safer. Now, you can get the car you want, and trade in your old one, while avoiding person-to-person contact with our friendly advocates. There are some things that can’t be put off. And if buying a car is one of them, know that we’re doing everything we can to keep you keep moving while continuing to put your health safety, and happiness first. Vehicle Stock# 2000977114📱 Want to instantly check this car’s availability? Call us at  334-758-9176Just text that stock number to 855-976-4304 or head to http://www.carvanaauto.com/7163375-74502 and plug it into the search bar!Get PRE-QUALIFIED for your auto loan in 2 minutes - no hit to your credit:http://finance.carvanaauto.com/7163375-74502Looking for more cars like this one? We have 10 Chevrolet Silverado 1500 Extended Cab in stock for as low as $20990!Why buy with Carvana? We have one standard: the highest. Take a look at just some of the qualifications all of our cars must meet before we list them.150-POINT INSPECTION: We put each vehicle through a 150-point inspection so that you can be 100% confident in its quality and safety. See everything that goes into our inspections at:http://www.carvanaauto.com/7163375-74502NO REPORTED ACCIDENTS: We do not sell cars that have been in a reported accident or have a frame or structural damage.7 DAY TEST OWN MONEY BACK GUARANTEE: Every Carvana car comes with a 7-day money-back guarantee. Why? It takes more than 15-minutes to make a decision on your next car. Learn more about test owning at http://about.carvanaauto.comFLEXIBLE FINANCING, TRADE INS WELCOME: We’re all about real-time financing without the middle man. Need financing? Pick a combination of down and monthly payments that work for you. Have a trade-in? We’ll give you a value in 2 minutes. Check out everything about our financing at:http://finance.carvanaauto.com/7163375-74502COST SAVINGS: Carvana's business model has fewer expenses and no bloated fees compared to your local dealership. See how much we can save you at http://about.carvanaauto.comPREMIUM DETAIL: We go the extra mile so that your car is looking as good as new. There are a lot of specifics that we won’t list here (we wash, clean, buff, paint, polish, wax, seal), but trust us that when your car arrives, it’s going to look sweet.Vehicle Info for Stock# 2000977114Trim: LT Pickup 4D 6 1/2 ft pickupMileage: 71k milesExterior Color: BlueInterior Color: BlackEngine: Vortec 5.3L Flex Fuel V8 315hp 335ft. lbs.Drive: Two Wheel DriveTransmission: VIN: 1GCSCSE06AZ123805Dealer Disclosure: Price excludes tax, title, and registration (which we handle for you).Disclaimer: You agree that by providing your phone number, Carvana, or Carvana’s authorized representatives*, may call and/or send text messages (including by using equipment to automatically dial telephone numbers) about your interest in a purchase, for marketing/sales purposes, or for any other servicing or informational purpose related to your account. You do not have to consent to receiving calls or texts to purchase from Carvana. While every reasonable effort is made to ensure the accuracy of the information for this Chevrolet Silverado 1500 Extended Cab, we are not responsible for any errors or omissions contained in this ad. Please verify any information in question with Carvana at 334-758-9176*Including, but not limited to, Bridgecrest Credit Company, GO Financial and SilverRock Automotive.*Chevrolet* *Silverado* *1500* *Extended* *Cab* *Chevy* *Chevrolet* *Silverado* *1500* *Extended* *Cab* *HD* *Crew* *Cab* *LS* *Pickup* *Chevrolet* *Silverado* *1500* *Extended* *Cab* *LS* *Chevrolet* *Silverado* *1500* *Extended* *Cab* *LT* *Chevrolet* *Silverado* *1500* *Extended* *Cab* *LTZ* *Chevrolet* *Silverado* *1500* *Extended* *Cab* *LT1* *Chevrolet* *Silverado* *1500* *Extended* *Cab* *Crew* *Cab* *Chevrolet* *Silverado* *1500* *Extended* *Cab* *XtraCab* *Chevrolet* *Silverado* *1500* *Extended* *Cab* *2500HD* *Classic* *Pick* *up* 2022  2021  2020  2019  2018  2017  2016  2015  2014  2013  2012  2011  2010  2009  2008  2007  2006  2005  2004  2003  2002  2001  2000   22  21    19  18  17  16  15  14  13  12  11  10  09  08  07  06  05  04  03  02  01  00\"\n",
            " \"Carvana is the safer way to buy a car During these uncertain times, Carvana is dedicated to ensuring safety for all of our customers. In addition to our 100% online shopping and selling experience that allows all customers to buy and trade their cars without ever leaving the safety of their house, we’re providing touchless delivery that make all aspects of our process even safer. Now, you can get the car you want, and trade in your old one, while avoiding person-to-person contact with our friendly advocates. There are some things that can’t be put off. And if buying a car is one of them, know that we’re doing everything we can to keep you keep moving while continuing to put your health safety, and happiness first. Vehicle Stock# 2000948059📱 Want to instantly check this car’s availability? Call us at  334-758-9176Just text that stock number to 855-976-4304 or head to http://www.carvanaauto.com/6965441-74502 and plug it into the search bar!Get PRE-QUALIFIED for your auto loan in 2 minutes - no hit to your credit:http://finance.carvanaauto.com/6965441-74502Looking for more cars like this one? We have 144 Chevrolet Silverado 1500 Crew Cab in stock for as low as $20990!Why buy with Carvana? We have one standard: the highest. Take a look at just some of the qualifications all of our cars must meet before we list them.150-POINT INSPECTION: We put each vehicle through a 150-point inspection so that you can be 100% confident in its quality and safety. See everything that goes into our inspections at:http://www.carvanaauto.com/6965441-74502NO REPORTED ACCIDENTS: We do not sell cars that have been in a reported accident or have a frame or structural damage.7 DAY TEST OWN MONEY BACK GUARANTEE: Every Carvana car comes with a 7-day money-back guarantee. Why? It takes more than 15-minutes to make a decision on your next car. Learn more about test owning at http://about.carvanaauto.comFLEXIBLE FINANCING, TRADE INS WELCOME: We’re all about real-time financing without the middle man. Need financing? Pick a combination of down and monthly payments that work for you. Have a trade-in? We’ll give you a value in 2 minutes. Check out everything about our financing at:http://finance.carvanaauto.com/6965441-74502COST SAVINGS: Carvana's business model has fewer expenses and no bloated fees compared to your local dealership. See how much we can save you at http://about.carvanaauto.comPREMIUM DETAIL: We go the extra mile so that your car is looking as good as new. There are a lot of specifics that we won’t list here (we wash, clean, buff, paint, polish, wax, seal), but trust us that when your car arrives, it’s going to look sweet.Vehicle Info for Stock# 2000948059Trim: LT Pickup 4D 5 3/4 ft pickupMileage: 19k milesExterior Color: RedInterior Color: BLACKEngine: EcoTec3 5.3L V8 355hp 383ft. lbs.Drive: Two Wheel DriveTransmission: VIN: 3GCPWCED5LG130317Dealer Disclosure: Price excludes tax, title, and registration (which we handle for you).Disclaimer: You agree that by providing your phone number, Carvana, or Carvana’s authorized representatives*, may call and/or send text messages (including by using equipment to automatically dial telephone numbers) about your interest in a purchase, for marketing/sales purposes, or for any other servicing or informational purpose related to your account. You do not have to consent to receiving calls or texts to purchase from Carvana. While every reasonable effort is made to ensure the accuracy of the information for this Chevrolet Silverado 1500 Crew Cab, we are not responsible for any errors or omissions contained in this ad. Please verify any information in question with Carvana at 334-758-9176*Including, but not limited to, Bridgecrest Credit Company, GO Financial and SilverRock Automotive.*Chevrolet* *Silverado* *1500* *Crew* *Cab* *Chevy* *Chevrolet* *Silverado* *1500* *Crew* *Cab* *HD* *Crew* *Cab* *LS* *Pickup* *Chevrolet* *Silverado* *1500* *Crew* *Cab* *LS* *Chevrolet* *Silverado* *1500* *Crew* *Cab* *LT* *Chevrolet* *Silverado* *1500* *Crew* *Cab* *LTZ* *Chevrolet* *Silverado* *1500* *Crew* *Cab* *LT1* *Chevrolet* *Silverado* *1500* *Crew* *Cab* *Crew* *Cab* *Chevrolet* *Silverado* *1500* *Crew* *Cab* *XtraCab* *Chevrolet* *Silverado* *1500* *Crew* *Cab* *2500HD* *Classic* *Pick* *up* 2022  2021  2020  2019  2018  2017  2016  2015  2014  2013  2012  2011  2010  2009  2008  2007  2006  2005  2004  2003  2002  2001  2000   22  21    19  18  17  16  15  14  13  12  11  10  09  08  07  06  05  04  03  02  01  00\"\n",
            " \"Carvana is the safer way to buy a car During these uncertain times, Carvana is dedicated to ensuring safety for all of our customers. In addition to our 100% online shopping and selling experience that allows all customers to buy and trade their cars without ever leaving the safety of their house, we’re providing touchless delivery that make all aspects of our process even safer. Now, you can get the car you want, and trade in your old one, while avoiding person-to-person contact with our friendly advocates. There are some things that can’t be put off. And if buying a car is one of them, know that we’re doing everything we can to keep you keep moving while continuing to put your health safety, and happiness first. Vehicle Stock# 2000905180📱 Want to instantly check this car’s availability? Call us at  334-758-9176Just text that stock number to 855-976-4304 or head to http://www.carvanaauto.com/6964121-74502 and plug it into the search bar!Get PRE-QUALIFIED for your auto loan in 2 minutes - no hit to your credit:http://finance.carvanaauto.com/6964121-74502Looking for more cars like this one? We have 24 Toyota Tundra Double Cab in stock for as low as $23990!Why buy with Carvana? We have one standard: the highest. Take a look at just some of the qualifications all of our cars must meet before we list them.150-POINT INSPECTION: We put each vehicle through a 150-point inspection so that you can be 100% confident in its quality and safety. See everything that goes into our inspections at:http://www.carvanaauto.com/6964121-74502NO REPORTED ACCIDENTS: We do not sell cars that have been in a reported accident or have a frame or structural damage.7 DAY TEST OWN MONEY BACK GUARANTEE: Every Carvana car comes with a 7-day money-back guarantee. Why? It takes more than 15-minutes to make a decision on your next car. Learn more about test owning at http://about.carvanaauto.comFLEXIBLE FINANCING, TRADE INS WELCOME: We’re all about real-time financing without the middle man. Need financing? Pick a combination of down and monthly payments that work for you. Have a trade-in? We’ll give you a value in 2 minutes. Check out everything about our financing at:http://finance.carvanaauto.com/6964121-74502COST SAVINGS: Carvana's business model has fewer expenses and no bloated fees compared to your local dealership. See how much we can save you at http://about.carvanaauto.comPREMIUM DETAIL: We go the extra mile so that your car is looking as good as new. There are a lot of specifics that we won’t list here (we wash, clean, buff, paint, polish, wax, seal), but trust us that when your car arrives, it’s going to look sweet.Vehicle Info for Stock# 2000905180Trim: SR Pickup 4D 6 1/2 ft pickupMileage: 41k milesExterior Color: RedInterior Color: GRAYEngine: 4.6L V8 310hp 327ft. lbs.Drive: Two Wheel DriveTransmission: VIN: 5TFRM5F17HX120972Dealer Disclosure: Price excludes tax, title, and registration (which we handle for you).Disclaimer: You agree that by providing your phone number, Carvana, or Carvana’s authorized representatives*, may call and/or send text messages (including by using equipment to automatically dial telephone numbers) about your interest in a purchase, for marketing/sales purposes, or for any other servicing or informational purpose related to your account. You do not have to consent to receiving calls or texts to purchase from Carvana. While every reasonable effort is made to ensure the accuracy of the information for this Toyota Tundra Double Cab, we are not responsible for any errors or omissions contained in this ad. Please verify any information in question with Carvana at 334-758-9176*Including, but not limited to, Bridgecrest Credit Company, GO Financial and SilverRock Automotive.*Toyota* *Tundra* *Double* *Cab* *2WD* *Truck* *Toyota* *Tundra* *Double* *Cab* *4WD* *Toyota* *Tundra* *Double* *Cab* *Access* *Cab* *Limited* *Toyota* *Tundra* *Double* *Cab* *Access* *Cab* *SR5* *Toyota* *Tundra* *Double* *Cab* *CrewMax* *Limited* *Toyota* *Tundra* *Double* *Cab* *CrewMax* *Toyota* *Tundra* *Double* *Cab* *CrewMax* *SR5* *Toyota* *Tundra* *Double* *Cab* *Double* *Cab* *Toyota* *Tundra* *Double* *Cab* *Double* *Cab* *Limited* *Toyota* *Tundra* *Double* *Cab* *Double* *Cab* *SR5* *Toyota* *Tundra* *Double* *Cab* *Regular* *Cab* *Toyota* *Tundra* *Double* *Cab* *SR* *Toyota* *Tundra* *Double* *Cab* *Platinum* *Toyota* *Tundra* *Double* *Cab* *electric* *hybrid* *Pickup* 2022  2021  2020  2019  2018  2017  2016  2015  2014  2013  2012  2011  2010  2009  2008  2007  2006  2005  2004  2003  2002  2001  2000   22  21    19  18  17  16  15  14  13  12  11  10  09  08  07  06  05  04  03  02  01  00\"\n",
            " '2013 F-150 XLT V6 4 Door. Good condition. Leveling kit. New Tires.'\n",
            " \"Carvana is the safer way to buy a car During these uncertain times, Carvana is dedicated to ensuring safety for all of our customers. In addition to our 100% online shopping and selling experience that allows all customers to buy and trade their cars without ever leaving the safety of their house, we’re providing touchless delivery that make all aspects of our process even safer. Now, you can get the car you want, and trade in your old one, while avoiding person-to-person contact with our friendly advocates. There are some things that can’t be put off. And if buying a car is one of them, know that we’re doing everything we can to keep you keep moving while continuing to put your health safety, and happiness first. Vehicle Stock# 2000839840📱 Want to instantly check this car’s availability? Call us at  334-758-9176Just text that stock number to 855-976-4304 or head to http://www.carvanaauto.com/7164202-74502 and plug it into the search bar!Get PRE-QUALIFIED for your auto loan in 2 minutes - no hit to your credit:http://finance.carvanaauto.com/7164202-74502Looking for more cars like this one? We have 1 GMC Sierra 2500 HD Extended Cab in stock for as low as $27990!Why buy with Carvana? We have one standard: the highest. Take a look at just some of the qualifications all of our cars must meet before we list them.150-POINT INSPECTION: We put each vehicle through a 150-point inspection so that you can be 100% confident in its quality and safety. See everything that goes into our inspections at:http://www.carvanaauto.com/7164202-74502NO REPORTED ACCIDENTS: We do not sell cars that have been in a reported accident or have a frame or structural damage.7 DAY TEST OWN MONEY BACK GUARANTEE: Every Carvana car comes with a 7-day money-back guarantee. Why? It takes more than 15-minutes to make a decision on your next car. Learn more about test owning at http://about.carvanaauto.comFLEXIBLE FINANCING, TRADE INS WELCOME: We’re all about real-time financing without the middle man. Need financing? Pick a combination of down and monthly payments that work for you. Have a trade-in? We’ll give you a value in 2 minutes. Check out everything about our financing at:http://finance.carvanaauto.com/7164202-74502COST SAVINGS: Carvana's business model has fewer expenses and no bloated fees compared to your local dealership. See how much we can save you at http://about.carvanaauto.comPREMIUM DETAIL: We go the extra mile so that your car is looking as good as new. There are a lot of specifics that we won’t list here (we wash, clean, buff, paint, polish, wax, seal), but trust us that when your car arrives, it’s going to look sweet.Vehicle Info for Stock# 2000839840Trim: SLE Pickup 4D 6 1/2 ft pickupMileage: 68k milesExterior Color: BlackInterior Color: BLACKEngine: 6.0L V8 360hp 380ft. lbs.Drive: 4wdTransmission: Automatic, 6-Spd HD w/OverdriveVIN: 1GT220CG8CZ231238Dealer Disclosure: Price excludes tax, title, and registration (which we handle for you).Disclaimer: You agree that by providing your phone number, Carvana, or Carvana’s authorized representatives*, may call and/or send text messages (including by using equipment to automatically dial telephone numbers) about your interest in a purchase, for marketing/sales purposes, or for any other servicing or informational purpose related to your account. You do not have to consent to receiving calls or texts to purchase from Carvana. While every reasonable effort is made to ensure the accuracy of the information for this GMC Sierra 2500 HD Extended Cab, we are not responsible for any errors or omissions contained in this ad. Please verify any information in question with Carvana at 334-758-9176*Including, but not limited to, Bridgecrest Credit Company, GO Financial and SilverRock Automotive.*GMC* *Sierra* *2500* *HD* *Extended* *Cab* *Base* *GMC* *Sierra* *2500* *HD* *Extended* *Cab* *SLE* *GMC* *Sierra* *2500* *HD* *Extended* *Cab* *SLT* *GMC* *Sierra* *2500* *HD* *Extended* *Cab* *Denali* *GMC* *Sierra* *2500* *HD* *Extended* *Cab* *Work* *Truck* *4x2* *GMC* *Sierra* *2500* *HD* *Extended* *Cab* *4x4* *Crew* *Cab* *GMC* *Sierra* *2500* *HD* *Extended* *Cab* *Regular* *Cab* *Extended* *Cab* *Truck* 2022  2021  2020  2019  2018  2017  2016  2015  2014  2013  2012  2011  2010  2009  2008  2007  2006  2005  2004  2003  2002  2001  2000   22  21    19  18  17  16  15  14  13  12  11  10  09  08  07  06  05  04  03  02  01  00\"\n",
            " \"Carvana is the safer way to buy a car During these uncertain times, Carvana is dedicated to ensuring safety for all of our customers. In addition to our 100% online shopping and selling experience that allows all customers to buy and trade their cars without ever leaving the safety of their house, we’re providing touchless delivery that make all aspects of our process even safer. Now, you can get the car you want, and trade in your old one, while avoiding person-to-person contact with our friendly advocates. There are some things that can’t be put off. And if buying a car is one of them, know that we’re doing everything we can to keep you keep moving while continuing to put your health safety, and happiness first. Vehicle Stock# 2000978720📱 Want to instantly check this car’s availability? Call us at  334-758-9176Just text that stock number to 855-976-4304 or head to http://www.carvanaauto.com/7126041-74502 and plug it into the search bar!Get PRE-QUALIFIED for your auto loan in 2 minutes - no hit to your credit:http://finance.carvanaauto.com/7126041-74502Looking for more cars like this one? We have 72 Chevrolet Silverado 1500 Double Cab in stock for as low as $24590!Why buy with Carvana? We have one standard: the highest. Take a look at just some of the qualifications all of our cars must meet before we list them.150-POINT INSPECTION: We put each vehicle through a 150-point inspection so that you can be 100% confident in its quality and safety. See everything that goes into our inspections at:http://www.carvanaauto.com/7126041-74502NO REPORTED ACCIDENTS: We do not sell cars that have been in a reported accident or have a frame or structural damage.7 DAY TEST OWN MONEY BACK GUARANTEE: Every Carvana car comes with a 7-day money-back guarantee. Why? It takes more than 15-minutes to make a decision on your next car. Learn more about test owning at http://about.carvanaauto.comFLEXIBLE FINANCING, TRADE INS WELCOME: We’re all about real-time financing without the middle man. Need financing? Pick a combination of down and monthly payments that work for you. Have a trade-in? We’ll give you a value in 2 minutes. Check out everything about our financing at:http://finance.carvanaauto.com/7126041-74502COST SAVINGS: Carvana's business model has fewer expenses and no bloated fees compared to your local dealership. See how much we can save you at http://about.carvanaauto.comPREMIUM DETAIL: We go the extra mile so that your car is looking as good as new. There are a lot of specifics that we won’t list here (we wash, clean, buff, paint, polish, wax, seal), but trust us that when your car arrives, it’s going to look sweet.Vehicle Info for Stock# 2000978720Trim: LT Pickup 4D 6 1/2 ft pickupMileage: 29k milesExterior Color: SilverInterior Color: Dk. GrayEngine: EcoTec3 4.3L Flex Fuel V6 285hp 305ft. lbs.Drive: 4wdTransmission: VIN: 1GCVKREH6GZ228691Dealer Disclosure: Price excludes tax, title, and registration (which we handle for you).Disclaimer: You agree that by providing your phone number, Carvana, or Carvana’s authorized representatives*, may call and/or send text messages (including by using equipment to automatically dial telephone numbers) about your interest in a purchase, for marketing/sales purposes, or for any other servicing or informational purpose related to your account. You do not have to consent to receiving calls or texts to purchase from Carvana. While every reasonable effort is made to ensure the accuracy of the information for this Chevrolet Silverado 1500 Double Cab, we are not responsible for any errors or omissions contained in this ad. Please verify any information in question with Carvana at 334-758-9176*Including, but not limited to, Bridgecrest Credit Company, GO Financial and SilverRock Automotive.*Chevrolet* *Silverado* *1500* *Double* *Cab* *Chevy* *Chevrolet* *Silverado* *1500* *Double* *Cab* *HD* *Crew* *Cab* *LS* *Pickup* *Chevrolet* *Silverado* *1500* *Double* *Cab* *LS* *Chevrolet* *Silverado* *1500* *Double* *Cab* *LT* *Chevrolet* *Silverado* *1500* *Double* *Cab* *LTZ* *Chevrolet* *Silverado* *1500* *Double* *Cab* *LT1* *Chevrolet* *Silverado* *1500* *Double* *Cab* *Crew* *Cab* *Chevrolet* *Silverado* *1500* *Double* *Cab* *XtraCab* *Chevrolet* *Silverado* *1500* *Double* *Cab* *2500HD* *Classic* *Pick* *up* 2022  2021  2020  2019  2018  2017  2016  2015  2014  2013  2012  2011  2010  2009  2008  2007  2006  2005  2004  2003  2002  2001  2000   22  21    19  18  17  16  15  14  13  12  11  10  09  08  07  06  05  04  03  02  01  00\"\n",
            " \"Selling my 2019 Toyota Tacoma TRD Off Road Double Cab 5ft Bed in Cement Grey  This beautiful truck is in great condition and has been taken care of for the past three years and has had only one owner (myself). It only has 43,000 miles on it and has hundreds of thousands of miles ahead of itself and is a great option for anyone interested in Tacomas or just a sturdy reliable vehicle. I'm selling this as I am investing more of my money into other hobbies and I am also looking to get into an old 4Runner, Landcruiser or Sequoia.  The truck is stock and has had regular maintenance conducted. Weather Tech Mats are installed and included and have made a huge difference in preserving the vehicle. The title is Clean and the truck has not been in any Car Accidents. It does has signs of use like small scratches and dents however they are small and the Cement Gray body color helps reduce their visibility.  Looking for $35,000 or a Trade w/Cash for a late 1990s or early 2000s 4Runner, Landcruiser or Sequoia.   If interested please email me and we can arrange a test drive and/or inspection. Looking for Check in which we would go to your bank to ensure it clears. No Payment Plans will be accepted.\"\n",
            " \"Carvana is the safer way to buy a car During these uncertain times, Carvana is dedicated to ensuring safety for all of our customers. In addition to our 100% online shopping and selling experience that allows all customers to buy and trade their cars without ever leaving the safety of their house, we’re providing touchless delivery that make all aspects of our process even safer. Now, you can get the car you want, and trade in your old one, while avoiding person-to-person contact with our friendly advocates. There are some things that can’t be put off. And if buying a car is one of them, know that we’re doing everything we can to keep you keep moving while continuing to put your health safety, and happiness first. Vehicle Stock# 2000941526📱 Want to instantly check this car’s availability? Call us at  334-758-9176Just text that stock number to 855-976-4304 or head to http://www.carvanaauto.com/6993332-74502 and plug it into the search bar!Get PRE-QUALIFIED for your auto loan in 2 minutes - no hit to your credit:http://finance.carvanaauto.com/6993332-74502Looking for more cars like this one? We have 15 Chevrolet Colorado Extended Cab in stock for as low as $18590!Why buy with Carvana? We have one standard: the highest. Take a look at just some of the qualifications all of our cars must meet before we list them.150-POINT INSPECTION: We put each vehicle through a 150-point inspection so that you can be 100% confident in its quality and safety. See everything that goes into our inspections at:http://www.carvanaauto.com/6993332-74502NO REPORTED ACCIDENTS: We do not sell cars that have been in a reported accident or have a frame or structural damage.7 DAY TEST OWN MONEY BACK GUARANTEE: Every Carvana car comes with a 7-day money-back guarantee. Why? It takes more than 15-minutes to make a decision on your next car. Learn more about test owning at http://about.carvanaauto.comFLEXIBLE FINANCING, TRADE INS WELCOME: We’re all about real-time financing without the middle man. Need financing? Pick a combination of down and monthly payments that work for you. Have a trade-in? We’ll give you a value in 2 minutes. Check out everything about our financing at:http://finance.carvanaauto.com/6993332-74502COST SAVINGS: Carvana's business model has fewer expenses and no bloated fees compared to your local dealership. See how much we can save you at http://about.carvanaauto.comPREMIUM DETAIL: We go the extra mile so that your car is looking as good as new. There are a lot of specifics that we won’t list here (we wash, clean, buff, paint, polish, wax, seal), but trust us that when your car arrives, it’s going to look sweet.Vehicle Info for Stock# 2000941526Trim: LT Pickup 2D 6 ft pickupMileage: 17k milesExterior Color: RedInterior Color: GRAYEngine: 3.6L V6 305hp 269ft. lbs.Drive: 4wdTransmission: VIN: 1GCHTCE37G1186784Dealer Disclosure: Price excludes tax, title, and registration (which we handle for you).Disclaimer: You agree that by providing your phone number, Carvana, or Carvana’s authorized representatives*, may call and/or send text messages (including by using equipment to automatically dial telephone numbers) about your interest in a purchase, for marketing/sales purposes, or for any other servicing or informational purpose related to your account. You do not have to consent to receiving calls or texts to purchase from Carvana. While every reasonable effort is made to ensure the accuracy of the information for this Chevrolet Colorado Extended Cab, we are not responsible for any errors or omissions contained in this ad. Please verify any information in question with Carvana at 334-758-9176*Including, but not limited to, Bridgecrest Credit Company, GO Financial and SilverRock Automotive.*Chevrolet* *Colorado* *Extended* *Cab* *Chevy* *Chevrolet* *Colorado* *Extended* *Cab* *4WD* *Crew* *Cab* *LT* *w/1LT* *Chevrolet* *Colorado* *Extended* *Cab* *Regular* *Cab* *Chevrolet* *Colorado* *Extended* *Cab* *extended* *cab* *Chevrolet* *Colorado* *Extended* *Cab* *WT* *Chevrolet* *Colorado* *Extended* *Cab* *Z71* *Chevrolet* *Colorado* *Extended* *Cab* *DX* *Chevrolet* *Colorado* *Extended* *Cab* *LX* *Chevrolet* *Colorado* *Extended* *Cab* *LT* *Chevrolet* *Colorado* *Extended* *Cab* *LTZ* *Pick* *UP* 2022  2021  2020  2019  2018  2017  2016  2015  2014  2013  2012  2011  2010  2009  2008  2007  2006  2005  2004  2003  2002  2001  2000   22  21    19  18  17  16  15  14  13  12  11  10  09  08  07  06  05  04  03  02  01  00\"\n",
            " \"Carvana is the safer way to buy a car During these uncertain times, Carvana is dedicated to ensuring safety for all of our customers. In addition to our 100% online shopping and selling experience that allows all customers to buy and trade their cars without ever leaving the safety of their house, we’re providing touchless delivery that make all aspects of our process even safer. Now, you can get the car you want, and trade in your old one, while avoiding person-to-person contact with our friendly advocates. There are some things that can’t be put off. And if buying a car is one of them, know that we’re doing everything we can to keep you keep moving while continuing to put your health safety, and happiness first. Vehicle Stock# 2000926777📱 Want to instantly check this car’s availability? Call us at  334-758-9176Just text that stock number to 855-976-4304 or head to http://www.carvanaauto.com/6890476-74502 and plug it into the search bar!Get PRE-QUALIFIED for your auto loan in 2 minutes - no hit to your credit:http://finance.carvanaauto.com/6890476-74502Looking for more cars like this one? We have 88 Chevrolet Corvette in stock for as low as $27590!Why buy with Carvana? We have one standard: the highest. Take a look at just some of the qualifications all of our cars must meet before we list them.150-POINT INSPECTION: We put each vehicle through a 150-point inspection so that you can be 100% confident in its quality and safety. See everything that goes into our inspections at:http://www.carvanaauto.com/6890476-74502NO REPORTED ACCIDENTS: We do not sell cars that have been in a reported accident or have a frame or structural damage.7 DAY TEST OWN MONEY BACK GUARANTEE: Every Carvana car comes with a 7-day money-back guarantee. Why? It takes more than 15-minutes to make a decision on your next car. Learn more about test owning at http://about.carvanaauto.comFLEXIBLE FINANCING, TRADE INS WELCOME: We’re all about real-time financing without the middle man. Need financing? Pick a combination of down and monthly payments that work for you. Have a trade-in? We’ll give you a value in 2 minutes. Check out everything about our financing at:http://finance.carvanaauto.com/6890476-74502COST SAVINGS: Carvana's business model has fewer expenses and no bloated fees compared to your local dealership. See how much we can save you at http://about.carvanaauto.comPREMIUM DETAIL: We go the extra mile so that your car is looking as good as new. There are a lot of specifics that we won’t list here (we wash, clean, buff, paint, polish, wax, seal), but trust us that when your car arrives, it’s going to look sweet.Vehicle Info for Stock# 2000926777Trim: Grand Sport Convertible 2D ConvertibleMileage: 30k milesExterior Color: RedInterior Color: BlackEngine: 6.2L V8 430hp 424ft. lbs.Drive: rwdTransmission: VIN: 1G1YR3DW3B5102190Dealer Disclosure: Price excludes tax, title, and registration (which we handle for you).Disclaimer: You agree that by providing your phone number, Carvana, or Carvana’s authorized representatives*, may call and/or send text messages (including by using equipment to automatically dial telephone numbers) about your interest in a purchase, for marketing/sales purposes, or for any other servicing or informational purpose related to your account. You do not have to consent to receiving calls or texts to purchase from Carvana. While every reasonable effort is made to ensure the accuracy of the information for this Chevrolet Corvette, we are not responsible for any errors or omissions contained in this ad. Please verify any information in question with Carvana at 334-758-9176*Including, but not limited to, Bridgecrest Credit Company, GO Financial and SilverRock Automotive.*Chevrolet* *Corvette* *Chevy* *Chevrolet* *Corvette* *vZR1* *Chevrolet* *Corvette* *Z06* *Hardtop* *Chevrolet* *Corvette* *Stingray* *Chevrolet* *Corvette* *3* *Lt* *Chevrolet* *Corvette* *C5-R* *Chevrolet* *Corvette* *Grand* *Sport* *Chevrolet* *Corvette* *Corvette* *C6* *ZR1* *Chevrolet* *Corvette* *2LT* *Chevrolet* *Corvette* *4LT* *Sports* *Car* *Coupe* 2022  2021  2020  2019  2018  2017  2016  2015  2014  2013  2012  2011  2010  2009  2008  2007  2006  2005  2004  2003  2002  2001  2000   22  21    19  18  17  16  15  14  13  12  11  10  09  08  07  06  05  04  03  02  01  00\"\n",
            " '192k miles brand new TSLs 4x4 jeep xj. 4x4 works amazing. Hot heat, ac needs recharged. Text for more info. TEXT ONLY. Cash only!'\n",
            " \"Carvana is the safer way to buy a car During these uncertain times, Carvana is dedicated to ensuring safety for all of our customers. In addition to our 100% online shopping and selling experience that allows all customers to buy and trade their cars without ever leaving the safety of their house, we’re providing touchless delivery that make all aspects of our process even safer. Now, you can get the car you want, and trade in your old one, while avoiding person-to-person contact with our friendly advocates. There are some things that can’t be put off. And if buying a car is one of them, know that we’re doing everything we can to keep you keep moving while continuing to put your health safety, and happiness first. Vehicle Stock# 2000974739📱 Want to instantly check this car’s availability? Call us at  334-758-9176Just text that stock number to 855-976-4304 or head to http://www.carvanaauto.com/7144622-74502 and plug it into the search bar!Get PRE-QUALIFIED for your auto loan in 2 minutes - no hit to your credit:http://finance.carvanaauto.com/7144622-74502Looking for more cars like this one? We have 119 Jeep Wrangler Unlimited in stock for as low as $27990!Why buy with Carvana? We have one standard: the highest. Take a look at just some of the qualifications all of our cars must meet before we list them.150-POINT INSPECTION: We put each vehicle through a 150-point inspection so that you can be 100% confident in its quality and safety. See everything that goes into our inspections at:http://www.carvanaauto.com/7144622-74502NO REPORTED ACCIDENTS: We do not sell cars that have been in a reported accident or have a frame or structural damage.7 DAY TEST OWN MONEY BACK GUARANTEE: Every Carvana car comes with a 7-day money-back guarantee. Why? It takes more than 15-minutes to make a decision on your next car. Learn more about test owning at http://about.carvanaauto.comFLEXIBLE FINANCING, TRADE INS WELCOME: We’re all about real-time financing without the middle man. Need financing? Pick a combination of down and monthly payments that work for you. Have a trade-in? We’ll give you a value in 2 minutes. Check out everything about our financing at:http://finance.carvanaauto.com/7144622-74502COST SAVINGS: Carvana's business model has fewer expenses and no bloated fees compared to your local dealership. See how much we can save you at http://about.carvanaauto.comPREMIUM DETAIL: We go the extra mile so that your car is looking as good as new. There are a lot of specifics that we won’t list here (we wash, clean, buff, paint, polish, wax, seal), but trust us that when your car arrives, it’s going to look sweet.Vehicle Info for Stock# 2000974739Trim: Sport SUV 4D suvMileage: 30k milesExterior Color: SilverInterior Color: BLACKEngine: 3.6L V6 285hp 260ft. lbs.Drive: 4wdTransmission: VIN: 1C4BJWDG5HL705371Dealer Disclosure: Price excludes tax, title, and registration (which we handle for you).Disclaimer: You agree that by providing your phone number, Carvana, or Carvana’s authorized representatives*, may call and/or send text messages (including by using equipment to automatically dial telephone numbers) about your interest in a purchase, for marketing/sales purposes, or for any other servicing or informational purpose related to your account. You do not have to consent to receiving calls or texts to purchase from Carvana. While every reasonable effort is made to ensure the accuracy of the information for this Jeep Wrangler Unlimited, we are not responsible for any errors or omissions contained in this ad. Please verify any information in question with Carvana at 334-758-9176*Including, but not limited to, Bridgecrest Credit Company, GO Financial and SilverRock Automotive.*Jeep* *Wrangler* *Unlimited* *TJ* *Jeep* *Wrangler* *Unlimited* *YJ* *Jeep* *Wrangler* *Unlimited* *YJ* *Wrangler* *Islander* *Jeep* *Wrangler* *Unlimited* *YJ* *Wrangler* *Renegade* *Jeep* *Wrangler* *Unlimited* *SE* *Jeep* *Wrangler* *Unlimited* *Laredo* *Jeep* *Wrangler* *Unlimited* *Sport* *Jeep* *Wrangler* *Unlimited* *Sahara* *Jeep* *Wrangler* *Unlimited* *Rio* *Grande* *Jeep* *Wrangler* *Unlimited* *X* *Jeep* *Wrangler* *Unlimited* *60th* *Anniversary* *Edition* *Jeep* *Wrangler* *Unlimited* *65th* *Anniversary* *Edition* *Jeep* *Wrangler* *Unlimited* *Apex* *Edition* *Jeep* *Wrangler* *Unlimited* *Columbia* *Edition* *Jeep* *Wrangler* *Unlimited* *Freedom* *Edition* *Jeep* *Wrangler* *Unlimited* *Golden* *Eagle* *Jeep* *Wrangler* *Unlimited* *Rocky* *Mountain* *Edition* *Jeep* *Wrangler* *Unlimited* *Sahara* *Edition* *Unlimited* *Rubicon* *Jeep* *Wrangler* *Unlimited* *Rubicon* *Tomb* *Raider* *Edition* *Jeep* *Wrangler* *Unlimited* *Willys* *Edition* *Jeep* *Wrangler* *Unlimited* *Rubicon* *Jeep* *Wrangler* *Unlimited* *Unlimited* *SUV* 2022  2021  2020  2019  2018  2017  2016  2015  2014  2013  2012  2011  2010  2009  2008  2007  2006  2005  2004  2003  2002  2001  2000   22  21    19  18  17  16  15  14  13  12  11  10  09  08  07  06  05  04  03  02  01  00\"\n",
            " \"Carvana is the safer way to buy a car During these uncertain times, Carvana is dedicated to ensuring safety for all of our customers. In addition to our 100% online shopping and selling experience that allows all customers to buy and trade their cars without ever leaving the safety of their house, we’re providing touchless delivery that make all aspects of our process even safer. Now, you can get the car you want, and trade in your old one, while avoiding person-to-person contact with our friendly advocates. There are some things that can’t be put off. And if buying a car is one of them, know that we’re doing everything we can to keep you keep moving while continuing to put your health safety, and happiness first. Vehicle Stock# 2000907285📱 Want to instantly check this car’s availability? Call us at  334-758-9176Just text that stock number to 855-976-4304 or head to http://www.carvanaauto.com/7143861-74502 and plug it into the search bar!Get PRE-QUALIFIED for your auto loan in 2 minutes - no hit to your credit:http://finance.carvanaauto.com/7143861-74502Looking for more cars like this one? We have 18 Chevrolet Silverado 1500 Regular Cab in stock for as low as $13590!Why buy with Carvana? We have one standard: the highest. Take a look at just some of the qualifications all of our cars must meet before we list them.150-POINT INSPECTION: We put each vehicle through a 150-point inspection so that you can be 100% confident in its quality and safety. See everything that goes into our inspections at:http://www.carvanaauto.com/7143861-74502NO REPORTED ACCIDENTS: We do not sell cars that have been in a reported accident or have a frame or structural damage.7 DAY TEST OWN MONEY BACK GUARANTEE: Every Carvana car comes with a 7-day money-back guarantee. Why? It takes more than 15-minutes to make a decision on your next car. Learn more about test owning at http://about.carvanaauto.comFLEXIBLE FINANCING, TRADE INS WELCOME: We’re all about real-time financing without the middle man. Need financing? Pick a combination of down and monthly payments that work for you. Have a trade-in? We’ll give you a value in 2 minutes. Check out everything about our financing at:http://finance.carvanaauto.com/7143861-74502COST SAVINGS: Carvana's business model has fewer expenses and no bloated fees compared to your local dealership. See how much we can save you at http://about.carvanaauto.comPREMIUM DETAIL: We go the extra mile so that your car is looking as good as new. There are a lot of specifics that we won’t list here (we wash, clean, buff, paint, polish, wax, seal), but trust us that when your car arrives, it’s going to look sweet.Vehicle Info for Stock# 2000907285Trim: Work Truck Pickup 2D 8 ft pickupMileage: 40k milesExterior Color: WhiteInterior Color: Dk. GrayEngine: EcoTec3 4.3L Flex Fuel V6 285hp 305ft. lbs.Drive: Two Wheel DriveTransmission: VIN: 1GCNCNEH7HZ118773Dealer Disclosure: Price excludes tax, title, and registration (which we handle for you).Disclaimer: You agree that by providing your phone number, Carvana, or Carvana’s authorized representatives*, may call and/or send text messages (including by using equipment to automatically dial telephone numbers) about your interest in a purchase, for marketing/sales purposes, or for any other servicing or informational purpose related to your account. You do not have to consent to receiving calls or texts to purchase from Carvana. While every reasonable effort is made to ensure the accuracy of the information for this Chevrolet Silverado 1500 Regular Cab, we are not responsible for any errors or omissions contained in this ad. Please verify any information in question with Carvana at 334-758-9176*Including, but not limited to, Bridgecrest Credit Company, GO Financial and SilverRock Automotive.*Chevrolet* *Silverado* *1500* *Regular* *Cab* *Chevy* *Chevrolet* *Silverado* *1500* *Regular* *Cab* *HD* *Crew* *Cab* *LS* *Pickup* *Chevrolet* *Silverado* *1500* *Regular* *Cab* *LS* *Chevrolet* *Silverado* *1500* *Regular* *Cab* *LT* *Chevrolet* *Silverado* *1500* *Regular* *Cab* *LTZ* *Chevrolet* *Silverado* *1500* *Regular* *Cab* *LT1* *Chevrolet* *Silverado* *1500* *Regular* *Cab* *Crew* *Cab* *Chevrolet* *Silverado* *1500* *Regular* *Cab* *XtraCab* *Chevrolet* *Silverado* *1500* *Regular* *Cab* *2500HD* *Classic* *Pick* *up* 2022  2021  2020  2019  2018  2017  2016  2015  2014  2013  2012  2011  2010  2009  2008  2007  2006  2005  2004  2003  2002  2001  2000   22  21    19  18  17  16  15  14  13  12  11  10  09  08  07  06  05  04  03  02  01  00\"\n",
            " \"Carvana is the safer way to buy a car During these uncertain times, Carvana is dedicated to ensuring safety for all of our customers. In addition to our 100% online shopping and selling experience that allows all customers to buy and trade their cars without ever leaving the safety of their house, we’re providing touchless delivery that make all aspects of our process even safer. Now, you can get the car you want, and trade in your old one, while avoiding person-to-person contact with our friendly advocates. There are some things that can’t be put off. And if buying a car is one of them, know that we’re doing everything we can to keep you keep moving while continuing to put your health safety, and happiness first. Vehicle Stock# 2000931640📱 Want to instantly check this car’s availability? Call us at  334-758-9176Just text that stock number to 855-976-4304 or head to http://www.carvanaauto.com/7144111-74502 and plug it into the search bar!Get PRE-QUALIFIED for your auto loan in 2 minutes - no hit to your credit:http://finance.carvanaauto.com/7144111-74502Looking for more cars like this one? We have 59 Chevrolet Colorado Crew Cab in stock for as low as $20990!Why buy with Carvana? We have one standard: the highest. Take a look at just some of the qualifications all of our cars must meet before we list them.150-POINT INSPECTION: We put each vehicle through a 150-point inspection so that you can be 100% confident in its quality and safety. See everything that goes into our inspections at:http://www.carvanaauto.com/7144111-74502NO REPORTED ACCIDENTS: We do not sell cars that have been in a reported accident or have a frame or structural damage.7 DAY TEST OWN MONEY BACK GUARANTEE: Every Carvana car comes with a 7-day money-back guarantee. Why? It takes more than 15-minutes to make a decision on your next car. Learn more about test owning at http://about.carvanaauto.comFLEXIBLE FINANCING, TRADE INS WELCOME: We’re all about real-time financing without the middle man. Need financing? Pick a combination of down and monthly payments that work for you. Have a trade-in? We’ll give you a value in 2 minutes. Check out everything about our financing at:http://finance.carvanaauto.com/7144111-74502COST SAVINGS: Carvana's business model has fewer expenses and no bloated fees compared to your local dealership. See how much we can save you at http://about.carvanaauto.comPREMIUM DETAIL: We go the extra mile so that your car is looking as good as new. There are a lot of specifics that we won’t list here (we wash, clean, buff, paint, polish, wax, seal), but trust us that when your car arrives, it’s going to look sweet.Vehicle Info for Stock# 2000931640Trim: Z71 Pickup 4D 6 ft pickupMileage: 34k milesExterior Color: BlueInterior Color: BLACKEngine: Drive: 4wdTransmission: VIN: 1GCGTDE32G1341288Dealer Disclosure: Price excludes tax, title, and registration (which we handle for you).Disclaimer: You agree that by providing your phone number, Carvana, or Carvana’s authorized representatives*, may call and/or send text messages (including by using equipment to automatically dial telephone numbers) about your interest in a purchase, for marketing/sales purposes, or for any other servicing or informational purpose related to your account. You do not have to consent to receiving calls or texts to purchase from Carvana. While every reasonable effort is made to ensure the accuracy of the information for this Chevrolet Colorado Crew Cab, we are not responsible for any errors or omissions contained in this ad. Please verify any information in question with Carvana at 334-758-9176*Including, but not limited to, Bridgecrest Credit Company, GO Financial and SilverRock Automotive.*Chevrolet* *Colorado* *Crew* *Cab* *Chevy* *Chevrolet* *Colorado* *Crew* *Cab* *4WD* *Crew* *Cab* *LT* *w/1LT* *Chevrolet* *Colorado* *Crew* *Cab* *Regular* *Cab* *Chevrolet* *Colorado* *Crew* *Cab* *extended* *cab* *Chevrolet* *Colorado* *Crew* *Cab* *WT* *Chevrolet* *Colorado* *Crew* *Cab* *Z71* *Chevrolet* *Colorado* *Crew* *Cab* *DX* *Chevrolet* *Colorado* *Crew* *Cab* *LX* *Chevrolet* *Colorado* *Crew* *Cab* *LT* *Chevrolet* *Colorado* *Crew* *Cab* *LTZ* *Pick* *UP* 2022  2021  2020  2019  2018  2017  2016  2015  2014  2013  2012  2011  2010  2009  2008  2007  2006  2005  2004  2003  2002  2001  2000   22  21    19  18  17  16  15  14  13  12  11  10  09  08  07  06  05  04  03  02  01  00\"\n",
            " \"Carvana is the safer way to buy a car During these uncertain times, Carvana is dedicated to ensuring safety for all of our customers. In addition to our 100% online shopping and selling experience that allows all customers to buy and trade their cars without ever leaving the safety of their house, we’re providing touchless delivery that make all aspects of our process even safer. Now, you can get the car you want, and trade in your old one, while avoiding person-to-person contact with our friendly advocates. There are some things that can’t be put off. And if buying a car is one of them, know that we’re doing everything we can to keep you keep moving while continuing to put your health safety, and happiness first. Vehicle Stock# 2000978547📱 Want to instantly check this car’s availability? Call us at  334-758-9176Just text that stock number to 855-976-4304 or head to http://www.carvanaauto.com/7105924-74502 and plug it into the search bar!Get PRE-QUALIFIED for your auto loan in 2 minutes - no hit to your credit:http://finance.carvanaauto.com/7105924-74502Looking for more cars like this one? We have 40 Toyota Tacoma Access Cab in stock for as low as $18990!Why buy with Carvana? We have one standard: the highest. Take a look at just some of the qualifications all of our cars must meet before we list them.150-POINT INSPECTION: We put each vehicle through a 150-point inspection so that you can be 100% confident in its quality and safety. See everything that goes into our inspections at:http://www.carvanaauto.com/7105924-74502NO REPORTED ACCIDENTS: We do not sell cars that have been in a reported accident or have a frame or structural damage.7 DAY TEST OWN MONEY BACK GUARANTEE: Every Carvana car comes with a 7-day money-back guarantee. Why? It takes more than 15-minutes to make a decision on your next car. Learn more about test owning at http://about.carvanaauto.comFLEXIBLE FINANCING, TRADE INS WELCOME: We’re all about real-time financing without the middle man. Need financing? Pick a combination of down and monthly payments that work for you. Have a trade-in? We’ll give you a value in 2 minutes. Check out everything about our financing at:http://finance.carvanaauto.com/7105924-74502COST SAVINGS: Carvana's business model has fewer expenses and no bloated fees compared to your local dealership. See how much we can save you at http://about.carvanaauto.comPREMIUM DETAIL: We go the extra mile so that your car is looking as good as new. There are a lot of specifics that we won’t list here (we wash, clean, buff, paint, polish, wax, seal), but trust us that when your car arrives, it’s going to look sweet.Vehicle Info for Stock# 2000978547Trim: Pickup 4D 6 ft pickupMileage: 17k milesExterior Color: RedInterior Color: BLACKEngine: Drive: Two Wheel DriveTransmission: VIN: 5TFTX4CN3EX042751Dealer Disclosure: Price excludes tax, title, and registration (which we handle for you).Disclaimer: You agree that by providing your phone number, Carvana, or Carvana’s authorized representatives*, may call and/or send text messages (including by using equipment to automatically dial telephone numbers) about your interest in a purchase, for marketing/sales purposes, or for any other servicing or informational purpose related to your account. You do not have to consent to receiving calls or texts to purchase from Carvana. While every reasonable effort is made to ensure the accuracy of the information for this Toyota Tacoma Access Cab, we are not responsible for any errors or omissions contained in this ad. Please verify any information in question with Carvana at 334-758-9176*Including, but not limited to, Bridgecrest Credit Company, GO Financial and SilverRock Automotive.*Toyota* *Tacoma* *Access* *Cab* *Access* *Cab* *Toyota* *Tacoma* *Access* *Cab* *Access* *Cab* *PreRunner* *Toyota* *Tacoma* *Access* *Cab* *Access* *Cab* *X-Runner* *Toyota* *Tacoma* *Access* *Cab* *Double* *Cab* *Toyota* *Tacoma* *Access* *Cab* *Double* *Cab* *PreRunner* *Toyota* *Tacoma* *Access* *Cab* *Regular* *Cab* *Pickup* *Toyota* *Tacoma* *Access* *Cab* *SR5* *TRD* *Toyota* *Tacoma* *Access* *Cab* *Xtracab* *Pickup* *Toyota* *Tacoma* *Access* *Cab* *Xtracab* *PreRunner* *Pickup* *Toyota* *Tacoma* *Access* *Cab* *extended* *cab* *Toyota* *Tacoma* *Access* *Cab* *4WD* *Regular* *Toyota* *Tacoma* *Access* *Cab* *TRD* *supercharger* *Pick* *up* 2022  2021  2020  2019  2018  2017  2016  2015  2014  2013  2012  2011  2010  2009  2008  2007  2006  2005  2004  2003  2002  2001  2000   22  21    19  18  17  16  15  14  13  12  11  10  09  08  07  06  05  04  03  02  01  00\"\n",
            " \"Carvana is the safer way to buy a car During these uncertain times, Carvana is dedicated to ensuring safety for all of our customers. In addition to our 100% online shopping and selling experience that allows all customers to buy and trade their cars without ever leaving the safety of their house, we’re providing touchless delivery that make all aspects of our process even safer. Now, you can get the car you want, and trade in your old one, while avoiding person-to-person contact with our friendly advocates. There are some things that can’t be put off. And if buying a car is one of them, know that we’re doing everything we can to keep you keep moving while continuing to put your health safety, and happiness first. Vehicle Stock# 2000992400📱 Want to instantly check this car’s availability? Call us at  334-758-9176Just text that stock number to 855-976-4304 or head to http://www.carvanaauto.com/7154396-74502 and plug it into the search bar!Get PRE-QUALIFIED for your auto loan in 2 minutes - no hit to your credit:http://finance.carvanaauto.com/7154396-74502Looking for more cars like this one? We have 161 Chevrolet Camaro in stock for as low as $13590!Why buy with Carvana? We have one standard: the highest. Take a look at just some of the qualifications all of our cars must meet before we list them.150-POINT INSPECTION: We put each vehicle through a 150-point inspection so that you can be 100% confident in its quality and safety. See everything that goes into our inspections at:http://www.carvanaauto.com/7154396-74502NO REPORTED ACCIDENTS: We do not sell cars that have been in a reported accident or have a frame or structural damage.7 DAY TEST OWN MONEY BACK GUARANTEE: Every Carvana car comes with a 7-day money-back guarantee. Why? It takes more than 15-minutes to make a decision on your next car. Learn more about test owning at http://about.carvanaauto.comFLEXIBLE FINANCING, TRADE INS WELCOME: We’re all about real-time financing without the middle man. Need financing? Pick a combination of down and monthly payments that work for you. Have a trade-in? We’ll give you a value in 2 minutes. Check out everything about our financing at:http://finance.carvanaauto.com/7154396-74502COST SAVINGS: Carvana's business model has fewer expenses and no bloated fees compared to your local dealership. See how much we can save you at http://about.carvanaauto.comPREMIUM DETAIL: We go the extra mile so that your car is looking as good as new. There are a lot of specifics that we won’t list here (we wash, clean, buff, paint, polish, wax, seal), but trust us that when your car arrives, it’s going to look sweet.Vehicle Info for Stock# 2000992400Trim: SS Coupe 2D coupeMileage: 9k milesExterior Color: RedInterior Color: GRAYEngine: 6.2L V8 455hp 455ft. lbs.Drive: rwdTransmission: VIN: 1G1FF1R79G0140582Dealer Disclosure: Price excludes tax, title, and registration (which we handle for you).Disclaimer: You agree that by providing your phone number, Carvana, or Carvana’s authorized representatives*, may call and/or send text messages (including by using equipment to automatically dial telephone numbers) about your interest in a purchase, for marketing/sales purposes, or for any other servicing or informational purpose related to your account. You do not have to consent to receiving calls or texts to purchase from Carvana. While every reasonable effort is made to ensure the accuracy of the information for this Chevrolet Camaro, we are not responsible for any errors or omissions contained in this ad. Please verify any information in question with Carvana at 334-758-9176*Including, but not limited to, Bridgecrest Credit Company, GO Financial and SilverRock Automotive.*Chevrolet* *Camaro* *Chevy* *Chevrolet* *Camaro* *Ls* *7* *Chevrolet* *Camaro* *1* *Lt* *Chevrolet* *Camaro* *2* *Lt* *Chevrolet* *Camaro* *1SS* *Chevrolet* *Camaro* *2SS* *Chevrolet* *Camaro* *SSX* *Chevrolet* *Camaro* *SS* *convertible* *Chevrolet* *Camaro* *ZL1* *Chevrolet* *Camaro* *1LE* *Chevrolet* *Camaro* *2LT* *CONVERT* *Chevrolet* *Camaro* *ZL1* *CONVERTIBLE* *Chevrolet* *Camaro* *Z/28* *Chevrolet* *Camaro* *LS* *Coupe* *Convertible* 2022  2021  2020  2019  2018  2017  2016  2015  2014  2013  2012  2011  2010  2009  2008  2007  2006  2005  2004  2003  2002  2001  2000   22  21    19  18  17  16  15  14  13  12  11  10  09  08  07  06  05  04  03  02  01  00\"\n",
            " \"Carvana is the safer way to buy a car During these uncertain times, Carvana is dedicated to ensuring safety for all of our customers. In addition to our 100% online shopping and selling experience that allows all customers to buy and trade their cars without ever leaving the safety of their house, we’re providing touchless delivery that make all aspects of our process even safer. Now, you can get the car you want, and trade in your old one, while avoiding person-to-person contact with our friendly advocates. There are some things that can’t be put off. And if buying a car is one of them, know that we’re doing everything we can to keep you keep moving while continuing to put your health safety, and happiness first. Vehicle Stock# 2000968427📱 Want to instantly check this car’s availability? Call us at  334-758-9176Just text that stock number to 855-976-4304 or head to http://www.carvanaauto.com/7145092-74502 and plug it into the search bar!Get PRE-QUALIFIED for your auto loan in 2 minutes - no hit to your credit:http://finance.carvanaauto.com/7145092-74502Looking for more cars like this one? We have 77 Toyota Tundra CrewMax in stock for as low as $25990!Why buy with Carvana? We have one standard: the highest. Take a look at just some of the qualifications all of our cars must meet before we list them.150-POINT INSPECTION: We put each vehicle through a 150-point inspection so that you can be 100% confident in its quality and safety. See everything that goes into our inspections at:http://www.carvanaauto.com/7145092-74502NO REPORTED ACCIDENTS: We do not sell cars that have been in a reported accident or have a frame or structural damage.7 DAY TEST OWN MONEY BACK GUARANTEE: Every Carvana car comes with a 7-day money-back guarantee. Why? It takes more than 15-minutes to make a decision on your next car. Learn more about test owning at http://about.carvanaauto.comFLEXIBLE FINANCING, TRADE INS WELCOME: We’re all about real-time financing without the middle man. Need financing? Pick a combination of down and monthly payments that work for you. Have a trade-in? We’ll give you a value in 2 minutes. Check out everything about our financing at:http://finance.carvanaauto.com/7145092-74502COST SAVINGS: Carvana's business model has fewer expenses and no bloated fees compared to your local dealership. See how much we can save you at http://about.carvanaauto.comPREMIUM DETAIL: We go the extra mile so that your car is looking as good as new. There are a lot of specifics that we won’t list here (we wash, clean, buff, paint, polish, wax, seal), but trust us that when your car arrives, it’s going to look sweet.Vehicle Info for Stock# 2000968427Trim: SR5 Pickup 4D 5 1/2 ft pickupMileage: 55k milesExterior Color: RedInterior Color: BLACKEngine: Drive: Two Wheel DriveTransmission: VIN: 5TFEY5F15EX169621Dealer Disclosure: Price excludes tax, title, and registration (which we handle for you).Disclaimer: You agree that by providing your phone number, Carvana, or Carvana’s authorized representatives*, may call and/or send text messages (including by using equipment to automatically dial telephone numbers) about your interest in a purchase, for marketing/sales purposes, or for any other servicing or informational purpose related to your account. You do not have to consent to receiving calls or texts to purchase from Carvana. While every reasonable effort is made to ensure the accuracy of the information for this Toyota Tundra CrewMax, we are not responsible for any errors or omissions contained in this ad. Please verify any information in question with Carvana at 334-758-9176*Including, but not limited to, Bridgecrest Credit Company, GO Financial and SilverRock Automotive.*Toyota* *Tundra* *CrewMax* *2WD* *Truck* *Toyota* *Tundra* *CrewMax* *4WD* *Toyota* *Tundra* *CrewMax* *Access* *Cab* *Limited* *Toyota* *Tundra* *CrewMax* *Access* *Cab* *SR5* *Toyota* *Tundra* *CrewMax* *CrewMax* *Limited* *Toyota* *Tundra* *CrewMax* *CrewMax* *Toyota* *Tundra* *CrewMax* *CrewMax* *SR5* *Toyota* *Tundra* *CrewMax* *Double* *Cab* *Toyota* *Tundra* *CrewMax* *Double* *Cab* *Limited* *Toyota* *Tundra* *CrewMax* *Double* *Cab* *SR5* *Toyota* *Tundra* *CrewMax* *Regular* *Cab* *Toyota* *Tundra* *CrewMax* *SR* *Toyota* *Tundra* *CrewMax* *Platinum* *Toyota* *Tundra* *CrewMax* *electric* *hybrid* *Pickup* 2022  2021  2020  2019  2018  2017  2016  2015  2014  2013  2012  2011  2010  2009  2008  2007  2006  2005  2004  2003  2002  2001  2000   22  21    19  18  17  16  15  14  13  12  11  10  09  08  07  06  05  04  03  02  01  00\"\n",
            " \"Carvana is the safer way to buy a car During these uncertain times, Carvana is dedicated to ensuring safety for all of our customers. In addition to our 100% online shopping and selling experience that allows all customers to buy and trade their cars without ever leaving the safety of their house, we’re providing touchless delivery that make all aspects of our process even safer. Now, you can get the car you want, and trade in your old one, while avoiding person-to-person contact with our friendly advocates. There are some things that can’t be put off. And if buying a car is one of them, know that we’re doing everything we can to keep you keep moving while continuing to put your health safety, and happiness first. Vehicle Stock# 2000899198📱 Want to instantly check this car’s availability? Call us at  334-758-9176Just text that stock number to 855-976-4304 or head to http://www.carvanaauto.com/6964025-74502 and plug it into the search bar!Get PRE-QUALIFIED for your auto loan in 2 minutes - no hit to your credit:http://finance.carvanaauto.com/6964025-74502Looking for more cars like this one? We have 29 Ford Ranger SuperCrew in stock for as low as $28990!Why buy with Carvana? We have one standard: the highest. Take a look at just some of the qualifications all of our cars must meet before we list them.150-POINT INSPECTION: We put each vehicle through a 150-point inspection so that you can be 100% confident in its quality and safety. See everything that goes into our inspections at:http://www.carvanaauto.com/6964025-74502NO REPORTED ACCIDENTS: We do not sell cars that have been in a reported accident or have a frame or structural damage.7 DAY TEST OWN MONEY BACK GUARANTEE: Every Carvana car comes with a 7-day money-back guarantee. Why? It takes more than 15-minutes to make a decision on your next car. Learn more about test owning at http://about.carvanaauto.comFLEXIBLE FINANCING, TRADE INS WELCOME: We’re all about real-time financing without the middle man. Need financing? Pick a combination of down and monthly payments that work for you. Have a trade-in? We’ll give you a value in 2 minutes. Check out everything about our financing at:http://finance.carvanaauto.com/6964025-74502COST SAVINGS: Carvana's business model has fewer expenses and no bloated fees compared to your local dealership. See how much we can save you at http://about.carvanaauto.comPREMIUM DETAIL: We go the extra mile so that your car is looking as good as new. There are a lot of specifics that we won’t list here (we wash, clean, buff, paint, polish, wax, seal), but trust us that when your car arrives, it’s going to look sweet.Vehicle Info for Stock# 2000899198Trim: XL Pickup 4D 5 ft pickupMileage: 1k milesExterior Color: BlackInterior Color: BLACKEngine: Drive: Two Wheel DriveTransmission: VIN: 1FTER4EH3KLA31326Dealer Disclosure: Price excludes tax, title, and registration (which we handle for you).Disclaimer: You agree that by providing your phone number, Carvana, or Carvana’s authorized representatives*, may call and/or send text messages (including by using equipment to automatically dial telephone numbers) about your interest in a purchase, for marketing/sales purposes, or for any other servicing or informational purpose related to your account. You do not have to consent to receiving calls or texts to purchase from Carvana. While every reasonable effort is made to ensure the accuracy of the information for this Ford Ranger SuperCrew, we are not responsible for any errors or omissions contained in this ad. Please verify any information in question with Carvana at 334-758-9176*Including, but not limited to, Bridgecrest Credit Company, GO Financial and SilverRock Automotive.*Ford* *Ranger* *SuperCrew* *Extended* *Ford* *Ranger* *SuperCrew* *Edge* *Ford* *Ranger* *SuperCrew* *XL* *Regular* *Cab* *Ford* *Ranger* *SuperCrew* *Regular* *Cab* *Ford* *Ranger* *SuperCrew* *XLT* *4x4* *extended* *cab* *Ford* *Ranger* *SuperCrew* *23L* *Ford* *Ranger* *SuperCrew* *Sunset* *Ford* *Ranger* *SuperCrew* *ford-ranger-fx4-level2* *Ford* *Ranger* *SuperCrew* *Sport* *Pick* *up* *Truck* 2022  2021  2020  2019  2018  2017  2016  2015  2014  2013  2012  2011  2010  2009  2008  2007  2006  2005  2004  2003  2002  2001  2000   22  21    19  18  17  16  15  14  13  12  11  10  09  08  07  06  05  04  03  02  01  00\"\n",
            " \"Carvana is the safer way to buy a car During these uncertain times, Carvana is dedicated to ensuring safety for all of our customers. In addition to our 100% online shopping and selling experience that allows all customers to buy and trade their cars without ever leaving the safety of their house, we’re providing touchless delivery that make all aspects of our process even safer. Now, you can get the car you want, and trade in your old one, while avoiding person-to-person contact with our friendly advocates. There are some things that can’t be put off. And if buying a car is one of them, know that we’re doing everything we can to keep you keep moving while continuing to put your health safety, and happiness first. Vehicle Stock# 2000924627📱 Want to instantly check this car’s availability? Call us at  334-758-9176Just text that stock number to 855-976-4304 or head to http://www.carvanaauto.com/7143939-74502 and plug it into the search bar!Get PRE-QUALIFIED for your auto loan in 2 minutes - no hit to your credit:http://finance.carvanaauto.com/7143939-74502Looking for more cars like this one? We have 52 Nissan Frontier Crew Cab in stock for as low as $20590!Why buy with Carvana? We have one standard: the highest. Take a look at just some of the qualifications all of our cars must meet before we list them.150-POINT INSPECTION: We put each vehicle through a 150-point inspection so that you can be 100% confident in its quality and safety. See everything that goes into our inspections at:http://www.carvanaauto.com/7143939-74502NO REPORTED ACCIDENTS: We do not sell cars that have been in a reported accident or have a frame or structural damage.7 DAY TEST OWN MONEY BACK GUARANTEE: Every Carvana car comes with a 7-day money-back guarantee. Why? It takes more than 15-minutes to make a decision on your next car. Learn more about test owning at http://about.carvanaauto.comFLEXIBLE FINANCING, TRADE INS WELCOME: We’re all about real-time financing without the middle man. Need financing? Pick a combination of down and monthly payments that work for you. Have a trade-in? We’ll give you a value in 2 minutes. Check out everything about our financing at:http://finance.carvanaauto.com/7143939-74502COST SAVINGS: Carvana's business model has fewer expenses and no bloated fees compared to your local dealership. See how much we can save you at http://about.carvanaauto.comPREMIUM DETAIL: We go the extra mile so that your car is looking as good as new. There are a lot of specifics that we won’t list here (we wash, clean, buff, paint, polish, wax, seal), but trust us that when your car arrives, it’s going to look sweet.Vehicle Info for Stock# 2000924627Trim: PRO-4X Pickup 4D 5 ft pickupMileage: 37k milesExterior Color: SilverInterior Color: GRAYEngine: 4.0L V6 261hp 281ft. lbs.Drive: 4wdTransmission: VIN: 1N6AD0EV5JN745213Dealer Disclosure: Price excludes tax, title, and registration (which we handle for you).Disclaimer: You agree that by providing your phone number, Carvana, or Carvana’s authorized representatives*, may call and/or send text messages (including by using equipment to automatically dial telephone numbers) about your interest in a purchase, for marketing/sales purposes, or for any other servicing or informational purpose related to your account. You do not have to consent to receiving calls or texts to purchase from Carvana. While every reasonable effort is made to ensure the accuracy of the information for this Nissan Frontier Crew Cab, we are not responsible for any errors or omissions contained in this ad. Please verify any information in question with Carvana at 334-758-9176*Including, but not limited to, Bridgecrest Credit Company, GO Financial and SilverRock Automotive.*Nissan* *Frontier* *Crew* *Cab* *regular* *cab* *Nissan* *Frontier* *Crew* *Cab* *Single* *cab* *Nissan* *Frontier* *Crew* *Cab* *King* *Cab* *SE* *Nissan* *Frontier* *Crew* *Cab* *King* *Cap* *XE* *Nissan* *Frontier* *Crew* *Cab* *Crew* *Cab* *S* *Nissan* *Frontier* *Crew* *Cab* *XE* *Crew* *Cab* *Nissan* *Frontier* *Crew* *Cab* *SE* *Crew* *Cab* *Nissan* *Frontier* *Crew* *Cab* *LE* *Crew* *cab* *Nissan* *Frontier* *Crew* *Cab* *SV* *Crew* *Cab* *Nissan* *Frontier* *Crew* *Cab* *Crew* *Cab* *Desert* *Runner* *Nissan* *Frontier* *Crew* *Cab* *Crew* *Cab* *SL* *Nissan* *Frontier* *Crew* *Cab* *King* *cab* *S* *Nissan* *Frontier* *Crew* *Cab* *king* *cab* *SV* *V6* *Nissan* *Frontier* *Crew* *Cab* *SV* *4-Cylinder* *Pick* *Up* 2022  2021  2020  2019  2018  2017  2016  2015  2014  2013  2012  2011  2010  2009  2008  2007  2006  2005  2004  2003  2002  2001  2000   22  21    19  18  17  16  15  14  13  12  11  10  09  08  07  06  05  04  03  02  01  00\"\n",
            " 'Call or text now 800-213-0336 Open 9:00-6:00pm https://www.augoca.com/   Can work with down payments, base on approve income.  Buy Here Pay Here, In House Finance, Low Down Payment, Auto Loan, First Time Car Buyer Options  Be able provide proof of current income, address and have a valid driver license    Only 99,615 Miles! Delivers 27 Highway MPG and 23 City MPG! This Jeep Compass delivers a Gas I4 2.0/122 engine powering this Variable transmission. P215/60R17 ALL-SEASON TOURING BSW TIRES (STD), FRONT SEAT SIDE AIR BAGS, DEEP CHERRY RED CRYSTAL PEARL    https://www.augoca.com/      Sedan, hatcback, suv, van, chevy, toyota, chrysler, honda, chevrolet, hyundai, ford 2008, 2009, 2010, 2011, 2012, 2013, 2014, 2015, 2016']\n",
            "Количество значений:  337004 \n",
            "\n",
            "Признак state\n",
            "Значения:  ['al' 'ak' 'az' 'ar' 'ca' 'co' 'ct' 'dc' 'de' 'fl' 'ga' 'hi' 'id' 'il'\n",
            " 'in' 'ia' 'ks' 'ky' 'la' 'me']\n",
            "Количество значений:  51 \n",
            "\n",
            "Признак lat\n",
            "Значения:  [32.59 32.592 32.6013 32.6454 32.5475 32.628739 32.6304 32.8224 32.629409\n",
            " 32.614209 32.6024 31.425091 32.6099 32.562007 33.384664 33.6035 34.657607\n",
            " 33.455361 33.52 33.614088]\n",
            "Количество значений:  49635 \n",
            "\n",
            "Признак long\n",
            "Значения:  [-85.48 -85.5189 -85.443974 -85.3783 -85.4682 -85.46182 -85.4016 -85.7704\n",
            " -85.484447 -85.326357 -85.4873 -85.617723 -85.4808 -85.66967 -86.737847\n",
            " -86.4668 -87.782814 -86.962474 -86.79 -85.796729]\n",
            "Количество значений:  50175 \n",
            "\n",
            "Признак posting_date\n",
            "Значения:  ['2021-05-04T12:31:18-0500' '2021-05-04T12:31:08-0500'\n",
            " '2021-05-04T12:31:25-0500' '2021-05-04T10:41:31-0500'\n",
            " '2021-05-03T14:02:03-0500' '2021-05-03T13:41:25-0500'\n",
            " '2021-05-03T12:41:33-0500' '2021-05-03T12:12:59-0500'\n",
            " '2021-05-03T11:31:14-0500' '2021-05-03T07:50:35-0500'\n",
            " '2021-05-03T07:38:05-0500' '2021-05-02T12:22:10-0500'\n",
            " '2021-05-02T10:51:08-0500' '2021-05-02T10:21:33-0500'\n",
            " '2021-05-02T08:44:35-0500' '2021-05-01T12:21:51-0500'\n",
            " '2021-05-01T09:21:37-0500' '2021-05-01T09:21:34-0500'\n",
            " '2021-05-01T09:11:35-0500' '2021-04-30T16:35:11-0500']\n",
            "Количество значений:  355334 \n",
            "\n"
          ]
        }
      ],
      "source": [
        "def describe(values, col_name):\n",
        "    print(\"Признак\", col_name)\n",
        "    print(\"Значения: \", values[:20])\n",
        "    print(\"Количество значений: \", len(values), '\\n')\n",
        "\n",
        "for col in clear_df.columns:\n",
        "  if clear_df[col].dtype == object:\n",
        "    describe(clear_df[col].unique(), col)\n"
      ]
    },
    {
      "cell_type": "markdown",
      "metadata": {
        "id": "BxuXD1iwRebr"
      },
      "source": [
        "Такие признаки как: region, url, region_url, image_url являются ссылками и не представляют интереса как целочисленный признак id и строковый VIN, поэтому отбросим их.\n",
        "\n"
      ]
    },
    {
      "cell_type": "code",
      "execution_count": 14,
      "metadata": {
        "id": "vqRrmGhFRQlD"
      },
      "outputs": [],
      "source": [
        "clear_df = clear_df.drop(['url', 'region_url', 'image_url', 'id', 'VIN'], axis=1)"
      ]
    },
    {
      "cell_type": "markdown",
      "metadata": {
        "id": "S9OOBFiIWaLy"
      },
      "source": [
        "Категориальные признаки state и region, а также численные lat, long- отображают местонахождение транспортного средства, ввиду большего количества регионов чем штатов, то отбросим признак state и координаты ввиду избыточности"
      ]
    },
    {
      "cell_type": "code",
      "execution_count": 15,
      "metadata": {
        "id": "6JVScrzzZIAR"
      },
      "outputs": [],
      "source": [
        "clear_df = clear_df.drop(['state', 'lat', 'long'], axis=1)"
      ]
    },
    {
      "cell_type": "code",
      "execution_count": 16,
      "metadata": {
        "id": "3_IRX58ER0o1",
        "colab": {
          "base_uri": "https://localhost:8080/"
        },
        "outputId": "74edc272-d92c-445c-d36c-78010bce35c6"
      },
      "outputs": [
        {
          "output_type": "stream",
          "name": "stdout",
          "text": [
            "Признак region\n",
            "Значения:  ['auburn' 'birmingham' 'dothan' 'florence / muscle shoals'\n",
            " 'gadsden-anniston' 'huntsville / decatur' 'mobile' 'montgomery'\n",
            " 'tuscaloosa' 'anchorage / mat-su' 'fairbanks' 'kenai peninsula'\n",
            " 'southeast alaska' 'flagstaff / sedona' 'mohave county' 'phoenix'\n",
            " 'prescott' 'show low' 'sierra vista' 'tucson']\n",
            "Количество значений:  404 \n",
            "\n",
            "Признак manufacturer\n",
            "Значения:  ['gmc' 'chevrolet' 'toyota' 'ford' 'jeep' 'nissan' 'ram' 'mazda'\n",
            " 'cadillac' 'honda' 'dodge' 'lexus' 'jaguar' 'buick' 'chrysler' 'volvo'\n",
            " 'audi' 'infiniti' 'lincoln' 'alfa-romeo']\n",
            "Количество значений:  41 \n",
            "\n",
            "Признак model\n",
            "Значения:  ['sierra 1500 crew cab slt' 'silverado 1500' 'silverado 1500 crew'\n",
            " 'tundra double cab sr' 'f-150 xlt' 'sierra 2500 hd extended cab'\n",
            " 'silverado 1500 double' 'tacoma' 'colorado extended cab'\n",
            " 'corvette grand sport' 'cherokee' 'wrangler unlimited sport'\n",
            " 'silverado 1500 regular' 'colorado crew cab z71'\n",
            " 'tacoma access cab pickup' 'camaro ss coupe 2d'\n",
            " 'tundra crewmax sr5 pickup' 'ranger supercrew xl pickup'\n",
            " 'frontier crew cab pro-4x' 'compass']\n",
            "Количество значений:  22879 \n",
            "\n",
            "Признак condition\n",
            "Значения:  ['good' 'excellent' 'fair' 'like new' 'new' 'unknown' 'salvage']\n",
            "Количество значений:  7 \n",
            "\n",
            "Признак cylinders\n",
            "Значения:  ['8 cylinders' '6 cylinders' 'unknown' '4 cylinders' '5 cylinders'\n",
            " '10 cylinders' '3 cylinders' 'other' '12 cylinders']\n",
            "Количество значений:  9 \n",
            "\n",
            "Признак fuel\n",
            "Значения:  ['gas' 'other' 'diesel' 'hybrid' 'electric']\n",
            "Количество значений:  5 \n",
            "\n",
            "Признак title_status\n",
            "Значения:  ['clean' 'rebuilt' 'lien' 'unknown' 'salvage' 'missing' 'parts only']\n",
            "Количество значений:  7 \n",
            "\n",
            "Признак transmission\n",
            "Значения:  ['other' 'automatic' 'manual']\n",
            "Количество значений:  3 \n",
            "\n",
            "Признак drive\n",
            "Значения:  ['unknown' 'rwd' '4wd' 'fwd']\n",
            "Количество значений:  4 \n",
            "\n",
            "Признак type\n",
            "Значения:  ['pickup' 'truck' 'other' 'unknown' 'coupe' 'SUV' 'hatchback' 'mini-van'\n",
            " 'sedan' 'offroad' 'van' 'convertible' 'wagon' 'bus']\n",
            "Количество значений:  14 \n",
            "\n",
            "Признак paint_color\n",
            "Значения:  ['white' 'blue' 'red' 'black' 'silver' 'grey' 'unknown' 'brown' 'yellow'\n",
            " 'orange' 'green' 'custom' 'purple']\n",
            "Количество значений:  13 \n",
            "\n",
            "Признак description\n",
            "Значения:  [\"Carvana is the safer way to buy a car During these uncertain times, Carvana is dedicated to ensuring safety for all of our customers. In addition to our 100% online shopping and selling experience that allows all customers to buy and trade their cars without ever leaving the safety of their house, we’re providing touchless delivery that make all aspects of our process even safer. Now, you can get the car you want, and trade in your old one, while avoiding person-to-person contact with our friendly advocates. There are some things that can’t be put off. And if buying a car is one of them, know that we’re doing everything we can to keep you keep moving while continuing to put your health safety, and happiness first. Vehicle Stock# 2000909557📱 Want to instantly check this car’s availability? Call us at  334-758-9176Just text that stock number to 855-976-4304 or head to http://www.carvanaauto.com/7171237-74502 and plug it into the search bar!Get PRE-QUALIFIED for your auto loan in 2 minutes - no hit to your credit:http://finance.carvanaauto.com/7171237-74502Looking for more cars like this one? We have 63 GMC Sierra 1500 Crew Cab in stock for as low as $23990!Why buy with Carvana? We have one standard: the highest. Take a look at just some of the qualifications all of our cars must meet before we list them.150-POINT INSPECTION: We put each vehicle through a 150-point inspection so that you can be 100% confident in its quality and safety. See everything that goes into our inspections at:http://www.carvanaauto.com/7171237-74502NO REPORTED ACCIDENTS: We do not sell cars that have been in a reported accident or have a frame or structural damage.7 DAY TEST OWN MONEY BACK GUARANTEE: Every Carvana car comes with a 7-day money-back guarantee. Why? It takes more than 15-minutes to make a decision on your next car. Learn more about test owning at http://about.carvanaauto.comFLEXIBLE FINANCING, TRADE INS WELCOME: We’re all about real-time financing without the middle man. Need financing? Pick a combination of down and monthly payments that work for you. Have a trade-in? We’ll give you a value in 2 minutes. Check out everything about our financing at:http://finance.carvanaauto.com/7171237-74502COST SAVINGS: Carvana's business model has fewer expenses and no bloated fees compared to your local dealership. See how much we can save you at http://about.carvanaauto.comPREMIUM DETAIL: We go the extra mile so that your car is looking as good as new. There are a lot of specifics that we won’t list here (we wash, clean, buff, paint, polish, wax, seal), but trust us that when your car arrives, it’s going to look sweet.Vehicle Info for Stock# 2000909557Trim: SLT Pickup 4D 5 3/4 ft pickupMileage: 57k milesExterior Color: WhiteInterior Color: Lt. BrownEngine: EcoTec3 5.3L Flex Fuel V8 355hp 383ft. lbs.Drive: Two Wheel DriveTransmission: VIN: 3GTP1VEC4EG551563Dealer Disclosure: Price excludes tax, title, and registration (which we handle for you).Disclaimer: You agree that by providing your phone number, Carvana, or Carvana’s authorized representatives*, may call and/or send text messages (including by using equipment to automatically dial telephone numbers) about your interest in a purchase, for marketing/sales purposes, or for any other servicing or informational purpose related to your account. You do not have to consent to receiving calls or texts to purchase from Carvana. While every reasonable effort is made to ensure the accuracy of the information for this GMC Sierra 1500 Crew Cab, we are not responsible for any errors or omissions contained in this ad. Please verify any information in question with Carvana at 334-758-9176*Including, but not limited to, Bridgecrest Credit Company, GO Financial and SilverRock Automotive.*GMC* *Sierra* *1500* *Crew* *Cab* *Base* *GMC* *Sierra* *1500* *Crew* *Cab* *SLE* *GMC* *Sierra* *1500* *Crew* *Cab* *SLT* *GMC* *Sierra* *1500* *Crew* *Cab* *Denali* *GMC* *Sierra* *1500* *Crew* *Cab* *Work* *Truck* *4x2* *GMC* *Sierra* *1500* *Crew* *Cab* *4x4* *Crew* *Cab* *GMC* *Sierra* *1500* *Crew* *Cab* *Regular* *Cab* *Extended* *Cab* *Truck* 2022  2021  2020  2019  2018  2017  2016  2015  2014  2013  2012  2011  2010  2009  2008  2007  2006  2005  2004  2003  2002  2001  2000   22  21    19  18  17  16  15  14  13  12  11  10  09  08  07  06  05  04  03  02  01  00\"\n",
            " \"Carvana is the safer way to buy a car During these uncertain times, Carvana is dedicated to ensuring safety for all of our customers. In addition to our 100% online shopping and selling experience that allows all customers to buy and trade their cars without ever leaving the safety of their house, we’re providing touchless delivery that make all aspects of our process even safer. Now, you can get the car you want, and trade in your old one, while avoiding person-to-person contact with our friendly advocates. There are some things that can’t be put off. And if buying a car is one of them, know that we’re doing everything we can to keep you keep moving while continuing to put your health safety, and happiness first. Vehicle Stock# 2000977114📱 Want to instantly check this car’s availability? Call us at  334-758-9176Just text that stock number to 855-976-4304 or head to http://www.carvanaauto.com/7163375-74502 and plug it into the search bar!Get PRE-QUALIFIED for your auto loan in 2 minutes - no hit to your credit:http://finance.carvanaauto.com/7163375-74502Looking for more cars like this one? We have 10 Chevrolet Silverado 1500 Extended Cab in stock for as low as $20990!Why buy with Carvana? We have one standard: the highest. Take a look at just some of the qualifications all of our cars must meet before we list them.150-POINT INSPECTION: We put each vehicle through a 150-point inspection so that you can be 100% confident in its quality and safety. See everything that goes into our inspections at:http://www.carvanaauto.com/7163375-74502NO REPORTED ACCIDENTS: We do not sell cars that have been in a reported accident or have a frame or structural damage.7 DAY TEST OWN MONEY BACK GUARANTEE: Every Carvana car comes with a 7-day money-back guarantee. Why? It takes more than 15-minutes to make a decision on your next car. Learn more about test owning at http://about.carvanaauto.comFLEXIBLE FINANCING, TRADE INS WELCOME: We’re all about real-time financing without the middle man. Need financing? Pick a combination of down and monthly payments that work for you. Have a trade-in? We’ll give you a value in 2 minutes. Check out everything about our financing at:http://finance.carvanaauto.com/7163375-74502COST SAVINGS: Carvana's business model has fewer expenses and no bloated fees compared to your local dealership. See how much we can save you at http://about.carvanaauto.comPREMIUM DETAIL: We go the extra mile so that your car is looking as good as new. There are a lot of specifics that we won’t list here (we wash, clean, buff, paint, polish, wax, seal), but trust us that when your car arrives, it’s going to look sweet.Vehicle Info for Stock# 2000977114Trim: LT Pickup 4D 6 1/2 ft pickupMileage: 71k milesExterior Color: BlueInterior Color: BlackEngine: Vortec 5.3L Flex Fuel V8 315hp 335ft. lbs.Drive: Two Wheel DriveTransmission: VIN: 1GCSCSE06AZ123805Dealer Disclosure: Price excludes tax, title, and registration (which we handle for you).Disclaimer: You agree that by providing your phone number, Carvana, or Carvana’s authorized representatives*, may call and/or send text messages (including by using equipment to automatically dial telephone numbers) about your interest in a purchase, for marketing/sales purposes, or for any other servicing or informational purpose related to your account. You do not have to consent to receiving calls or texts to purchase from Carvana. While every reasonable effort is made to ensure the accuracy of the information for this Chevrolet Silverado 1500 Extended Cab, we are not responsible for any errors or omissions contained in this ad. Please verify any information in question with Carvana at 334-758-9176*Including, but not limited to, Bridgecrest Credit Company, GO Financial and SilverRock Automotive.*Chevrolet* *Silverado* *1500* *Extended* *Cab* *Chevy* *Chevrolet* *Silverado* *1500* *Extended* *Cab* *HD* *Crew* *Cab* *LS* *Pickup* *Chevrolet* *Silverado* *1500* *Extended* *Cab* *LS* *Chevrolet* *Silverado* *1500* *Extended* *Cab* *LT* *Chevrolet* *Silverado* *1500* *Extended* *Cab* *LTZ* *Chevrolet* *Silverado* *1500* *Extended* *Cab* *LT1* *Chevrolet* *Silverado* *1500* *Extended* *Cab* *Crew* *Cab* *Chevrolet* *Silverado* *1500* *Extended* *Cab* *XtraCab* *Chevrolet* *Silverado* *1500* *Extended* *Cab* *2500HD* *Classic* *Pick* *up* 2022  2021  2020  2019  2018  2017  2016  2015  2014  2013  2012  2011  2010  2009  2008  2007  2006  2005  2004  2003  2002  2001  2000   22  21    19  18  17  16  15  14  13  12  11  10  09  08  07  06  05  04  03  02  01  00\"\n",
            " \"Carvana is the safer way to buy a car During these uncertain times, Carvana is dedicated to ensuring safety for all of our customers. In addition to our 100% online shopping and selling experience that allows all customers to buy and trade their cars without ever leaving the safety of their house, we’re providing touchless delivery that make all aspects of our process even safer. Now, you can get the car you want, and trade in your old one, while avoiding person-to-person contact with our friendly advocates. There are some things that can’t be put off. And if buying a car is one of them, know that we’re doing everything we can to keep you keep moving while continuing to put your health safety, and happiness first. Vehicle Stock# 2000948059📱 Want to instantly check this car’s availability? Call us at  334-758-9176Just text that stock number to 855-976-4304 or head to http://www.carvanaauto.com/6965441-74502 and plug it into the search bar!Get PRE-QUALIFIED for your auto loan in 2 minutes - no hit to your credit:http://finance.carvanaauto.com/6965441-74502Looking for more cars like this one? We have 144 Chevrolet Silverado 1500 Crew Cab in stock for as low as $20990!Why buy with Carvana? We have one standard: the highest. Take a look at just some of the qualifications all of our cars must meet before we list them.150-POINT INSPECTION: We put each vehicle through a 150-point inspection so that you can be 100% confident in its quality and safety. See everything that goes into our inspections at:http://www.carvanaauto.com/6965441-74502NO REPORTED ACCIDENTS: We do not sell cars that have been in a reported accident or have a frame or structural damage.7 DAY TEST OWN MONEY BACK GUARANTEE: Every Carvana car comes with a 7-day money-back guarantee. Why? It takes more than 15-minutes to make a decision on your next car. Learn more about test owning at http://about.carvanaauto.comFLEXIBLE FINANCING, TRADE INS WELCOME: We’re all about real-time financing without the middle man. Need financing? Pick a combination of down and monthly payments that work for you. Have a trade-in? We’ll give you a value in 2 minutes. Check out everything about our financing at:http://finance.carvanaauto.com/6965441-74502COST SAVINGS: Carvana's business model has fewer expenses and no bloated fees compared to your local dealership. See how much we can save you at http://about.carvanaauto.comPREMIUM DETAIL: We go the extra mile so that your car is looking as good as new. There are a lot of specifics that we won’t list here (we wash, clean, buff, paint, polish, wax, seal), but trust us that when your car arrives, it’s going to look sweet.Vehicle Info for Stock# 2000948059Trim: LT Pickup 4D 5 3/4 ft pickupMileage: 19k milesExterior Color: RedInterior Color: BLACKEngine: EcoTec3 5.3L V8 355hp 383ft. lbs.Drive: Two Wheel DriveTransmission: VIN: 3GCPWCED5LG130317Dealer Disclosure: Price excludes tax, title, and registration (which we handle for you).Disclaimer: You agree that by providing your phone number, Carvana, or Carvana’s authorized representatives*, may call and/or send text messages (including by using equipment to automatically dial telephone numbers) about your interest in a purchase, for marketing/sales purposes, or for any other servicing or informational purpose related to your account. You do not have to consent to receiving calls or texts to purchase from Carvana. While every reasonable effort is made to ensure the accuracy of the information for this Chevrolet Silverado 1500 Crew Cab, we are not responsible for any errors or omissions contained in this ad. Please verify any information in question with Carvana at 334-758-9176*Including, but not limited to, Bridgecrest Credit Company, GO Financial and SilverRock Automotive.*Chevrolet* *Silverado* *1500* *Crew* *Cab* *Chevy* *Chevrolet* *Silverado* *1500* *Crew* *Cab* *HD* *Crew* *Cab* *LS* *Pickup* *Chevrolet* *Silverado* *1500* *Crew* *Cab* *LS* *Chevrolet* *Silverado* *1500* *Crew* *Cab* *LT* *Chevrolet* *Silverado* *1500* *Crew* *Cab* *LTZ* *Chevrolet* *Silverado* *1500* *Crew* *Cab* *LT1* *Chevrolet* *Silverado* *1500* *Crew* *Cab* *Crew* *Cab* *Chevrolet* *Silverado* *1500* *Crew* *Cab* *XtraCab* *Chevrolet* *Silverado* *1500* *Crew* *Cab* *2500HD* *Classic* *Pick* *up* 2022  2021  2020  2019  2018  2017  2016  2015  2014  2013  2012  2011  2010  2009  2008  2007  2006  2005  2004  2003  2002  2001  2000   22  21    19  18  17  16  15  14  13  12  11  10  09  08  07  06  05  04  03  02  01  00\"\n",
            " \"Carvana is the safer way to buy a car During these uncertain times, Carvana is dedicated to ensuring safety for all of our customers. In addition to our 100% online shopping and selling experience that allows all customers to buy and trade their cars without ever leaving the safety of their house, we’re providing touchless delivery that make all aspects of our process even safer. Now, you can get the car you want, and trade in your old one, while avoiding person-to-person contact with our friendly advocates. There are some things that can’t be put off. And if buying a car is one of them, know that we’re doing everything we can to keep you keep moving while continuing to put your health safety, and happiness first. Vehicle Stock# 2000905180📱 Want to instantly check this car’s availability? Call us at  334-758-9176Just text that stock number to 855-976-4304 or head to http://www.carvanaauto.com/6964121-74502 and plug it into the search bar!Get PRE-QUALIFIED for your auto loan in 2 minutes - no hit to your credit:http://finance.carvanaauto.com/6964121-74502Looking for more cars like this one? We have 24 Toyota Tundra Double Cab in stock for as low as $23990!Why buy with Carvana? We have one standard: the highest. Take a look at just some of the qualifications all of our cars must meet before we list them.150-POINT INSPECTION: We put each vehicle through a 150-point inspection so that you can be 100% confident in its quality and safety. See everything that goes into our inspections at:http://www.carvanaauto.com/6964121-74502NO REPORTED ACCIDENTS: We do not sell cars that have been in a reported accident or have a frame or structural damage.7 DAY TEST OWN MONEY BACK GUARANTEE: Every Carvana car comes with a 7-day money-back guarantee. Why? It takes more than 15-minutes to make a decision on your next car. Learn more about test owning at http://about.carvanaauto.comFLEXIBLE FINANCING, TRADE INS WELCOME: We’re all about real-time financing without the middle man. Need financing? Pick a combination of down and monthly payments that work for you. Have a trade-in? We’ll give you a value in 2 minutes. Check out everything about our financing at:http://finance.carvanaauto.com/6964121-74502COST SAVINGS: Carvana's business model has fewer expenses and no bloated fees compared to your local dealership. See how much we can save you at http://about.carvanaauto.comPREMIUM DETAIL: We go the extra mile so that your car is looking as good as new. There are a lot of specifics that we won’t list here (we wash, clean, buff, paint, polish, wax, seal), but trust us that when your car arrives, it’s going to look sweet.Vehicle Info for Stock# 2000905180Trim: SR Pickup 4D 6 1/2 ft pickupMileage: 41k milesExterior Color: RedInterior Color: GRAYEngine: 4.6L V8 310hp 327ft. lbs.Drive: Two Wheel DriveTransmission: VIN: 5TFRM5F17HX120972Dealer Disclosure: Price excludes tax, title, and registration (which we handle for you).Disclaimer: You agree that by providing your phone number, Carvana, or Carvana’s authorized representatives*, may call and/or send text messages (including by using equipment to automatically dial telephone numbers) about your interest in a purchase, for marketing/sales purposes, or for any other servicing or informational purpose related to your account. You do not have to consent to receiving calls or texts to purchase from Carvana. While every reasonable effort is made to ensure the accuracy of the information for this Toyota Tundra Double Cab, we are not responsible for any errors or omissions contained in this ad. Please verify any information in question with Carvana at 334-758-9176*Including, but not limited to, Bridgecrest Credit Company, GO Financial and SilverRock Automotive.*Toyota* *Tundra* *Double* *Cab* *2WD* *Truck* *Toyota* *Tundra* *Double* *Cab* *4WD* *Toyota* *Tundra* *Double* *Cab* *Access* *Cab* *Limited* *Toyota* *Tundra* *Double* *Cab* *Access* *Cab* *SR5* *Toyota* *Tundra* *Double* *Cab* *CrewMax* *Limited* *Toyota* *Tundra* *Double* *Cab* *CrewMax* *Toyota* *Tundra* *Double* *Cab* *CrewMax* *SR5* *Toyota* *Tundra* *Double* *Cab* *Double* *Cab* *Toyota* *Tundra* *Double* *Cab* *Double* *Cab* *Limited* *Toyota* *Tundra* *Double* *Cab* *Double* *Cab* *SR5* *Toyota* *Tundra* *Double* *Cab* *Regular* *Cab* *Toyota* *Tundra* *Double* *Cab* *SR* *Toyota* *Tundra* *Double* *Cab* *Platinum* *Toyota* *Tundra* *Double* *Cab* *electric* *hybrid* *Pickup* 2022  2021  2020  2019  2018  2017  2016  2015  2014  2013  2012  2011  2010  2009  2008  2007  2006  2005  2004  2003  2002  2001  2000   22  21    19  18  17  16  15  14  13  12  11  10  09  08  07  06  05  04  03  02  01  00\"\n",
            " '2013 F-150 XLT V6 4 Door. Good condition. Leveling kit. New Tires.'\n",
            " \"Carvana is the safer way to buy a car During these uncertain times, Carvana is dedicated to ensuring safety for all of our customers. In addition to our 100% online shopping and selling experience that allows all customers to buy and trade their cars without ever leaving the safety of their house, we’re providing touchless delivery that make all aspects of our process even safer. Now, you can get the car you want, and trade in your old one, while avoiding person-to-person contact with our friendly advocates. There are some things that can’t be put off. And if buying a car is one of them, know that we’re doing everything we can to keep you keep moving while continuing to put your health safety, and happiness first. Vehicle Stock# 2000839840📱 Want to instantly check this car’s availability? Call us at  334-758-9176Just text that stock number to 855-976-4304 or head to http://www.carvanaauto.com/7164202-74502 and plug it into the search bar!Get PRE-QUALIFIED for your auto loan in 2 minutes - no hit to your credit:http://finance.carvanaauto.com/7164202-74502Looking for more cars like this one? We have 1 GMC Sierra 2500 HD Extended Cab in stock for as low as $27990!Why buy with Carvana? We have one standard: the highest. Take a look at just some of the qualifications all of our cars must meet before we list them.150-POINT INSPECTION: We put each vehicle through a 150-point inspection so that you can be 100% confident in its quality and safety. See everything that goes into our inspections at:http://www.carvanaauto.com/7164202-74502NO REPORTED ACCIDENTS: We do not sell cars that have been in a reported accident or have a frame or structural damage.7 DAY TEST OWN MONEY BACK GUARANTEE: Every Carvana car comes with a 7-day money-back guarantee. Why? It takes more than 15-minutes to make a decision on your next car. Learn more about test owning at http://about.carvanaauto.comFLEXIBLE FINANCING, TRADE INS WELCOME: We’re all about real-time financing without the middle man. Need financing? Pick a combination of down and monthly payments that work for you. Have a trade-in? We’ll give you a value in 2 minutes. Check out everything about our financing at:http://finance.carvanaauto.com/7164202-74502COST SAVINGS: Carvana's business model has fewer expenses and no bloated fees compared to your local dealership. See how much we can save you at http://about.carvanaauto.comPREMIUM DETAIL: We go the extra mile so that your car is looking as good as new. There are a lot of specifics that we won’t list here (we wash, clean, buff, paint, polish, wax, seal), but trust us that when your car arrives, it’s going to look sweet.Vehicle Info for Stock# 2000839840Trim: SLE Pickup 4D 6 1/2 ft pickupMileage: 68k milesExterior Color: BlackInterior Color: BLACKEngine: 6.0L V8 360hp 380ft. lbs.Drive: 4wdTransmission: Automatic, 6-Spd HD w/OverdriveVIN: 1GT220CG8CZ231238Dealer Disclosure: Price excludes tax, title, and registration (which we handle for you).Disclaimer: You agree that by providing your phone number, Carvana, or Carvana’s authorized representatives*, may call and/or send text messages (including by using equipment to automatically dial telephone numbers) about your interest in a purchase, for marketing/sales purposes, or for any other servicing or informational purpose related to your account. You do not have to consent to receiving calls or texts to purchase from Carvana. While every reasonable effort is made to ensure the accuracy of the information for this GMC Sierra 2500 HD Extended Cab, we are not responsible for any errors or omissions contained in this ad. Please verify any information in question with Carvana at 334-758-9176*Including, but not limited to, Bridgecrest Credit Company, GO Financial and SilverRock Automotive.*GMC* *Sierra* *2500* *HD* *Extended* *Cab* *Base* *GMC* *Sierra* *2500* *HD* *Extended* *Cab* *SLE* *GMC* *Sierra* *2500* *HD* *Extended* *Cab* *SLT* *GMC* *Sierra* *2500* *HD* *Extended* *Cab* *Denali* *GMC* *Sierra* *2500* *HD* *Extended* *Cab* *Work* *Truck* *4x2* *GMC* *Sierra* *2500* *HD* *Extended* *Cab* *4x4* *Crew* *Cab* *GMC* *Sierra* *2500* *HD* *Extended* *Cab* *Regular* *Cab* *Extended* *Cab* *Truck* 2022  2021  2020  2019  2018  2017  2016  2015  2014  2013  2012  2011  2010  2009  2008  2007  2006  2005  2004  2003  2002  2001  2000   22  21    19  18  17  16  15  14  13  12  11  10  09  08  07  06  05  04  03  02  01  00\"\n",
            " \"Carvana is the safer way to buy a car During these uncertain times, Carvana is dedicated to ensuring safety for all of our customers. In addition to our 100% online shopping and selling experience that allows all customers to buy and trade their cars without ever leaving the safety of their house, we’re providing touchless delivery that make all aspects of our process even safer. Now, you can get the car you want, and trade in your old one, while avoiding person-to-person contact with our friendly advocates. There are some things that can’t be put off. And if buying a car is one of them, know that we’re doing everything we can to keep you keep moving while continuing to put your health safety, and happiness first. Vehicle Stock# 2000978720📱 Want to instantly check this car’s availability? Call us at  334-758-9176Just text that stock number to 855-976-4304 or head to http://www.carvanaauto.com/7126041-74502 and plug it into the search bar!Get PRE-QUALIFIED for your auto loan in 2 minutes - no hit to your credit:http://finance.carvanaauto.com/7126041-74502Looking for more cars like this one? We have 72 Chevrolet Silverado 1500 Double Cab in stock for as low as $24590!Why buy with Carvana? We have one standard: the highest. Take a look at just some of the qualifications all of our cars must meet before we list them.150-POINT INSPECTION: We put each vehicle through a 150-point inspection so that you can be 100% confident in its quality and safety. See everything that goes into our inspections at:http://www.carvanaauto.com/7126041-74502NO REPORTED ACCIDENTS: We do not sell cars that have been in a reported accident or have a frame or structural damage.7 DAY TEST OWN MONEY BACK GUARANTEE: Every Carvana car comes with a 7-day money-back guarantee. Why? It takes more than 15-minutes to make a decision on your next car. Learn more about test owning at http://about.carvanaauto.comFLEXIBLE FINANCING, TRADE INS WELCOME: We’re all about real-time financing without the middle man. Need financing? Pick a combination of down and monthly payments that work for you. Have a trade-in? We’ll give you a value in 2 minutes. Check out everything about our financing at:http://finance.carvanaauto.com/7126041-74502COST SAVINGS: Carvana's business model has fewer expenses and no bloated fees compared to your local dealership. See how much we can save you at http://about.carvanaauto.comPREMIUM DETAIL: We go the extra mile so that your car is looking as good as new. There are a lot of specifics that we won’t list here (we wash, clean, buff, paint, polish, wax, seal), but trust us that when your car arrives, it’s going to look sweet.Vehicle Info for Stock# 2000978720Trim: LT Pickup 4D 6 1/2 ft pickupMileage: 29k milesExterior Color: SilverInterior Color: Dk. GrayEngine: EcoTec3 4.3L Flex Fuel V6 285hp 305ft. lbs.Drive: 4wdTransmission: VIN: 1GCVKREH6GZ228691Dealer Disclosure: Price excludes tax, title, and registration (which we handle for you).Disclaimer: You agree that by providing your phone number, Carvana, or Carvana’s authorized representatives*, may call and/or send text messages (including by using equipment to automatically dial telephone numbers) about your interest in a purchase, for marketing/sales purposes, or for any other servicing or informational purpose related to your account. You do not have to consent to receiving calls or texts to purchase from Carvana. While every reasonable effort is made to ensure the accuracy of the information for this Chevrolet Silverado 1500 Double Cab, we are not responsible for any errors or omissions contained in this ad. Please verify any information in question with Carvana at 334-758-9176*Including, but not limited to, Bridgecrest Credit Company, GO Financial and SilverRock Automotive.*Chevrolet* *Silverado* *1500* *Double* *Cab* *Chevy* *Chevrolet* *Silverado* *1500* *Double* *Cab* *HD* *Crew* *Cab* *LS* *Pickup* *Chevrolet* *Silverado* *1500* *Double* *Cab* *LS* *Chevrolet* *Silverado* *1500* *Double* *Cab* *LT* *Chevrolet* *Silverado* *1500* *Double* *Cab* *LTZ* *Chevrolet* *Silverado* *1500* *Double* *Cab* *LT1* *Chevrolet* *Silverado* *1500* *Double* *Cab* *Crew* *Cab* *Chevrolet* *Silverado* *1500* *Double* *Cab* *XtraCab* *Chevrolet* *Silverado* *1500* *Double* *Cab* *2500HD* *Classic* *Pick* *up* 2022  2021  2020  2019  2018  2017  2016  2015  2014  2013  2012  2011  2010  2009  2008  2007  2006  2005  2004  2003  2002  2001  2000   22  21    19  18  17  16  15  14  13  12  11  10  09  08  07  06  05  04  03  02  01  00\"\n",
            " \"Selling my 2019 Toyota Tacoma TRD Off Road Double Cab 5ft Bed in Cement Grey  This beautiful truck is in great condition and has been taken care of for the past three years and has had only one owner (myself). It only has 43,000 miles on it and has hundreds of thousands of miles ahead of itself and is a great option for anyone interested in Tacomas or just a sturdy reliable vehicle. I'm selling this as I am investing more of my money into other hobbies and I am also looking to get into an old 4Runner, Landcruiser or Sequoia.  The truck is stock and has had regular maintenance conducted. Weather Tech Mats are installed and included and have made a huge difference in preserving the vehicle. The title is Clean and the truck has not been in any Car Accidents. It does has signs of use like small scratches and dents however they are small and the Cement Gray body color helps reduce their visibility.  Looking for $35,000 or a Trade w/Cash for a late 1990s or early 2000s 4Runner, Landcruiser or Sequoia.   If interested please email me and we can arrange a test drive and/or inspection. Looking for Check in which we would go to your bank to ensure it clears. No Payment Plans will be accepted.\"\n",
            " \"Carvana is the safer way to buy a car During these uncertain times, Carvana is dedicated to ensuring safety for all of our customers. In addition to our 100% online shopping and selling experience that allows all customers to buy and trade their cars without ever leaving the safety of their house, we’re providing touchless delivery that make all aspects of our process even safer. Now, you can get the car you want, and trade in your old one, while avoiding person-to-person contact with our friendly advocates. There are some things that can’t be put off. And if buying a car is one of them, know that we’re doing everything we can to keep you keep moving while continuing to put your health safety, and happiness first. Vehicle Stock# 2000941526📱 Want to instantly check this car’s availability? Call us at  334-758-9176Just text that stock number to 855-976-4304 or head to http://www.carvanaauto.com/6993332-74502 and plug it into the search bar!Get PRE-QUALIFIED for your auto loan in 2 minutes - no hit to your credit:http://finance.carvanaauto.com/6993332-74502Looking for more cars like this one? We have 15 Chevrolet Colorado Extended Cab in stock for as low as $18590!Why buy with Carvana? We have one standard: the highest. Take a look at just some of the qualifications all of our cars must meet before we list them.150-POINT INSPECTION: We put each vehicle through a 150-point inspection so that you can be 100% confident in its quality and safety. See everything that goes into our inspections at:http://www.carvanaauto.com/6993332-74502NO REPORTED ACCIDENTS: We do not sell cars that have been in a reported accident or have a frame or structural damage.7 DAY TEST OWN MONEY BACK GUARANTEE: Every Carvana car comes with a 7-day money-back guarantee. Why? It takes more than 15-minutes to make a decision on your next car. Learn more about test owning at http://about.carvanaauto.comFLEXIBLE FINANCING, TRADE INS WELCOME: We’re all about real-time financing without the middle man. Need financing? Pick a combination of down and monthly payments that work for you. Have a trade-in? We’ll give you a value in 2 minutes. Check out everything about our financing at:http://finance.carvanaauto.com/6993332-74502COST SAVINGS: Carvana's business model has fewer expenses and no bloated fees compared to your local dealership. See how much we can save you at http://about.carvanaauto.comPREMIUM DETAIL: We go the extra mile so that your car is looking as good as new. There are a lot of specifics that we won’t list here (we wash, clean, buff, paint, polish, wax, seal), but trust us that when your car arrives, it’s going to look sweet.Vehicle Info for Stock# 2000941526Trim: LT Pickup 2D 6 ft pickupMileage: 17k milesExterior Color: RedInterior Color: GRAYEngine: 3.6L V6 305hp 269ft. lbs.Drive: 4wdTransmission: VIN: 1GCHTCE37G1186784Dealer Disclosure: Price excludes tax, title, and registration (which we handle for you).Disclaimer: You agree that by providing your phone number, Carvana, or Carvana’s authorized representatives*, may call and/or send text messages (including by using equipment to automatically dial telephone numbers) about your interest in a purchase, for marketing/sales purposes, or for any other servicing or informational purpose related to your account. You do not have to consent to receiving calls or texts to purchase from Carvana. While every reasonable effort is made to ensure the accuracy of the information for this Chevrolet Colorado Extended Cab, we are not responsible for any errors or omissions contained in this ad. Please verify any information in question with Carvana at 334-758-9176*Including, but not limited to, Bridgecrest Credit Company, GO Financial and SilverRock Automotive.*Chevrolet* *Colorado* *Extended* *Cab* *Chevy* *Chevrolet* *Colorado* *Extended* *Cab* *4WD* *Crew* *Cab* *LT* *w/1LT* *Chevrolet* *Colorado* *Extended* *Cab* *Regular* *Cab* *Chevrolet* *Colorado* *Extended* *Cab* *extended* *cab* *Chevrolet* *Colorado* *Extended* *Cab* *WT* *Chevrolet* *Colorado* *Extended* *Cab* *Z71* *Chevrolet* *Colorado* *Extended* *Cab* *DX* *Chevrolet* *Colorado* *Extended* *Cab* *LX* *Chevrolet* *Colorado* *Extended* *Cab* *LT* *Chevrolet* *Colorado* *Extended* *Cab* *LTZ* *Pick* *UP* 2022  2021  2020  2019  2018  2017  2016  2015  2014  2013  2012  2011  2010  2009  2008  2007  2006  2005  2004  2003  2002  2001  2000   22  21    19  18  17  16  15  14  13  12  11  10  09  08  07  06  05  04  03  02  01  00\"\n",
            " \"Carvana is the safer way to buy a car During these uncertain times, Carvana is dedicated to ensuring safety for all of our customers. In addition to our 100% online shopping and selling experience that allows all customers to buy and trade their cars without ever leaving the safety of their house, we’re providing touchless delivery that make all aspects of our process even safer. Now, you can get the car you want, and trade in your old one, while avoiding person-to-person contact with our friendly advocates. There are some things that can’t be put off. And if buying a car is one of them, know that we’re doing everything we can to keep you keep moving while continuing to put your health safety, and happiness first. Vehicle Stock# 2000926777📱 Want to instantly check this car’s availability? Call us at  334-758-9176Just text that stock number to 855-976-4304 or head to http://www.carvanaauto.com/6890476-74502 and plug it into the search bar!Get PRE-QUALIFIED for your auto loan in 2 minutes - no hit to your credit:http://finance.carvanaauto.com/6890476-74502Looking for more cars like this one? We have 88 Chevrolet Corvette in stock for as low as $27590!Why buy with Carvana? We have one standard: the highest. Take a look at just some of the qualifications all of our cars must meet before we list them.150-POINT INSPECTION: We put each vehicle through a 150-point inspection so that you can be 100% confident in its quality and safety. See everything that goes into our inspections at:http://www.carvanaauto.com/6890476-74502NO REPORTED ACCIDENTS: We do not sell cars that have been in a reported accident or have a frame or structural damage.7 DAY TEST OWN MONEY BACK GUARANTEE: Every Carvana car comes with a 7-day money-back guarantee. Why? It takes more than 15-minutes to make a decision on your next car. Learn more about test owning at http://about.carvanaauto.comFLEXIBLE FINANCING, TRADE INS WELCOME: We’re all about real-time financing without the middle man. Need financing? Pick a combination of down and monthly payments that work for you. Have a trade-in? We’ll give you a value in 2 minutes. Check out everything about our financing at:http://finance.carvanaauto.com/6890476-74502COST SAVINGS: Carvana's business model has fewer expenses and no bloated fees compared to your local dealership. See how much we can save you at http://about.carvanaauto.comPREMIUM DETAIL: We go the extra mile so that your car is looking as good as new. There are a lot of specifics that we won’t list here (we wash, clean, buff, paint, polish, wax, seal), but trust us that when your car arrives, it’s going to look sweet.Vehicle Info for Stock# 2000926777Trim: Grand Sport Convertible 2D ConvertibleMileage: 30k milesExterior Color: RedInterior Color: BlackEngine: 6.2L V8 430hp 424ft. lbs.Drive: rwdTransmission: VIN: 1G1YR3DW3B5102190Dealer Disclosure: Price excludes tax, title, and registration (which we handle for you).Disclaimer: You agree that by providing your phone number, Carvana, or Carvana’s authorized representatives*, may call and/or send text messages (including by using equipment to automatically dial telephone numbers) about your interest in a purchase, for marketing/sales purposes, or for any other servicing or informational purpose related to your account. You do not have to consent to receiving calls or texts to purchase from Carvana. While every reasonable effort is made to ensure the accuracy of the information for this Chevrolet Corvette, we are not responsible for any errors or omissions contained in this ad. Please verify any information in question with Carvana at 334-758-9176*Including, but not limited to, Bridgecrest Credit Company, GO Financial and SilverRock Automotive.*Chevrolet* *Corvette* *Chevy* *Chevrolet* *Corvette* *vZR1* *Chevrolet* *Corvette* *Z06* *Hardtop* *Chevrolet* *Corvette* *Stingray* *Chevrolet* *Corvette* *3* *Lt* *Chevrolet* *Corvette* *C5-R* *Chevrolet* *Corvette* *Grand* *Sport* *Chevrolet* *Corvette* *Corvette* *C6* *ZR1* *Chevrolet* *Corvette* *2LT* *Chevrolet* *Corvette* *4LT* *Sports* *Car* *Coupe* 2022  2021  2020  2019  2018  2017  2016  2015  2014  2013  2012  2011  2010  2009  2008  2007  2006  2005  2004  2003  2002  2001  2000   22  21    19  18  17  16  15  14  13  12  11  10  09  08  07  06  05  04  03  02  01  00\"\n",
            " '192k miles brand new TSLs 4x4 jeep xj. 4x4 works amazing. Hot heat, ac needs recharged. Text for more info. TEXT ONLY. Cash only!'\n",
            " \"Carvana is the safer way to buy a car During these uncertain times, Carvana is dedicated to ensuring safety for all of our customers. In addition to our 100% online shopping and selling experience that allows all customers to buy and trade their cars without ever leaving the safety of their house, we’re providing touchless delivery that make all aspects of our process even safer. Now, you can get the car you want, and trade in your old one, while avoiding person-to-person contact with our friendly advocates. There are some things that can’t be put off. And if buying a car is one of them, know that we’re doing everything we can to keep you keep moving while continuing to put your health safety, and happiness first. Vehicle Stock# 2000974739📱 Want to instantly check this car’s availability? Call us at  334-758-9176Just text that stock number to 855-976-4304 or head to http://www.carvanaauto.com/7144622-74502 and plug it into the search bar!Get PRE-QUALIFIED for your auto loan in 2 minutes - no hit to your credit:http://finance.carvanaauto.com/7144622-74502Looking for more cars like this one? We have 119 Jeep Wrangler Unlimited in stock for as low as $27990!Why buy with Carvana? We have one standard: the highest. Take a look at just some of the qualifications all of our cars must meet before we list them.150-POINT INSPECTION: We put each vehicle through a 150-point inspection so that you can be 100% confident in its quality and safety. See everything that goes into our inspections at:http://www.carvanaauto.com/7144622-74502NO REPORTED ACCIDENTS: We do not sell cars that have been in a reported accident or have a frame or structural damage.7 DAY TEST OWN MONEY BACK GUARANTEE: Every Carvana car comes with a 7-day money-back guarantee. Why? It takes more than 15-minutes to make a decision on your next car. Learn more about test owning at http://about.carvanaauto.comFLEXIBLE FINANCING, TRADE INS WELCOME: We’re all about real-time financing without the middle man. Need financing? Pick a combination of down and monthly payments that work for you. Have a trade-in? We’ll give you a value in 2 minutes. Check out everything about our financing at:http://finance.carvanaauto.com/7144622-74502COST SAVINGS: Carvana's business model has fewer expenses and no bloated fees compared to your local dealership. See how much we can save you at http://about.carvanaauto.comPREMIUM DETAIL: We go the extra mile so that your car is looking as good as new. There are a lot of specifics that we won’t list here (we wash, clean, buff, paint, polish, wax, seal), but trust us that when your car arrives, it’s going to look sweet.Vehicle Info for Stock# 2000974739Trim: Sport SUV 4D suvMileage: 30k milesExterior Color: SilverInterior Color: BLACKEngine: 3.6L V6 285hp 260ft. lbs.Drive: 4wdTransmission: VIN: 1C4BJWDG5HL705371Dealer Disclosure: Price excludes tax, title, and registration (which we handle for you).Disclaimer: You agree that by providing your phone number, Carvana, or Carvana’s authorized representatives*, may call and/or send text messages (including by using equipment to automatically dial telephone numbers) about your interest in a purchase, for marketing/sales purposes, or for any other servicing or informational purpose related to your account. You do not have to consent to receiving calls or texts to purchase from Carvana. While every reasonable effort is made to ensure the accuracy of the information for this Jeep Wrangler Unlimited, we are not responsible for any errors or omissions contained in this ad. Please verify any information in question with Carvana at 334-758-9176*Including, but not limited to, Bridgecrest Credit Company, GO Financial and SilverRock Automotive.*Jeep* *Wrangler* *Unlimited* *TJ* *Jeep* *Wrangler* *Unlimited* *YJ* *Jeep* *Wrangler* *Unlimited* *YJ* *Wrangler* *Islander* *Jeep* *Wrangler* *Unlimited* *YJ* *Wrangler* *Renegade* *Jeep* *Wrangler* *Unlimited* *SE* *Jeep* *Wrangler* *Unlimited* *Laredo* *Jeep* *Wrangler* *Unlimited* *Sport* *Jeep* *Wrangler* *Unlimited* *Sahara* *Jeep* *Wrangler* *Unlimited* *Rio* *Grande* *Jeep* *Wrangler* *Unlimited* *X* *Jeep* *Wrangler* *Unlimited* *60th* *Anniversary* *Edition* *Jeep* *Wrangler* *Unlimited* *65th* *Anniversary* *Edition* *Jeep* *Wrangler* *Unlimited* *Apex* *Edition* *Jeep* *Wrangler* *Unlimited* *Columbia* *Edition* *Jeep* *Wrangler* *Unlimited* *Freedom* *Edition* *Jeep* *Wrangler* *Unlimited* *Golden* *Eagle* *Jeep* *Wrangler* *Unlimited* *Rocky* *Mountain* *Edition* *Jeep* *Wrangler* *Unlimited* *Sahara* *Edition* *Unlimited* *Rubicon* *Jeep* *Wrangler* *Unlimited* *Rubicon* *Tomb* *Raider* *Edition* *Jeep* *Wrangler* *Unlimited* *Willys* *Edition* *Jeep* *Wrangler* *Unlimited* *Rubicon* *Jeep* *Wrangler* *Unlimited* *Unlimited* *SUV* 2022  2021  2020  2019  2018  2017  2016  2015  2014  2013  2012  2011  2010  2009  2008  2007  2006  2005  2004  2003  2002  2001  2000   22  21    19  18  17  16  15  14  13  12  11  10  09  08  07  06  05  04  03  02  01  00\"\n",
            " \"Carvana is the safer way to buy a car During these uncertain times, Carvana is dedicated to ensuring safety for all of our customers. In addition to our 100% online shopping and selling experience that allows all customers to buy and trade their cars without ever leaving the safety of their house, we’re providing touchless delivery that make all aspects of our process even safer. Now, you can get the car you want, and trade in your old one, while avoiding person-to-person contact with our friendly advocates. There are some things that can’t be put off. And if buying a car is one of them, know that we’re doing everything we can to keep you keep moving while continuing to put your health safety, and happiness first. Vehicle Stock# 2000907285📱 Want to instantly check this car’s availability? Call us at  334-758-9176Just text that stock number to 855-976-4304 or head to http://www.carvanaauto.com/7143861-74502 and plug it into the search bar!Get PRE-QUALIFIED for your auto loan in 2 minutes - no hit to your credit:http://finance.carvanaauto.com/7143861-74502Looking for more cars like this one? We have 18 Chevrolet Silverado 1500 Regular Cab in stock for as low as $13590!Why buy with Carvana? We have one standard: the highest. Take a look at just some of the qualifications all of our cars must meet before we list them.150-POINT INSPECTION: We put each vehicle through a 150-point inspection so that you can be 100% confident in its quality and safety. See everything that goes into our inspections at:http://www.carvanaauto.com/7143861-74502NO REPORTED ACCIDENTS: We do not sell cars that have been in a reported accident or have a frame or structural damage.7 DAY TEST OWN MONEY BACK GUARANTEE: Every Carvana car comes with a 7-day money-back guarantee. Why? It takes more than 15-minutes to make a decision on your next car. Learn more about test owning at http://about.carvanaauto.comFLEXIBLE FINANCING, TRADE INS WELCOME: We’re all about real-time financing without the middle man. Need financing? Pick a combination of down and monthly payments that work for you. Have a trade-in? We’ll give you a value in 2 minutes. Check out everything about our financing at:http://finance.carvanaauto.com/7143861-74502COST SAVINGS: Carvana's business model has fewer expenses and no bloated fees compared to your local dealership. See how much we can save you at http://about.carvanaauto.comPREMIUM DETAIL: We go the extra mile so that your car is looking as good as new. There are a lot of specifics that we won’t list here (we wash, clean, buff, paint, polish, wax, seal), but trust us that when your car arrives, it’s going to look sweet.Vehicle Info for Stock# 2000907285Trim: Work Truck Pickup 2D 8 ft pickupMileage: 40k milesExterior Color: WhiteInterior Color: Dk. GrayEngine: EcoTec3 4.3L Flex Fuel V6 285hp 305ft. lbs.Drive: Two Wheel DriveTransmission: VIN: 1GCNCNEH7HZ118773Dealer Disclosure: Price excludes tax, title, and registration (which we handle for you).Disclaimer: You agree that by providing your phone number, Carvana, or Carvana’s authorized representatives*, may call and/or send text messages (including by using equipment to automatically dial telephone numbers) about your interest in a purchase, for marketing/sales purposes, or for any other servicing or informational purpose related to your account. You do not have to consent to receiving calls or texts to purchase from Carvana. While every reasonable effort is made to ensure the accuracy of the information for this Chevrolet Silverado 1500 Regular Cab, we are not responsible for any errors or omissions contained in this ad. Please verify any information in question with Carvana at 334-758-9176*Including, but not limited to, Bridgecrest Credit Company, GO Financial and SilverRock Automotive.*Chevrolet* *Silverado* *1500* *Regular* *Cab* *Chevy* *Chevrolet* *Silverado* *1500* *Regular* *Cab* *HD* *Crew* *Cab* *LS* *Pickup* *Chevrolet* *Silverado* *1500* *Regular* *Cab* *LS* *Chevrolet* *Silverado* *1500* *Regular* *Cab* *LT* *Chevrolet* *Silverado* *1500* *Regular* *Cab* *LTZ* *Chevrolet* *Silverado* *1500* *Regular* *Cab* *LT1* *Chevrolet* *Silverado* *1500* *Regular* *Cab* *Crew* *Cab* *Chevrolet* *Silverado* *1500* *Regular* *Cab* *XtraCab* *Chevrolet* *Silverado* *1500* *Regular* *Cab* *2500HD* *Classic* *Pick* *up* 2022  2021  2020  2019  2018  2017  2016  2015  2014  2013  2012  2011  2010  2009  2008  2007  2006  2005  2004  2003  2002  2001  2000   22  21    19  18  17  16  15  14  13  12  11  10  09  08  07  06  05  04  03  02  01  00\"\n",
            " \"Carvana is the safer way to buy a car During these uncertain times, Carvana is dedicated to ensuring safety for all of our customers. In addition to our 100% online shopping and selling experience that allows all customers to buy and trade their cars without ever leaving the safety of their house, we’re providing touchless delivery that make all aspects of our process even safer. Now, you can get the car you want, and trade in your old one, while avoiding person-to-person contact with our friendly advocates. There are some things that can’t be put off. And if buying a car is one of them, know that we’re doing everything we can to keep you keep moving while continuing to put your health safety, and happiness first. Vehicle Stock# 2000931640📱 Want to instantly check this car’s availability? Call us at  334-758-9176Just text that stock number to 855-976-4304 or head to http://www.carvanaauto.com/7144111-74502 and plug it into the search bar!Get PRE-QUALIFIED for your auto loan in 2 minutes - no hit to your credit:http://finance.carvanaauto.com/7144111-74502Looking for more cars like this one? We have 59 Chevrolet Colorado Crew Cab in stock for as low as $20990!Why buy with Carvana? We have one standard: the highest. Take a look at just some of the qualifications all of our cars must meet before we list them.150-POINT INSPECTION: We put each vehicle through a 150-point inspection so that you can be 100% confident in its quality and safety. See everything that goes into our inspections at:http://www.carvanaauto.com/7144111-74502NO REPORTED ACCIDENTS: We do not sell cars that have been in a reported accident or have a frame or structural damage.7 DAY TEST OWN MONEY BACK GUARANTEE: Every Carvana car comes with a 7-day money-back guarantee. Why? It takes more than 15-minutes to make a decision on your next car. Learn more about test owning at http://about.carvanaauto.comFLEXIBLE FINANCING, TRADE INS WELCOME: We’re all about real-time financing without the middle man. Need financing? Pick a combination of down and monthly payments that work for you. Have a trade-in? We’ll give you a value in 2 minutes. Check out everything about our financing at:http://finance.carvanaauto.com/7144111-74502COST SAVINGS: Carvana's business model has fewer expenses and no bloated fees compared to your local dealership. See how much we can save you at http://about.carvanaauto.comPREMIUM DETAIL: We go the extra mile so that your car is looking as good as new. There are a lot of specifics that we won’t list here (we wash, clean, buff, paint, polish, wax, seal), but trust us that when your car arrives, it’s going to look sweet.Vehicle Info for Stock# 2000931640Trim: Z71 Pickup 4D 6 ft pickupMileage: 34k milesExterior Color: BlueInterior Color: BLACKEngine: Drive: 4wdTransmission: VIN: 1GCGTDE32G1341288Dealer Disclosure: Price excludes tax, title, and registration (which we handle for you).Disclaimer: You agree that by providing your phone number, Carvana, or Carvana’s authorized representatives*, may call and/or send text messages (including by using equipment to automatically dial telephone numbers) about your interest in a purchase, for marketing/sales purposes, or for any other servicing or informational purpose related to your account. You do not have to consent to receiving calls or texts to purchase from Carvana. While every reasonable effort is made to ensure the accuracy of the information for this Chevrolet Colorado Crew Cab, we are not responsible for any errors or omissions contained in this ad. Please verify any information in question with Carvana at 334-758-9176*Including, but not limited to, Bridgecrest Credit Company, GO Financial and SilverRock Automotive.*Chevrolet* *Colorado* *Crew* *Cab* *Chevy* *Chevrolet* *Colorado* *Crew* *Cab* *4WD* *Crew* *Cab* *LT* *w/1LT* *Chevrolet* *Colorado* *Crew* *Cab* *Regular* *Cab* *Chevrolet* *Colorado* *Crew* *Cab* *extended* *cab* *Chevrolet* *Colorado* *Crew* *Cab* *WT* *Chevrolet* *Colorado* *Crew* *Cab* *Z71* *Chevrolet* *Colorado* *Crew* *Cab* *DX* *Chevrolet* *Colorado* *Crew* *Cab* *LX* *Chevrolet* *Colorado* *Crew* *Cab* *LT* *Chevrolet* *Colorado* *Crew* *Cab* *LTZ* *Pick* *UP* 2022  2021  2020  2019  2018  2017  2016  2015  2014  2013  2012  2011  2010  2009  2008  2007  2006  2005  2004  2003  2002  2001  2000   22  21    19  18  17  16  15  14  13  12  11  10  09  08  07  06  05  04  03  02  01  00\"\n",
            " \"Carvana is the safer way to buy a car During these uncertain times, Carvana is dedicated to ensuring safety for all of our customers. In addition to our 100% online shopping and selling experience that allows all customers to buy and trade their cars without ever leaving the safety of their house, we’re providing touchless delivery that make all aspects of our process even safer. Now, you can get the car you want, and trade in your old one, while avoiding person-to-person contact with our friendly advocates. There are some things that can’t be put off. And if buying a car is one of them, know that we’re doing everything we can to keep you keep moving while continuing to put your health safety, and happiness first. Vehicle Stock# 2000978547📱 Want to instantly check this car’s availability? Call us at  334-758-9176Just text that stock number to 855-976-4304 or head to http://www.carvanaauto.com/7105924-74502 and plug it into the search bar!Get PRE-QUALIFIED for your auto loan in 2 minutes - no hit to your credit:http://finance.carvanaauto.com/7105924-74502Looking for more cars like this one? We have 40 Toyota Tacoma Access Cab in stock for as low as $18990!Why buy with Carvana? We have one standard: the highest. Take a look at just some of the qualifications all of our cars must meet before we list them.150-POINT INSPECTION: We put each vehicle through a 150-point inspection so that you can be 100% confident in its quality and safety. See everything that goes into our inspections at:http://www.carvanaauto.com/7105924-74502NO REPORTED ACCIDENTS: We do not sell cars that have been in a reported accident or have a frame or structural damage.7 DAY TEST OWN MONEY BACK GUARANTEE: Every Carvana car comes with a 7-day money-back guarantee. Why? It takes more than 15-minutes to make a decision on your next car. Learn more about test owning at http://about.carvanaauto.comFLEXIBLE FINANCING, TRADE INS WELCOME: We’re all about real-time financing without the middle man. Need financing? Pick a combination of down and monthly payments that work for you. Have a trade-in? We’ll give you a value in 2 minutes. Check out everything about our financing at:http://finance.carvanaauto.com/7105924-74502COST SAVINGS: Carvana's business model has fewer expenses and no bloated fees compared to your local dealership. See how much we can save you at http://about.carvanaauto.comPREMIUM DETAIL: We go the extra mile so that your car is looking as good as new. There are a lot of specifics that we won’t list here (we wash, clean, buff, paint, polish, wax, seal), but trust us that when your car arrives, it’s going to look sweet.Vehicle Info for Stock# 2000978547Trim: Pickup 4D 6 ft pickupMileage: 17k milesExterior Color: RedInterior Color: BLACKEngine: Drive: Two Wheel DriveTransmission: VIN: 5TFTX4CN3EX042751Dealer Disclosure: Price excludes tax, title, and registration (which we handle for you).Disclaimer: You agree that by providing your phone number, Carvana, or Carvana’s authorized representatives*, may call and/or send text messages (including by using equipment to automatically dial telephone numbers) about your interest in a purchase, for marketing/sales purposes, or for any other servicing or informational purpose related to your account. You do not have to consent to receiving calls or texts to purchase from Carvana. While every reasonable effort is made to ensure the accuracy of the information for this Toyota Tacoma Access Cab, we are not responsible for any errors or omissions contained in this ad. Please verify any information in question with Carvana at 334-758-9176*Including, but not limited to, Bridgecrest Credit Company, GO Financial and SilverRock Automotive.*Toyota* *Tacoma* *Access* *Cab* *Access* *Cab* *Toyota* *Tacoma* *Access* *Cab* *Access* *Cab* *PreRunner* *Toyota* *Tacoma* *Access* *Cab* *Access* *Cab* *X-Runner* *Toyota* *Tacoma* *Access* *Cab* *Double* *Cab* *Toyota* *Tacoma* *Access* *Cab* *Double* *Cab* *PreRunner* *Toyota* *Tacoma* *Access* *Cab* *Regular* *Cab* *Pickup* *Toyota* *Tacoma* *Access* *Cab* *SR5* *TRD* *Toyota* *Tacoma* *Access* *Cab* *Xtracab* *Pickup* *Toyota* *Tacoma* *Access* *Cab* *Xtracab* *PreRunner* *Pickup* *Toyota* *Tacoma* *Access* *Cab* *extended* *cab* *Toyota* *Tacoma* *Access* *Cab* *4WD* *Regular* *Toyota* *Tacoma* *Access* *Cab* *TRD* *supercharger* *Pick* *up* 2022  2021  2020  2019  2018  2017  2016  2015  2014  2013  2012  2011  2010  2009  2008  2007  2006  2005  2004  2003  2002  2001  2000   22  21    19  18  17  16  15  14  13  12  11  10  09  08  07  06  05  04  03  02  01  00\"\n",
            " \"Carvana is the safer way to buy a car During these uncertain times, Carvana is dedicated to ensuring safety for all of our customers. In addition to our 100% online shopping and selling experience that allows all customers to buy and trade their cars without ever leaving the safety of their house, we’re providing touchless delivery that make all aspects of our process even safer. Now, you can get the car you want, and trade in your old one, while avoiding person-to-person contact with our friendly advocates. There are some things that can’t be put off. And if buying a car is one of them, know that we’re doing everything we can to keep you keep moving while continuing to put your health safety, and happiness first. Vehicle Stock# 2000992400📱 Want to instantly check this car’s availability? Call us at  334-758-9176Just text that stock number to 855-976-4304 or head to http://www.carvanaauto.com/7154396-74502 and plug it into the search bar!Get PRE-QUALIFIED for your auto loan in 2 minutes - no hit to your credit:http://finance.carvanaauto.com/7154396-74502Looking for more cars like this one? We have 161 Chevrolet Camaro in stock for as low as $13590!Why buy with Carvana? We have one standard: the highest. Take a look at just some of the qualifications all of our cars must meet before we list them.150-POINT INSPECTION: We put each vehicle through a 150-point inspection so that you can be 100% confident in its quality and safety. See everything that goes into our inspections at:http://www.carvanaauto.com/7154396-74502NO REPORTED ACCIDENTS: We do not sell cars that have been in a reported accident or have a frame or structural damage.7 DAY TEST OWN MONEY BACK GUARANTEE: Every Carvana car comes with a 7-day money-back guarantee. Why? It takes more than 15-minutes to make a decision on your next car. Learn more about test owning at http://about.carvanaauto.comFLEXIBLE FINANCING, TRADE INS WELCOME: We’re all about real-time financing without the middle man. Need financing? Pick a combination of down and monthly payments that work for you. Have a trade-in? We’ll give you a value in 2 minutes. Check out everything about our financing at:http://finance.carvanaauto.com/7154396-74502COST SAVINGS: Carvana's business model has fewer expenses and no bloated fees compared to your local dealership. See how much we can save you at http://about.carvanaauto.comPREMIUM DETAIL: We go the extra mile so that your car is looking as good as new. There are a lot of specifics that we won’t list here (we wash, clean, buff, paint, polish, wax, seal), but trust us that when your car arrives, it’s going to look sweet.Vehicle Info for Stock# 2000992400Trim: SS Coupe 2D coupeMileage: 9k milesExterior Color: RedInterior Color: GRAYEngine: 6.2L V8 455hp 455ft. lbs.Drive: rwdTransmission: VIN: 1G1FF1R79G0140582Dealer Disclosure: Price excludes tax, title, and registration (which we handle for you).Disclaimer: You agree that by providing your phone number, Carvana, or Carvana’s authorized representatives*, may call and/or send text messages (including by using equipment to automatically dial telephone numbers) about your interest in a purchase, for marketing/sales purposes, or for any other servicing or informational purpose related to your account. You do not have to consent to receiving calls or texts to purchase from Carvana. While every reasonable effort is made to ensure the accuracy of the information for this Chevrolet Camaro, we are not responsible for any errors or omissions contained in this ad. Please verify any information in question with Carvana at 334-758-9176*Including, but not limited to, Bridgecrest Credit Company, GO Financial and SilverRock Automotive.*Chevrolet* *Camaro* *Chevy* *Chevrolet* *Camaro* *Ls* *7* *Chevrolet* *Camaro* *1* *Lt* *Chevrolet* *Camaro* *2* *Lt* *Chevrolet* *Camaro* *1SS* *Chevrolet* *Camaro* *2SS* *Chevrolet* *Camaro* *SSX* *Chevrolet* *Camaro* *SS* *convertible* *Chevrolet* *Camaro* *ZL1* *Chevrolet* *Camaro* *1LE* *Chevrolet* *Camaro* *2LT* *CONVERT* *Chevrolet* *Camaro* *ZL1* *CONVERTIBLE* *Chevrolet* *Camaro* *Z/28* *Chevrolet* *Camaro* *LS* *Coupe* *Convertible* 2022  2021  2020  2019  2018  2017  2016  2015  2014  2013  2012  2011  2010  2009  2008  2007  2006  2005  2004  2003  2002  2001  2000   22  21    19  18  17  16  15  14  13  12  11  10  09  08  07  06  05  04  03  02  01  00\"\n",
            " \"Carvana is the safer way to buy a car During these uncertain times, Carvana is dedicated to ensuring safety for all of our customers. In addition to our 100% online shopping and selling experience that allows all customers to buy and trade their cars without ever leaving the safety of their house, we’re providing touchless delivery that make all aspects of our process even safer. Now, you can get the car you want, and trade in your old one, while avoiding person-to-person contact with our friendly advocates. There are some things that can’t be put off. And if buying a car is one of them, know that we’re doing everything we can to keep you keep moving while continuing to put your health safety, and happiness first. Vehicle Stock# 2000968427📱 Want to instantly check this car’s availability? Call us at  334-758-9176Just text that stock number to 855-976-4304 or head to http://www.carvanaauto.com/7145092-74502 and plug it into the search bar!Get PRE-QUALIFIED for your auto loan in 2 minutes - no hit to your credit:http://finance.carvanaauto.com/7145092-74502Looking for more cars like this one? We have 77 Toyota Tundra CrewMax in stock for as low as $25990!Why buy with Carvana? We have one standard: the highest. Take a look at just some of the qualifications all of our cars must meet before we list them.150-POINT INSPECTION: We put each vehicle through a 150-point inspection so that you can be 100% confident in its quality and safety. See everything that goes into our inspections at:http://www.carvanaauto.com/7145092-74502NO REPORTED ACCIDENTS: We do not sell cars that have been in a reported accident or have a frame or structural damage.7 DAY TEST OWN MONEY BACK GUARANTEE: Every Carvana car comes with a 7-day money-back guarantee. Why? It takes more than 15-minutes to make a decision on your next car. Learn more about test owning at http://about.carvanaauto.comFLEXIBLE FINANCING, TRADE INS WELCOME: We’re all about real-time financing without the middle man. Need financing? Pick a combination of down and monthly payments that work for you. Have a trade-in? We’ll give you a value in 2 minutes. Check out everything about our financing at:http://finance.carvanaauto.com/7145092-74502COST SAVINGS: Carvana's business model has fewer expenses and no bloated fees compared to your local dealership. See how much we can save you at http://about.carvanaauto.comPREMIUM DETAIL: We go the extra mile so that your car is looking as good as new. There are a lot of specifics that we won’t list here (we wash, clean, buff, paint, polish, wax, seal), but trust us that when your car arrives, it’s going to look sweet.Vehicle Info for Stock# 2000968427Trim: SR5 Pickup 4D 5 1/2 ft pickupMileage: 55k milesExterior Color: RedInterior Color: BLACKEngine: Drive: Two Wheel DriveTransmission: VIN: 5TFEY5F15EX169621Dealer Disclosure: Price excludes tax, title, and registration (which we handle for you).Disclaimer: You agree that by providing your phone number, Carvana, or Carvana’s authorized representatives*, may call and/or send text messages (including by using equipment to automatically dial telephone numbers) about your interest in a purchase, for marketing/sales purposes, or for any other servicing or informational purpose related to your account. You do not have to consent to receiving calls or texts to purchase from Carvana. While every reasonable effort is made to ensure the accuracy of the information for this Toyota Tundra CrewMax, we are not responsible for any errors or omissions contained in this ad. Please verify any information in question with Carvana at 334-758-9176*Including, but not limited to, Bridgecrest Credit Company, GO Financial and SilverRock Automotive.*Toyota* *Tundra* *CrewMax* *2WD* *Truck* *Toyota* *Tundra* *CrewMax* *4WD* *Toyota* *Tundra* *CrewMax* *Access* *Cab* *Limited* *Toyota* *Tundra* *CrewMax* *Access* *Cab* *SR5* *Toyota* *Tundra* *CrewMax* *CrewMax* *Limited* *Toyota* *Tundra* *CrewMax* *CrewMax* *Toyota* *Tundra* *CrewMax* *CrewMax* *SR5* *Toyota* *Tundra* *CrewMax* *Double* *Cab* *Toyota* *Tundra* *CrewMax* *Double* *Cab* *Limited* *Toyota* *Tundra* *CrewMax* *Double* *Cab* *SR5* *Toyota* *Tundra* *CrewMax* *Regular* *Cab* *Toyota* *Tundra* *CrewMax* *SR* *Toyota* *Tundra* *CrewMax* *Platinum* *Toyota* *Tundra* *CrewMax* *electric* *hybrid* *Pickup* 2022  2021  2020  2019  2018  2017  2016  2015  2014  2013  2012  2011  2010  2009  2008  2007  2006  2005  2004  2003  2002  2001  2000   22  21    19  18  17  16  15  14  13  12  11  10  09  08  07  06  05  04  03  02  01  00\"\n",
            " \"Carvana is the safer way to buy a car During these uncertain times, Carvana is dedicated to ensuring safety for all of our customers. In addition to our 100% online shopping and selling experience that allows all customers to buy and trade their cars without ever leaving the safety of their house, we’re providing touchless delivery that make all aspects of our process even safer. Now, you can get the car you want, and trade in your old one, while avoiding person-to-person contact with our friendly advocates. There are some things that can’t be put off. And if buying a car is one of them, know that we’re doing everything we can to keep you keep moving while continuing to put your health safety, and happiness first. Vehicle Stock# 2000899198📱 Want to instantly check this car’s availability? Call us at  334-758-9176Just text that stock number to 855-976-4304 or head to http://www.carvanaauto.com/6964025-74502 and plug it into the search bar!Get PRE-QUALIFIED for your auto loan in 2 minutes - no hit to your credit:http://finance.carvanaauto.com/6964025-74502Looking for more cars like this one? We have 29 Ford Ranger SuperCrew in stock for as low as $28990!Why buy with Carvana? We have one standard: the highest. Take a look at just some of the qualifications all of our cars must meet before we list them.150-POINT INSPECTION: We put each vehicle through a 150-point inspection so that you can be 100% confident in its quality and safety. See everything that goes into our inspections at:http://www.carvanaauto.com/6964025-74502NO REPORTED ACCIDENTS: We do not sell cars that have been in a reported accident or have a frame or structural damage.7 DAY TEST OWN MONEY BACK GUARANTEE: Every Carvana car comes with a 7-day money-back guarantee. Why? It takes more than 15-minutes to make a decision on your next car. Learn more about test owning at http://about.carvanaauto.comFLEXIBLE FINANCING, TRADE INS WELCOME: We’re all about real-time financing without the middle man. Need financing? Pick a combination of down and monthly payments that work for you. Have a trade-in? We’ll give you a value in 2 minutes. Check out everything about our financing at:http://finance.carvanaauto.com/6964025-74502COST SAVINGS: Carvana's business model has fewer expenses and no bloated fees compared to your local dealership. See how much we can save you at http://about.carvanaauto.comPREMIUM DETAIL: We go the extra mile so that your car is looking as good as new. There are a lot of specifics that we won’t list here (we wash, clean, buff, paint, polish, wax, seal), but trust us that when your car arrives, it’s going to look sweet.Vehicle Info for Stock# 2000899198Trim: XL Pickup 4D 5 ft pickupMileage: 1k milesExterior Color: BlackInterior Color: BLACKEngine: Drive: Two Wheel DriveTransmission: VIN: 1FTER4EH3KLA31326Dealer Disclosure: Price excludes tax, title, and registration (which we handle for you).Disclaimer: You agree that by providing your phone number, Carvana, or Carvana’s authorized representatives*, may call and/or send text messages (including by using equipment to automatically dial telephone numbers) about your interest in a purchase, for marketing/sales purposes, or for any other servicing or informational purpose related to your account. You do not have to consent to receiving calls or texts to purchase from Carvana. While every reasonable effort is made to ensure the accuracy of the information for this Ford Ranger SuperCrew, we are not responsible for any errors or omissions contained in this ad. Please verify any information in question with Carvana at 334-758-9176*Including, but not limited to, Bridgecrest Credit Company, GO Financial and SilverRock Automotive.*Ford* *Ranger* *SuperCrew* *Extended* *Ford* *Ranger* *SuperCrew* *Edge* *Ford* *Ranger* *SuperCrew* *XL* *Regular* *Cab* *Ford* *Ranger* *SuperCrew* *Regular* *Cab* *Ford* *Ranger* *SuperCrew* *XLT* *4x4* *extended* *cab* *Ford* *Ranger* *SuperCrew* *23L* *Ford* *Ranger* *SuperCrew* *Sunset* *Ford* *Ranger* *SuperCrew* *ford-ranger-fx4-level2* *Ford* *Ranger* *SuperCrew* *Sport* *Pick* *up* *Truck* 2022  2021  2020  2019  2018  2017  2016  2015  2014  2013  2012  2011  2010  2009  2008  2007  2006  2005  2004  2003  2002  2001  2000   22  21    19  18  17  16  15  14  13  12  11  10  09  08  07  06  05  04  03  02  01  00\"\n",
            " \"Carvana is the safer way to buy a car During these uncertain times, Carvana is dedicated to ensuring safety for all of our customers. In addition to our 100% online shopping and selling experience that allows all customers to buy and trade their cars without ever leaving the safety of their house, we’re providing touchless delivery that make all aspects of our process even safer. Now, you can get the car you want, and trade in your old one, while avoiding person-to-person contact with our friendly advocates. There are some things that can’t be put off. And if buying a car is one of them, know that we’re doing everything we can to keep you keep moving while continuing to put your health safety, and happiness first. Vehicle Stock# 2000924627📱 Want to instantly check this car’s availability? Call us at  334-758-9176Just text that stock number to 855-976-4304 or head to http://www.carvanaauto.com/7143939-74502 and plug it into the search bar!Get PRE-QUALIFIED for your auto loan in 2 minutes - no hit to your credit:http://finance.carvanaauto.com/7143939-74502Looking for more cars like this one? We have 52 Nissan Frontier Crew Cab in stock for as low as $20590!Why buy with Carvana? We have one standard: the highest. Take a look at just some of the qualifications all of our cars must meet before we list them.150-POINT INSPECTION: We put each vehicle through a 150-point inspection so that you can be 100% confident in its quality and safety. See everything that goes into our inspections at:http://www.carvanaauto.com/7143939-74502NO REPORTED ACCIDENTS: We do not sell cars that have been in a reported accident or have a frame or structural damage.7 DAY TEST OWN MONEY BACK GUARANTEE: Every Carvana car comes with a 7-day money-back guarantee. Why? It takes more than 15-minutes to make a decision on your next car. Learn more about test owning at http://about.carvanaauto.comFLEXIBLE FINANCING, TRADE INS WELCOME: We’re all about real-time financing without the middle man. Need financing? Pick a combination of down and monthly payments that work for you. Have a trade-in? We’ll give you a value in 2 minutes. Check out everything about our financing at:http://finance.carvanaauto.com/7143939-74502COST SAVINGS: Carvana's business model has fewer expenses and no bloated fees compared to your local dealership. See how much we can save you at http://about.carvanaauto.comPREMIUM DETAIL: We go the extra mile so that your car is looking as good as new. There are a lot of specifics that we won’t list here (we wash, clean, buff, paint, polish, wax, seal), but trust us that when your car arrives, it’s going to look sweet.Vehicle Info for Stock# 2000924627Trim: PRO-4X Pickup 4D 5 ft pickupMileage: 37k milesExterior Color: SilverInterior Color: GRAYEngine: 4.0L V6 261hp 281ft. lbs.Drive: 4wdTransmission: VIN: 1N6AD0EV5JN745213Dealer Disclosure: Price excludes tax, title, and registration (which we handle for you).Disclaimer: You agree that by providing your phone number, Carvana, or Carvana’s authorized representatives*, may call and/or send text messages (including by using equipment to automatically dial telephone numbers) about your interest in a purchase, for marketing/sales purposes, or for any other servicing or informational purpose related to your account. You do not have to consent to receiving calls or texts to purchase from Carvana. While every reasonable effort is made to ensure the accuracy of the information for this Nissan Frontier Crew Cab, we are not responsible for any errors or omissions contained in this ad. Please verify any information in question with Carvana at 334-758-9176*Including, but not limited to, Bridgecrest Credit Company, GO Financial and SilverRock Automotive.*Nissan* *Frontier* *Crew* *Cab* *regular* *cab* *Nissan* *Frontier* *Crew* *Cab* *Single* *cab* *Nissan* *Frontier* *Crew* *Cab* *King* *Cab* *SE* *Nissan* *Frontier* *Crew* *Cab* *King* *Cap* *XE* *Nissan* *Frontier* *Crew* *Cab* *Crew* *Cab* *S* *Nissan* *Frontier* *Crew* *Cab* *XE* *Crew* *Cab* *Nissan* *Frontier* *Crew* *Cab* *SE* *Crew* *Cab* *Nissan* *Frontier* *Crew* *Cab* *LE* *Crew* *cab* *Nissan* *Frontier* *Crew* *Cab* *SV* *Crew* *Cab* *Nissan* *Frontier* *Crew* *Cab* *Crew* *Cab* *Desert* *Runner* *Nissan* *Frontier* *Crew* *Cab* *Crew* *Cab* *SL* *Nissan* *Frontier* *Crew* *Cab* *King* *cab* *S* *Nissan* *Frontier* *Crew* *Cab* *king* *cab* *SV* *V6* *Nissan* *Frontier* *Crew* *Cab* *SV* *4-Cylinder* *Pick* *Up* 2022  2021  2020  2019  2018  2017  2016  2015  2014  2013  2012  2011  2010  2009  2008  2007  2006  2005  2004  2003  2002  2001  2000   22  21    19  18  17  16  15  14  13  12  11  10  09  08  07  06  05  04  03  02  01  00\"\n",
            " 'Call or text now 800-213-0336 Open 9:00-6:00pm https://www.augoca.com/   Can work with down payments, base on approve income.  Buy Here Pay Here, In House Finance, Low Down Payment, Auto Loan, First Time Car Buyer Options  Be able provide proof of current income, address and have a valid driver license    Only 99,615 Miles! Delivers 27 Highway MPG and 23 City MPG! This Jeep Compass delivers a Gas I4 2.0/122 engine powering this Variable transmission. P215/60R17 ALL-SEASON TOURING BSW TIRES (STD), FRONT SEAT SIDE AIR BAGS, DEEP CHERRY RED CRYSTAL PEARL    https://www.augoca.com/      Sedan, hatcback, suv, van, chevy, toyota, chrysler, honda, chevrolet, hyundai, ford 2008, 2009, 2010, 2011, 2012, 2013, 2014, 2015, 2016']\n",
            "Количество значений:  337004 \n",
            "\n",
            "Признак posting_date\n",
            "Значения:  ['2021-05-04T12:31:18-0500' '2021-05-04T12:31:08-0500'\n",
            " '2021-05-04T12:31:25-0500' '2021-05-04T10:41:31-0500'\n",
            " '2021-05-03T14:02:03-0500' '2021-05-03T13:41:25-0500'\n",
            " '2021-05-03T12:41:33-0500' '2021-05-03T12:12:59-0500'\n",
            " '2021-05-03T11:31:14-0500' '2021-05-03T07:50:35-0500'\n",
            " '2021-05-03T07:38:05-0500' '2021-05-02T12:22:10-0500'\n",
            " '2021-05-02T10:51:08-0500' '2021-05-02T10:21:33-0500'\n",
            " '2021-05-02T08:44:35-0500' '2021-05-01T12:21:51-0500'\n",
            " '2021-05-01T09:21:37-0500' '2021-05-01T09:21:34-0500'\n",
            " '2021-05-01T09:11:35-0500' '2021-04-30T16:35:11-0500']\n",
            "Количество значений:  355334 \n",
            "\n"
          ]
        }
      ],
      "source": [
        "for col in clear_df.columns:\n",
        "  if clear_df[col].dtype == object:\n",
        "    describe(clear_df[col].unique(), col)"
      ]
    },
    {
      "cell_type": "markdown",
      "metadata": {
        "id": "TrCEwqtTSA_N"
      },
      "source": [
        "Признак posting_date - строковый тип, содержащий дату постинга обьявления в формате ISO.\n",
        "</br>\n",
        "Признак desсription - строковый тип, содержащий описание обьявления.\n",
        "</br>\n",
        "\n",
        "Признаки region, manufacturer, model, condition, cylinders, fuel, title_status, transmission, drive, size, type, paint_color, region - являются категориальными, содержащими от 4 до 404 возможных значений.\n",
        "</br>\n",
        "</br>\n"
      ]
    },
    {
      "cell_type": "markdown",
      "metadata": {
        "id": "r5adoXVmtm-f"
      },
      "source": [
        "Так как количество возможно принимаемых значений у признаков model, manufacturer и region велико, то отберем определенное количество самых используемых для признака значений, остальные же вынесем как отдельную категорию"
      ]
    },
    {
      "cell_type": "code",
      "execution_count": 17,
      "metadata": {
        "colab": {
          "base_uri": "https://localhost:8080/"
        },
        "id": "NcRAvsWCtqOX",
        "outputId": "3aa62c6b-9bf0-44b1-da6e-55a8dbd05864"
      },
      "outputs": [
        {
          "output_type": "execute_result",
          "data": {
            "text/plain": [
              "ford               68885\n",
              "chevrolet          52997\n",
              "toyota             33125\n",
              "honda              20760\n",
              "jeep               18510\n",
              "nissan             18402\n",
              "ram                17148\n",
              "gmc                16208\n",
              "bmw                14447\n",
              "dodge              13190\n",
              "mercedes-benz      11399\n",
              "hyundai            10065\n",
              "subaru              9308\n",
              "volkswagen          9127\n",
              "kia                 8254\n",
              "lexus               8020\n",
              "audi                7440\n",
              "cadillac            6760\n",
              "acura               5884\n",
              "chrysler            5837\n",
              "buick               5361\n",
              "mazda               5316\n",
              "infiniti            4722\n",
              "lincoln             4104\n",
              "volvo               3256\n",
              "mitsubishi          3187\n",
              "mini                2341\n",
              "pontiac             2230\n",
              "jaguar              1910\n",
              "rover               1779\n",
              "porsche             1319\n",
              "mercury             1164\n",
              "saturn              1057\n",
              "alfa-romeo           888\n",
              "tesla                849\n",
              "fiat                 779\n",
              "harley-davidson      124\n",
              "ferrari               75\n",
              "datsun                62\n",
              "aston-martin          24\n",
              "land rover            21\n",
              "Name: manufacturer, dtype: int64"
            ]
          },
          "metadata": {},
          "execution_count": 17
        }
      ],
      "source": [
        "values = clear_df['manufacturer'].value_counts()\n",
        "values"
      ]
    },
    {
      "cell_type": "code",
      "execution_count": 18,
      "metadata": {
        "id": "qc12VAAPt4_u"
      },
      "outputs": [],
      "source": [
        "clear_df['manufacturer'] = clear_df['manufacturer'].apply(lambda x: x if str(x) in values[:20] else 'others')"
      ]
    },
    {
      "cell_type": "code",
      "execution_count": 19,
      "metadata": {
        "id": "vz_u5Vagt49I",
        "colab": {
          "base_uri": "https://localhost:8080/"
        },
        "outputId": "0e51c42b-75dd-46fb-c1a8-8a46fc5f12c0"
      },
      "outputs": [
        {
          "output_type": "execute_result",
          "data": {
            "text/plain": [
              "columbus                   3390\n",
              "jacksonville               3346\n",
              "spokane / coeur d'alene    2864\n",
              "boise                      2861\n",
              "reno / tahoe               2853\n",
              "                           ... \n",
              "meridian                     19\n",
              "southwest MS                 13\n",
              "fort smith, AR                8\n",
              "kansas city                   8\n",
              "west virginia (old)           7\n",
              "Name: region, Length: 404, dtype: int64"
            ]
          },
          "metadata": {},
          "execution_count": 19
        }
      ],
      "source": [
        "values = clear_df['region'].value_counts()\n",
        "values"
      ]
    },
    {
      "cell_type": "code",
      "execution_count": 20,
      "metadata": {
        "id": "4GmBcLf8t452"
      },
      "outputs": [],
      "source": [
        "clear_df['region'] = clear_df['region'].apply(lambda x: x if str(x) in values[:30] else 'others')"
      ]
    },
    {
      "cell_type": "code",
      "execution_count": 21,
      "metadata": {
        "colab": {
          "base_uri": "https://localhost:8080/"
        },
        "id": "DRGGvGwJt41f",
        "outputId": "63978b17-34a3-489c-a3a9-3b842e3aac9c"
      },
      "outputs": [
        {
          "output_type": "execute_result",
          "data": {
            "text/plain": [
              "f-150                        7814\n",
              "silverado 1500               5009\n",
              "1500                         4155\n",
              "camry                        3064\n",
              "silverado                    2946\n",
              "                             ... \n",
              "outback limited automatic       1\n",
              "yaris coupe hatchback           1\n",
              "ats standard awd                1\n",
              "premium luxury xts              1\n",
              "gand wagoneer                   1\n",
              "Name: model, Length: 22879, dtype: int64"
            ]
          },
          "metadata": {},
          "execution_count": 21
        }
      ],
      "source": [
        "values = clear_df['model'].value_counts()\n",
        "values"
      ]
    },
    {
      "cell_type": "code",
      "execution_count": 22,
      "metadata": {
        "id": "Lw-ZVQ8xt3tI"
      },
      "outputs": [],
      "source": [
        "clear_df['model'] = clear_df['model'].apply(lambda x: x if str(x) in values[:50] else 'others')"
      ]
    },
    {
      "cell_type": "code",
      "execution_count": 23,
      "metadata": {
        "colab": {
          "base_uri": "https://localhost:8080/"
        },
        "id": "oZpeOGPMxV-b",
        "outputId": "6b58bb14-ef23-48da-9c25-aa117b41b9e2"
      },
      "outputs": [
        {
          "output_type": "stream",
          "name": "stdout",
          "text": [
            "region: 31 object\n",
            "price: 15141 int64\n",
            "year: 107 float64\n",
            "manufacturer: 21 object\n",
            "model: 51 object\n",
            "condition: 7 object\n",
            "cylinders: 9 object\n",
            "fuel: 5 object\n",
            "odometer: 101072 float64\n",
            "title_status: 7 object\n",
            "transmission: 3 object\n",
            "drive: 4 object\n",
            "type: 14 object\n",
            "paint_color: 13 object\n",
            "description: 337004 object\n",
            "posting_date: 355334 object\n"
          ]
        }
      ],
      "source": [
        "for col in clear_df.columns:\n",
        "  print(col + \": \" + str(len(clear_df[col].value_counts().index)), clear_df[col].dtype)"
      ]
    },
    {
      "cell_type": "code",
      "execution_count": null,
      "metadata": {
        "colab": {
          "base_uri": "https://localhost:8080/"
        },
        "id": "vk5l6wnTyxGJ",
        "outputId": "578fff49-cbdb-4d3d-ae41-85f21675756f"
      },
      "outputs": [
        {
          "data": {
            "text/plain": [
              "(396334, 16)"
            ]
          },
          "execution_count": 24,
          "metadata": {},
          "output_type": "execute_result"
        }
      ],
      "source": [
        "clear_df.shape"
      ]
    },
    {
      "cell_type": "code",
      "execution_count": null,
      "metadata": {
        "colab": {
          "base_uri": "https://localhost:8080/"
        },
        "id": "rWNPmqJgxxIR",
        "outputId": "b41aa937-3df3-45bd-f41d-2ad78d97c037"
      },
      "outputs": [
        {
          "name": "stdout",
          "output_type": "stream",
          "text": [
            "<class 'pandas.core.frame.DataFrame'>\n",
            "Int64Index: 396334 entries, 27 to 426879\n",
            "Data columns (total 16 columns):\n",
            " #   Column        Non-Null Count   Dtype              \n",
            "---  ------        --------------   -----              \n",
            " 0   region        396334 non-null  category           \n",
            " 1   price         396334 non-null  int64              \n",
            " 2   year          396334 non-null  int64              \n",
            " 3   manufacturer  396334 non-null  category           \n",
            " 4   model         396334 non-null  category           \n",
            " 5   condition     396334 non-null  category           \n",
            " 6   cylinders     396334 non-null  category           \n",
            " 7   fuel          396334 non-null  category           \n",
            " 8   odometer      396334 non-null  int64              \n",
            " 9   title_status  396334 non-null  category           \n",
            " 10  transmission  396334 non-null  category           \n",
            " 11  drive         396334 non-null  category           \n",
            " 12  type          396334 non-null  category           \n",
            " 13  paint_color   396334 non-null  category           \n",
            " 14  description   396334 non-null  string             \n",
            " 15  posting_date  396334 non-null  datetime64[ns, UTC]\n",
            "dtypes: category(11), datetime64[ns, UTC](1), int64(3), string(1)\n",
            "memory usage: 22.3 MB\n"
          ]
        }
      ],
      "source": [
        "clear_df.info()"
      ]
    },
    {
      "cell_type": "markdown",
      "metadata": {
        "id": "k6c-gLnA8dPU"
      },
      "source": [
        "Заменим типы этих признаков на специальные, предназначенный для их хранения\n"
      ]
    },
    {
      "cell_type": "code",
      "execution_count": 24,
      "metadata": {
        "id": "kizrini68c_9"
      },
      "outputs": [],
      "source": [
        "# Строки\n",
        "clear_df['description'] = clear_df['description'].astype('string')\n",
        "\n",
        "# Даты\n",
        "clear_df['posting_date'] = pd.to_datetime(clear_df['posting_date'], utc=True)\n",
        "\n",
        "# Категории\n",
        "for col in clear_df.columns:\n",
        "  if clear_df[col].dtype == object:\n",
        "    clear_df[col] = clear_df[col].astype('category')"
      ]
    },
    {
      "cell_type": "markdown",
      "metadata": {
        "id": "hn82tQxA8cuV"
      },
      "source": [
        "А  так же приведем год и пробег к целочисленному формату"
      ]
    },
    {
      "cell_type": "code",
      "execution_count": 25,
      "metadata": {
        "id": "-HrdZfcB8t-7"
      },
      "outputs": [],
      "source": [
        "clear_df['year'] = clear_df['year'].astype('int')\n",
        "clear_df['odometer'] = clear_df['odometer'].astype('int')"
      ]
    },
    {
      "cell_type": "code",
      "execution_count": 26,
      "metadata": {
        "colab": {
          "base_uri": "https://localhost:8080/"
        },
        "id": "wbnIa4pb8vlU",
        "outputId": "effc47b7-8e59-431f-dda1-f9837b8de085"
      },
      "outputs": [
        {
          "output_type": "execute_result",
          "data": {
            "text/plain": [
              "dtype('int64')"
            ]
          },
          "metadata": {},
          "execution_count": 26
        }
      ],
      "source": [
        "clear_df['year'].dtype"
      ]
    },
    {
      "cell_type": "code",
      "execution_count": null,
      "metadata": {
        "colab": {
          "base_uri": "https://localhost:8080/"
        },
        "id": "s_3nwGkE8vh0",
        "outputId": "1b2de621-29cb-4559-9bca-e87faf35dadb"
      },
      "outputs": [
        {
          "output_type": "execute_result",
          "data": {
            "text/plain": [
              "string[python]"
            ]
          },
          "metadata": {},
          "execution_count": 75
        }
      ],
      "source": [
        "clear_df['description'].dtype"
      ]
    },
    {
      "cell_type": "code",
      "execution_count": null,
      "metadata": {
        "colab": {
          "base_uri": "https://localhost:8080/"
        },
        "id": "NLO8sqvA8vdt",
        "outputId": "486a0943-5f73-49a7-e92b-70952add482e"
      },
      "outputs": [
        {
          "output_type": "execute_result",
          "data": {
            "text/plain": [
              "CategoricalDtype(categories=['1500', '2500', '3500', 'accord', 'altima', 'camaro',\n",
              "                  'camry', 'charger', 'civic', 'corolla', 'corvette', 'cr-v',\n",
              "                  'cruze', 'edge', 'elantra', 'equinox', 'escape', 'explorer',\n",
              "                  'f-150', 'f-250', 'f-350', 'focus', 'forester', 'fusion',\n",
              "                  'grand caravan', 'grand cherokee', 'impala', 'jetta',\n",
              "                  'malibu', 'mustang', 'odyssey', 'others', 'outback', 'pilot',\n",
              "                  'prius', 'rav4', 'rogue', 'sentra', 'sienna', 'sierra',\n",
              "                  'sierra 1500', 'silverado', 'silverado 1500',\n",
              "                  'silverado 2500hd', 'sonata', 'soul', 'tacoma', 'tahoe',\n",
              "                  'tundra', 'wrangler', 'wrangler unlimited'],\n",
              ", ordered=False)"
            ]
          },
          "metadata": {},
          "execution_count": 32
        }
      ],
      "source": [
        "clear_df['model'].dtype"
      ]
    },
    {
      "cell_type": "code",
      "execution_count": null,
      "metadata": {
        "colab": {
          "base_uri": "https://localhost:8080/"
        },
        "id": "SYEWadR38vUs",
        "outputId": "98e8b2ed-8514-4d49-b49d-54a29d1f4fc6"
      },
      "outputs": [
        {
          "output_type": "execute_result",
          "data": {
            "text/plain": [
              "datetime64[ns, UTC]"
            ]
          },
          "metadata": {},
          "execution_count": 33
        }
      ],
      "source": [
        "clear_df['posting_date'].dtype"
      ]
    },
    {
      "cell_type": "code",
      "execution_count": 27,
      "metadata": {
        "id": "95dfEJAskbeU"
      },
      "outputs": [],
      "source": [
        "from sklearn.preprocessing import StandardScaler\n",
        "import matplotlib.pyplot as plt # plotting"
      ]
    },
    {
      "cell_type": "markdown",
      "metadata": {
        "id": "4-6CpIsvdMn9"
      },
      "source": [
        "Рассмотрим информацию о численных признаках"
      ]
    },
    {
      "cell_type": "code",
      "execution_count": null,
      "metadata": {
        "colab": {
          "base_uri": "https://localhost:8080/",
          "height": 300
        },
        "id": "rsrXOQxidME0",
        "outputId": "50a8f418-ffee-4dd7-ca67-02db61bec0a5"
      },
      "outputs": [
        {
          "data": {
            "text/html": [
              "\n",
              "  <div id=\"df-b4005582-8dec-40de-8cff-61e009c8eda7\" class=\"colab-df-container\">\n",
              "    <div>\n",
              "<style scoped>\n",
              "    .dataframe tbody tr th:only-of-type {\n",
              "        vertical-align: middle;\n",
              "    }\n",
              "\n",
              "    .dataframe tbody tr th {\n",
              "        vertical-align: top;\n",
              "    }\n",
              "\n",
              "    .dataframe thead th {\n",
              "        text-align: right;\n",
              "    }\n",
              "</style>\n",
              "<table border=\"1\" class=\"dataframe\">\n",
              "  <thead>\n",
              "    <tr style=\"text-align: right;\">\n",
              "      <th></th>\n",
              "      <th>price</th>\n",
              "      <th>year</th>\n",
              "      <th>odometer</th>\n",
              "    </tr>\n",
              "  </thead>\n",
              "  <tbody>\n",
              "    <tr>\n",
              "      <th>count</th>\n",
              "      <td>3.963340e+05</td>\n",
              "      <td>396334.000000</td>\n",
              "      <td>3.963340e+05</td>\n",
              "    </tr>\n",
              "    <tr>\n",
              "      <th>mean</th>\n",
              "      <td>6.311567e+04</td>\n",
              "      <td>2011.634662</td>\n",
              "      <td>9.621076e+04</td>\n",
              "    </tr>\n",
              "    <tr>\n",
              "      <th>std</th>\n",
              "      <td>1.135103e+07</td>\n",
              "      <td>8.596019</td>\n",
              "      <td>1.899396e+05</td>\n",
              "    </tr>\n",
              "    <tr>\n",
              "      <th>min</th>\n",
              "      <td>0.000000e+00</td>\n",
              "      <td>1900.000000</td>\n",
              "      <td>0.000000e+00</td>\n",
              "    </tr>\n",
              "    <tr>\n",
              "      <th>25%</th>\n",
              "      <td>5.995000e+03</td>\n",
              "      <td>2009.000000</td>\n",
              "      <td>3.817700e+04</td>\n",
              "    </tr>\n",
              "    <tr>\n",
              "      <th>50%</th>\n",
              "      <td>1.399500e+04</td>\n",
              "      <td>2014.000000</td>\n",
              "      <td>8.575400e+04</td>\n",
              "    </tr>\n",
              "    <tr>\n",
              "      <th>75%</th>\n",
              "      <td>2.658875e+04</td>\n",
              "      <td>2017.000000</td>\n",
              "      <td>1.330810e+05</td>\n",
              "    </tr>\n",
              "    <tr>\n",
              "      <th>max</th>\n",
              "      <td>3.736929e+09</td>\n",
              "      <td>2022.000000</td>\n",
              "      <td>1.000000e+07</td>\n",
              "    </tr>\n",
              "  </tbody>\n",
              "</table>\n",
              "</div>\n",
              "    <div class=\"colab-df-buttons\">\n",
              "\n",
              "  <div class=\"colab-df-container\">\n",
              "    <button class=\"colab-df-convert\" onclick=\"convertToInteractive('df-b4005582-8dec-40de-8cff-61e009c8eda7')\"\n",
              "            title=\"Convert this dataframe to an interactive table.\"\n",
              "            style=\"display:none;\">\n",
              "\n",
              "  <svg xmlns=\"http://www.w3.org/2000/svg\" height=\"24px\" viewBox=\"0 -960 960 960\">\n",
              "    <path d=\"M120-120v-720h720v720H120Zm60-500h600v-160H180v160Zm220 220h160v-160H400v160Zm0 220h160v-160H400v160ZM180-400h160v-160H180v160Zm440 0h160v-160H620v160ZM180-180h160v-160H180v160Zm440 0h160v-160H620v160Z\"/>\n",
              "  </svg>\n",
              "    </button>\n",
              "\n",
              "  <style>\n",
              "    .colab-df-container {\n",
              "      display:flex;\n",
              "      gap: 12px;\n",
              "    }\n",
              "\n",
              "    .colab-df-convert {\n",
              "      background-color: #E8F0FE;\n",
              "      border: none;\n",
              "      border-radius: 50%;\n",
              "      cursor: pointer;\n",
              "      display: none;\n",
              "      fill: #1967D2;\n",
              "      height: 32px;\n",
              "      padding: 0 0 0 0;\n",
              "      width: 32px;\n",
              "    }\n",
              "\n",
              "    .colab-df-convert:hover {\n",
              "      background-color: #E2EBFA;\n",
              "      box-shadow: 0px 1px 2px rgba(60, 64, 67, 0.3), 0px 1px 3px 1px rgba(60, 64, 67, 0.15);\n",
              "      fill: #174EA6;\n",
              "    }\n",
              "\n",
              "    .colab-df-buttons div {\n",
              "      margin-bottom: 4px;\n",
              "    }\n",
              "\n",
              "    [theme=dark] .colab-df-convert {\n",
              "      background-color: #3B4455;\n",
              "      fill: #D2E3FC;\n",
              "    }\n",
              "\n",
              "    [theme=dark] .colab-df-convert:hover {\n",
              "      background-color: #434B5C;\n",
              "      box-shadow: 0px 1px 3px 1px rgba(0, 0, 0, 0.15);\n",
              "      filter: drop-shadow(0px 1px 2px rgba(0, 0, 0, 0.3));\n",
              "      fill: #FFFFFF;\n",
              "    }\n",
              "  </style>\n",
              "\n",
              "    <script>\n",
              "      const buttonEl =\n",
              "        document.querySelector('#df-b4005582-8dec-40de-8cff-61e009c8eda7 button.colab-df-convert');\n",
              "      buttonEl.style.display =\n",
              "        google.colab.kernel.accessAllowed ? 'block' : 'none';\n",
              "\n",
              "      async function convertToInteractive(key) {\n",
              "        const element = document.querySelector('#df-b4005582-8dec-40de-8cff-61e009c8eda7');\n",
              "        const dataTable =\n",
              "          await google.colab.kernel.invokeFunction('convertToInteractive',\n",
              "                                                    [key], {});\n",
              "        if (!dataTable) return;\n",
              "\n",
              "        const docLinkHtml = 'Like what you see? Visit the ' +\n",
              "          '<a target=\"_blank\" href=https://colab.research.google.com/notebooks/data_table.ipynb>data table notebook</a>'\n",
              "          + ' to learn more about interactive tables.';\n",
              "        element.innerHTML = '';\n",
              "        dataTable['output_type'] = 'display_data';\n",
              "        await google.colab.output.renderOutput(dataTable, element);\n",
              "        const docLink = document.createElement('div');\n",
              "        docLink.innerHTML = docLinkHtml;\n",
              "        element.appendChild(docLink);\n",
              "      }\n",
              "    </script>\n",
              "  </div>\n",
              "\n",
              "\n",
              "<div id=\"df-451255eb-3c20-4a88-8c78-997f3887a02c\">\n",
              "  <button class=\"colab-df-quickchart\" onclick=\"quickchart('df-451255eb-3c20-4a88-8c78-997f3887a02c')\"\n",
              "            title=\"Suggest charts\"\n",
              "            style=\"display:none;\">\n",
              "\n",
              "<svg xmlns=\"http://www.w3.org/2000/svg\" height=\"24px\"viewBox=\"0 0 24 24\"\n",
              "     width=\"24px\">\n",
              "    <g>\n",
              "        <path d=\"M19 3H5c-1.1 0-2 .9-2 2v14c0 1.1.9 2 2 2h14c1.1 0 2-.9 2-2V5c0-1.1-.9-2-2-2zM9 17H7v-7h2v7zm4 0h-2V7h2v10zm4 0h-2v-4h2v4z\"/>\n",
              "    </g>\n",
              "</svg>\n",
              "  </button>\n",
              "\n",
              "<style>\n",
              "  .colab-df-quickchart {\n",
              "      --bg-color: #E8F0FE;\n",
              "      --fill-color: #1967D2;\n",
              "      --hover-bg-color: #E2EBFA;\n",
              "      --hover-fill-color: #174EA6;\n",
              "      --disabled-fill-color: #AAA;\n",
              "      --disabled-bg-color: #DDD;\n",
              "  }\n",
              "\n",
              "  [theme=dark] .colab-df-quickchart {\n",
              "      --bg-color: #3B4455;\n",
              "      --fill-color: #D2E3FC;\n",
              "      --hover-bg-color: #434B5C;\n",
              "      --hover-fill-color: #FFFFFF;\n",
              "      --disabled-bg-color: #3B4455;\n",
              "      --disabled-fill-color: #666;\n",
              "  }\n",
              "\n",
              "  .colab-df-quickchart {\n",
              "    background-color: var(--bg-color);\n",
              "    border: none;\n",
              "    border-radius: 50%;\n",
              "    cursor: pointer;\n",
              "    display: none;\n",
              "    fill: var(--fill-color);\n",
              "    height: 32px;\n",
              "    padding: 0;\n",
              "    width: 32px;\n",
              "  }\n",
              "\n",
              "  .colab-df-quickchart:hover {\n",
              "    background-color: var(--hover-bg-color);\n",
              "    box-shadow: 0 1px 2px rgba(60, 64, 67, 0.3), 0 1px 3px 1px rgba(60, 64, 67, 0.15);\n",
              "    fill: var(--button-hover-fill-color);\n",
              "  }\n",
              "\n",
              "  .colab-df-quickchart-complete:disabled,\n",
              "  .colab-df-quickchart-complete:disabled:hover {\n",
              "    background-color: var(--disabled-bg-color);\n",
              "    fill: var(--disabled-fill-color);\n",
              "    box-shadow: none;\n",
              "  }\n",
              "\n",
              "  .colab-df-spinner {\n",
              "    border: 2px solid var(--fill-color);\n",
              "    border-color: transparent;\n",
              "    border-bottom-color: var(--fill-color);\n",
              "    animation:\n",
              "      spin 1s steps(1) infinite;\n",
              "  }\n",
              "\n",
              "  @keyframes spin {\n",
              "    0% {\n",
              "      border-color: transparent;\n",
              "      border-bottom-color: var(--fill-color);\n",
              "      border-left-color: var(--fill-color);\n",
              "    }\n",
              "    20% {\n",
              "      border-color: transparent;\n",
              "      border-left-color: var(--fill-color);\n",
              "      border-top-color: var(--fill-color);\n",
              "    }\n",
              "    30% {\n",
              "      border-color: transparent;\n",
              "      border-left-color: var(--fill-color);\n",
              "      border-top-color: var(--fill-color);\n",
              "      border-right-color: var(--fill-color);\n",
              "    }\n",
              "    40% {\n",
              "      border-color: transparent;\n",
              "      border-right-color: var(--fill-color);\n",
              "      border-top-color: var(--fill-color);\n",
              "    }\n",
              "    60% {\n",
              "      border-color: transparent;\n",
              "      border-right-color: var(--fill-color);\n",
              "    }\n",
              "    80% {\n",
              "      border-color: transparent;\n",
              "      border-right-color: var(--fill-color);\n",
              "      border-bottom-color: var(--fill-color);\n",
              "    }\n",
              "    90% {\n",
              "      border-color: transparent;\n",
              "      border-bottom-color: var(--fill-color);\n",
              "    }\n",
              "  }\n",
              "</style>\n",
              "\n",
              "  <script>\n",
              "    async function quickchart(key) {\n",
              "      const quickchartButtonEl =\n",
              "        document.querySelector('#' + key + ' button');\n",
              "      quickchartButtonEl.disabled = true;  // To prevent multiple clicks.\n",
              "      quickchartButtonEl.classList.add('colab-df-spinner');\n",
              "      try {\n",
              "        const charts = await google.colab.kernel.invokeFunction(\n",
              "            'suggestCharts', [key], {});\n",
              "      } catch (error) {\n",
              "        console.error('Error during call to suggestCharts:', error);\n",
              "      }\n",
              "      quickchartButtonEl.classList.remove('colab-df-spinner');\n",
              "      quickchartButtonEl.classList.add('colab-df-quickchart-complete');\n",
              "    }\n",
              "    (() => {\n",
              "      let quickchartButtonEl =\n",
              "        document.querySelector('#df-451255eb-3c20-4a88-8c78-997f3887a02c button');\n",
              "      quickchartButtonEl.style.display =\n",
              "        google.colab.kernel.accessAllowed ? 'block' : 'none';\n",
              "    })();\n",
              "  </script>\n",
              "</div>\n",
              "    </div>\n",
              "  </div>\n"
            ],
            "text/plain": [
              "              price           year      odometer\n",
              "count  3.963340e+05  396334.000000  3.963340e+05\n",
              "mean   6.311567e+04    2011.634662  9.621076e+04\n",
              "std    1.135103e+07       8.596019  1.899396e+05\n",
              "min    0.000000e+00    1900.000000  0.000000e+00\n",
              "25%    5.995000e+03    2009.000000  3.817700e+04\n",
              "50%    1.399500e+04    2014.000000  8.575400e+04\n",
              "75%    2.658875e+04    2017.000000  1.330810e+05\n",
              "max    3.736929e+09    2022.000000  1.000000e+07"
            ]
          },
          "execution_count": 33,
          "metadata": {},
          "output_type": "execute_result"
        }
      ],
      "source": [
        "clear_df.describe()"
      ]
    },
    {
      "cell_type": "markdown",
      "metadata": {
        "id": "dJXBOp0DdZac"
      },
      "source": [
        "Рассмотрим информация о категориальных признаках"
      ]
    },
    {
      "cell_type": "code",
      "execution_count": null,
      "metadata": {
        "colab": {
          "base_uri": "https://localhost:8080/",
          "height": 175
        },
        "id": "sKBqXCdJdZ7F",
        "outputId": "bdf57c06-20e9-42c3-ecbf-f1250aab7901"
      },
      "outputs": [
        {
          "data": {
            "text/html": [
              "\n",
              "  <div id=\"df-030ea530-e4d2-451e-a907-6b91793771f5\" class=\"colab-df-container\">\n",
              "    <div>\n",
              "<style scoped>\n",
              "    .dataframe tbody tr th:only-of-type {\n",
              "        vertical-align: middle;\n",
              "    }\n",
              "\n",
              "    .dataframe tbody tr th {\n",
              "        vertical-align: top;\n",
              "    }\n",
              "\n",
              "    .dataframe thead th {\n",
              "        text-align: right;\n",
              "    }\n",
              "</style>\n",
              "<table border=\"1\" class=\"dataframe\">\n",
              "  <thead>\n",
              "    <tr style=\"text-align: right;\">\n",
              "      <th></th>\n",
              "      <th>region</th>\n",
              "      <th>manufacturer</th>\n",
              "      <th>model</th>\n",
              "      <th>condition</th>\n",
              "      <th>cylinders</th>\n",
              "      <th>fuel</th>\n",
              "      <th>title_status</th>\n",
              "      <th>transmission</th>\n",
              "      <th>drive</th>\n",
              "      <th>type</th>\n",
              "      <th>paint_color</th>\n",
              "    </tr>\n",
              "  </thead>\n",
              "  <tbody>\n",
              "    <tr>\n",
              "      <th>count</th>\n",
              "      <td>396334</td>\n",
              "      <td>396334</td>\n",
              "      <td>396334</td>\n",
              "      <td>396334</td>\n",
              "      <td>396334</td>\n",
              "      <td>396334</td>\n",
              "      <td>396334</td>\n",
              "      <td>396334</td>\n",
              "      <td>396334</td>\n",
              "      <td>396334</td>\n",
              "      <td>396334</td>\n",
              "    </tr>\n",
              "    <tr>\n",
              "      <th>unique</th>\n",
              "      <td>31</td>\n",
              "      <td>21</td>\n",
              "      <td>51</td>\n",
              "      <td>7</td>\n",
              "      <td>9</td>\n",
              "      <td>5</td>\n",
              "      <td>7</td>\n",
              "      <td>3</td>\n",
              "      <td>4</td>\n",
              "      <td>14</td>\n",
              "      <td>13</td>\n",
              "    </tr>\n",
              "    <tr>\n",
              "      <th>top</th>\n",
              "      <td>others</td>\n",
              "      <td>ford</td>\n",
              "      <td>others</td>\n",
              "      <td>unknown</td>\n",
              "      <td>unknown</td>\n",
              "      <td>gas</td>\n",
              "      <td>clean</td>\n",
              "      <td>automatic</td>\n",
              "      <td>4wd</td>\n",
              "      <td>unknown</td>\n",
              "      <td>unknown</td>\n",
              "    </tr>\n",
              "    <tr>\n",
              "      <th>freq</th>\n",
              "      <td>310847</td>\n",
              "      <td>68885</td>\n",
              "      <td>294939</td>\n",
              "      <td>158569</td>\n",
              "      <td>162064</td>\n",
              "      <td>335838</td>\n",
              "      <td>377138</td>\n",
              "      <td>315227</td>\n",
              "      <td>126166</td>\n",
              "      <td>82907</td>\n",
              "      <td>118345</td>\n",
              "    </tr>\n",
              "  </tbody>\n",
              "</table>\n",
              "</div>\n",
              "    <div class=\"colab-df-buttons\">\n",
              "\n",
              "  <div class=\"colab-df-container\">\n",
              "    <button class=\"colab-df-convert\" onclick=\"convertToInteractive('df-030ea530-e4d2-451e-a907-6b91793771f5')\"\n",
              "            title=\"Convert this dataframe to an interactive table.\"\n",
              "            style=\"display:none;\">\n",
              "\n",
              "  <svg xmlns=\"http://www.w3.org/2000/svg\" height=\"24px\" viewBox=\"0 -960 960 960\">\n",
              "    <path d=\"M120-120v-720h720v720H120Zm60-500h600v-160H180v160Zm220 220h160v-160H400v160Zm0 220h160v-160H400v160ZM180-400h160v-160H180v160Zm440 0h160v-160H620v160ZM180-180h160v-160H180v160Zm440 0h160v-160H620v160Z\"/>\n",
              "  </svg>\n",
              "    </button>\n",
              "\n",
              "  <style>\n",
              "    .colab-df-container {\n",
              "      display:flex;\n",
              "      gap: 12px;\n",
              "    }\n",
              "\n",
              "    .colab-df-convert {\n",
              "      background-color: #E8F0FE;\n",
              "      border: none;\n",
              "      border-radius: 50%;\n",
              "      cursor: pointer;\n",
              "      display: none;\n",
              "      fill: #1967D2;\n",
              "      height: 32px;\n",
              "      padding: 0 0 0 0;\n",
              "      width: 32px;\n",
              "    }\n",
              "\n",
              "    .colab-df-convert:hover {\n",
              "      background-color: #E2EBFA;\n",
              "      box-shadow: 0px 1px 2px rgba(60, 64, 67, 0.3), 0px 1px 3px 1px rgba(60, 64, 67, 0.15);\n",
              "      fill: #174EA6;\n",
              "    }\n",
              "\n",
              "    .colab-df-buttons div {\n",
              "      margin-bottom: 4px;\n",
              "    }\n",
              "\n",
              "    [theme=dark] .colab-df-convert {\n",
              "      background-color: #3B4455;\n",
              "      fill: #D2E3FC;\n",
              "    }\n",
              "\n",
              "    [theme=dark] .colab-df-convert:hover {\n",
              "      background-color: #434B5C;\n",
              "      box-shadow: 0px 1px 3px 1px rgba(0, 0, 0, 0.15);\n",
              "      filter: drop-shadow(0px 1px 2px rgba(0, 0, 0, 0.3));\n",
              "      fill: #FFFFFF;\n",
              "    }\n",
              "  </style>\n",
              "\n",
              "    <script>\n",
              "      const buttonEl =\n",
              "        document.querySelector('#df-030ea530-e4d2-451e-a907-6b91793771f5 button.colab-df-convert');\n",
              "      buttonEl.style.display =\n",
              "        google.colab.kernel.accessAllowed ? 'block' : 'none';\n",
              "\n",
              "      async function convertToInteractive(key) {\n",
              "        const element = document.querySelector('#df-030ea530-e4d2-451e-a907-6b91793771f5');\n",
              "        const dataTable =\n",
              "          await google.colab.kernel.invokeFunction('convertToInteractive',\n",
              "                                                    [key], {});\n",
              "        if (!dataTable) return;\n",
              "\n",
              "        const docLinkHtml = 'Like what you see? Visit the ' +\n",
              "          '<a target=\"_blank\" href=https://colab.research.google.com/notebooks/data_table.ipynb>data table notebook</a>'\n",
              "          + ' to learn more about interactive tables.';\n",
              "        element.innerHTML = '';\n",
              "        dataTable['output_type'] = 'display_data';\n",
              "        await google.colab.output.renderOutput(dataTable, element);\n",
              "        const docLink = document.createElement('div');\n",
              "        docLink.innerHTML = docLinkHtml;\n",
              "        element.appendChild(docLink);\n",
              "      }\n",
              "    </script>\n",
              "  </div>\n",
              "\n",
              "\n",
              "<div id=\"df-92eb0c7d-d46c-4c81-9158-aece19c66771\">\n",
              "  <button class=\"colab-df-quickchart\" onclick=\"quickchart('df-92eb0c7d-d46c-4c81-9158-aece19c66771')\"\n",
              "            title=\"Suggest charts\"\n",
              "            style=\"display:none;\">\n",
              "\n",
              "<svg xmlns=\"http://www.w3.org/2000/svg\" height=\"24px\"viewBox=\"0 0 24 24\"\n",
              "     width=\"24px\">\n",
              "    <g>\n",
              "        <path d=\"M19 3H5c-1.1 0-2 .9-2 2v14c0 1.1.9 2 2 2h14c1.1 0 2-.9 2-2V5c0-1.1-.9-2-2-2zM9 17H7v-7h2v7zm4 0h-2V7h2v10zm4 0h-2v-4h2v4z\"/>\n",
              "    </g>\n",
              "</svg>\n",
              "  </button>\n",
              "\n",
              "<style>\n",
              "  .colab-df-quickchart {\n",
              "      --bg-color: #E8F0FE;\n",
              "      --fill-color: #1967D2;\n",
              "      --hover-bg-color: #E2EBFA;\n",
              "      --hover-fill-color: #174EA6;\n",
              "      --disabled-fill-color: #AAA;\n",
              "      --disabled-bg-color: #DDD;\n",
              "  }\n",
              "\n",
              "  [theme=dark] .colab-df-quickchart {\n",
              "      --bg-color: #3B4455;\n",
              "      --fill-color: #D2E3FC;\n",
              "      --hover-bg-color: #434B5C;\n",
              "      --hover-fill-color: #FFFFFF;\n",
              "      --disabled-bg-color: #3B4455;\n",
              "      --disabled-fill-color: #666;\n",
              "  }\n",
              "\n",
              "  .colab-df-quickchart {\n",
              "    background-color: var(--bg-color);\n",
              "    border: none;\n",
              "    border-radius: 50%;\n",
              "    cursor: pointer;\n",
              "    display: none;\n",
              "    fill: var(--fill-color);\n",
              "    height: 32px;\n",
              "    padding: 0;\n",
              "    width: 32px;\n",
              "  }\n",
              "\n",
              "  .colab-df-quickchart:hover {\n",
              "    background-color: var(--hover-bg-color);\n",
              "    box-shadow: 0 1px 2px rgba(60, 64, 67, 0.3), 0 1px 3px 1px rgba(60, 64, 67, 0.15);\n",
              "    fill: var(--button-hover-fill-color);\n",
              "  }\n",
              "\n",
              "  .colab-df-quickchart-complete:disabled,\n",
              "  .colab-df-quickchart-complete:disabled:hover {\n",
              "    background-color: var(--disabled-bg-color);\n",
              "    fill: var(--disabled-fill-color);\n",
              "    box-shadow: none;\n",
              "  }\n",
              "\n",
              "  .colab-df-spinner {\n",
              "    border: 2px solid var(--fill-color);\n",
              "    border-color: transparent;\n",
              "    border-bottom-color: var(--fill-color);\n",
              "    animation:\n",
              "      spin 1s steps(1) infinite;\n",
              "  }\n",
              "\n",
              "  @keyframes spin {\n",
              "    0% {\n",
              "      border-color: transparent;\n",
              "      border-bottom-color: var(--fill-color);\n",
              "      border-left-color: var(--fill-color);\n",
              "    }\n",
              "    20% {\n",
              "      border-color: transparent;\n",
              "      border-left-color: var(--fill-color);\n",
              "      border-top-color: var(--fill-color);\n",
              "    }\n",
              "    30% {\n",
              "      border-color: transparent;\n",
              "      border-left-color: var(--fill-color);\n",
              "      border-top-color: var(--fill-color);\n",
              "      border-right-color: var(--fill-color);\n",
              "    }\n",
              "    40% {\n",
              "      border-color: transparent;\n",
              "      border-right-color: var(--fill-color);\n",
              "      border-top-color: var(--fill-color);\n",
              "    }\n",
              "    60% {\n",
              "      border-color: transparent;\n",
              "      border-right-color: var(--fill-color);\n",
              "    }\n",
              "    80% {\n",
              "      border-color: transparent;\n",
              "      border-right-color: var(--fill-color);\n",
              "      border-bottom-color: var(--fill-color);\n",
              "    }\n",
              "    90% {\n",
              "      border-color: transparent;\n",
              "      border-bottom-color: var(--fill-color);\n",
              "    }\n",
              "  }\n",
              "</style>\n",
              "\n",
              "  <script>\n",
              "    async function quickchart(key) {\n",
              "      const quickchartButtonEl =\n",
              "        document.querySelector('#' + key + ' button');\n",
              "      quickchartButtonEl.disabled = true;  // To prevent multiple clicks.\n",
              "      quickchartButtonEl.classList.add('colab-df-spinner');\n",
              "      try {\n",
              "        const charts = await google.colab.kernel.invokeFunction(\n",
              "            'suggestCharts', [key], {});\n",
              "      } catch (error) {\n",
              "        console.error('Error during call to suggestCharts:', error);\n",
              "      }\n",
              "      quickchartButtonEl.classList.remove('colab-df-spinner');\n",
              "      quickchartButtonEl.classList.add('colab-df-quickchart-complete');\n",
              "    }\n",
              "    (() => {\n",
              "      let quickchartButtonEl =\n",
              "        document.querySelector('#df-92eb0c7d-d46c-4c81-9158-aece19c66771 button');\n",
              "      quickchartButtonEl.style.display =\n",
              "        google.colab.kernel.accessAllowed ? 'block' : 'none';\n",
              "    })();\n",
              "  </script>\n",
              "</div>\n",
              "    </div>\n",
              "  </div>\n"
            ],
            "text/plain": [
              "        region manufacturer   model condition cylinders    fuel title_status  \\\n",
              "count   396334       396334  396334    396334    396334  396334       396334   \n",
              "unique      31           21      51         7         9       5            7   \n",
              "top     others         ford  others   unknown   unknown     gas        clean   \n",
              "freq    310847        68885  294939    158569    162064  335838       377138   \n",
              "\n",
              "       transmission   drive     type paint_color  \n",
              "count        396334  396334   396334      396334  \n",
              "unique            3       4       14          13  \n",
              "top       automatic     4wd  unknown     unknown  \n",
              "freq         315227  126166    82907      118345  "
            ]
          },
          "execution_count": 34,
          "metadata": {},
          "output_type": "execute_result"
        }
      ],
      "source": [
        "clear_df.describe(include=['category'])"
      ]
    },
    {
      "cell_type": "code",
      "execution_count": null,
      "metadata": {
        "colab": {
          "base_uri": "https://localhost:8080/",
          "height": 710
        },
        "id": "SWIwFzjAPGwd",
        "outputId": "8081a75c-6ff3-404b-fee3-7ff13e8fbaf3"
      },
      "outputs": [
        {
          "data": {
            "image/png": "[encoded data removed]",
            "text/plain": [
              "<Figure size 1000x800 with 9 Axes>"
            ]
          },
          "metadata": {},
          "output_type": "display_data"
        }
      ],
      "source": [
        "pd.plotting.scatter_matrix(clear_df, figsize = (10, 8))\n",
        "pass"
      ]
    },
    {
      "cell_type": "markdown",
      "metadata": {
        "id": "pjJVy-XBNlAw"
      },
      "source": [
        "### Поиск выбросов"
      ]
    },
    {
      "cell_type": "markdown",
      "metadata": {
        "id": "mQCWtpvx38yT"
      },
      "source": [
        "Воспользуемся методом интерквартильных расстояний, для обнаружения выбросов и последующее их удаление\n",
        "\n",
        "$Lim_max​=Q_3​+N_i​∗IQR$ </br>\n",
        "$Lim_min=Q_1−N_i∗IQR$ </br>\n",
        "\n",
        "где $Q_3$ — третий квартиль, $Q_1$ — первый квартиль, $IQR$ — интерквартильное расстояние, определяемое по формуле $IQR=Q_3−Q_1$​, a $N_i=1.5$ — заданное число интерквартильного размаха."
      ]
    },
    {
      "cell_type": "markdown",
      "metadata": {
        "id": "M1zEPsM43_8a"
      },
      "source": [
        "#### Признак price"
      ]
    },
    {
      "cell_type": "code",
      "execution_count": 28,
      "metadata": {
        "colab": {
          "base_uri": "https://localhost:8080/",
          "height": 445
        },
        "id": "tlHkzMnF0ObR",
        "outputId": "4e27793e-44ba-4344-bb53-1130834feb91"
      },
      "outputs": [
        {
          "output_type": "display_data",
          "data": {
            "text/plain": [
              "<Figure size 640x480 with 1 Axes>"
            ],
            "image/png": "[encoded data removed]"
          },
          "metadata": {}
        }
      ],
      "source": [
        "clear_df['price'].plot(kind='box')\n",
        "pass"
      ]
    },
    {
      "cell_type": "code",
      "execution_count": 29,
      "metadata": {
        "id": "XkCMzzRF044g"
      },
      "outputs": [],
      "source": [
        "n = 1.5\n",
        "\n",
        "q1 = clear_df['price'].quantile(0.25)\n",
        "q3 = clear_df['price'].quantile(0.75)\n",
        "iqr = q3 - q1\n",
        "\n",
        "upper_limit = q3 + n * iqr\n",
        "lower_limit = q1 - n * iqr"
      ]
    },
    {
      "cell_type": "code",
      "execution_count": 30,
      "metadata": {
        "id": "C469rt141d1t"
      },
      "outputs": [],
      "source": [
        "clear_df = clear_df[(clear_df['price'] < upper_limit) & (clear_df['price'] > lower_limit)]"
      ]
    },
    {
      "cell_type": "markdown",
      "metadata": {
        "id": "NMypK9cS4G_1"
      },
      "source": [
        "#### Признак odometer"
      ]
    },
    {
      "cell_type": "code",
      "execution_count": 31,
      "metadata": {
        "colab": {
          "base_uri": "https://localhost:8080/",
          "height": 445
        },
        "id": "6oBMTfgB4NbC",
        "outputId": "5392ade3-2b91-4d56-f89a-f771d8875ac0"
      },
      "outputs": [
        {
          "output_type": "display_data",
          "data": {
            "text/plain": [
              "<Figure size 640x480 with 1 Axes>"
            ],
            "image/png": "[encoded data removed]"
          },
          "metadata": {}
        }
      ],
      "source": [
        "clear_df['odometer'].plot(kind='box')\n",
        "pass"
      ]
    },
    {
      "cell_type": "code",
      "execution_count": 32,
      "metadata": {
        "id": "UsaZ5Q2s4QAj"
      },
      "outputs": [],
      "source": [
        "n = 1.5\n",
        "\n",
        "q1 = clear_df['odometer'].quantile(0.25)\n",
        "q3 = clear_df['odometer'].quantile(0.75)\n",
        "iqr = q3 - q1\n",
        "\n",
        "upper_limit = q3 + n * iqr\n",
        "lower_limit = q1 - n * iqr"
      ]
    },
    {
      "cell_type": "code",
      "execution_count": 33,
      "metadata": {
        "id": "f4htY8k34TQM"
      },
      "outputs": [],
      "source": [
        "clear_df = clear_df[(clear_df['odometer'] < upper_limit) & (clear_df['odometer'] > lower_limit)]"
      ]
    },
    {
      "cell_type": "markdown",
      "metadata": {
        "id": "EAITM14E4XTz"
      },
      "source": [
        "#### Результат\n"
      ]
    },
    {
      "cell_type": "code",
      "execution_count": null,
      "metadata": {
        "colab": {
          "base_uri": "https://localhost:8080/"
        },
        "id": "Yhx9zuD84esC",
        "outputId": "2a4a66cc-7f0a-42fd-db13-19650f99329b"
      },
      "outputs": [
        {
          "data": {
            "text/plain": [
              "(386276, 16)"
            ]
          },
          "execution_count": 42,
          "metadata": {},
          "output_type": "execute_result"
        }
      ],
      "source": [
        "clear_df.shape"
      ]
    },
    {
      "cell_type": "markdown",
      "metadata": {
        "id": "EAmD1sQi4a3a"
      },
      "source": [
        "В результате поиска выбросов, было выявленно и удалено 10058 строк их содержащих"
      ]
    },
    {
      "cell_type": "code",
      "execution_count": null,
      "metadata": {
        "colab": {
          "base_uri": "https://localhost:8080/",
          "height": 206
        },
        "id": "us6D8gSR48nS",
        "outputId": "d5a1c25c-2057-47b6-86e2-b71cb713067c"
      },
      "outputs": [
        {
          "data": {
            "text/html": [
              "\n",
              "  <div id=\"df-e1595b19-df7d-4f7f-aa03-51e7e87b3299\" class=\"colab-df-container\">\n",
              "    <div>\n",
              "<style scoped>\n",
              "    .dataframe tbody tr th:only-of-type {\n",
              "        vertical-align: middle;\n",
              "    }\n",
              "\n",
              "    .dataframe tbody tr th {\n",
              "        vertical-align: top;\n",
              "    }\n",
              "\n",
              "    .dataframe thead th {\n",
              "        text-align: right;\n",
              "    }\n",
              "</style>\n",
              "<table border=\"1\" class=\"dataframe\">\n",
              "  <thead>\n",
              "    <tr style=\"text-align: right;\">\n",
              "      <th></th>\n",
              "      <th>region</th>\n",
              "      <th>price</th>\n",
              "      <th>year</th>\n",
              "      <th>manufacturer</th>\n",
              "      <th>model</th>\n",
              "      <th>condition</th>\n",
              "      <th>cylinders</th>\n",
              "      <th>fuel</th>\n",
              "      <th>odometer</th>\n",
              "      <th>title_status</th>\n",
              "      <th>transmission</th>\n",
              "      <th>drive</th>\n",
              "      <th>type</th>\n",
              "      <th>paint_color</th>\n",
              "      <th>description</th>\n",
              "      <th>posting_date</th>\n",
              "    </tr>\n",
              "  </thead>\n",
              "  <tbody>\n",
              "    <tr>\n",
              "      <th>188006</th>\n",
              "      <td>others</td>\n",
              "      <td>10999</td>\n",
              "      <td>2014</td>\n",
              "      <td>ford</td>\n",
              "      <td>fusion</td>\n",
              "      <td>unknown</td>\n",
              "      <td>unknown</td>\n",
              "      <td>gas</td>\n",
              "      <td>127197</td>\n",
              "      <td>clean</td>\n",
              "      <td>automatic</td>\n",
              "      <td>fwd</td>\n",
              "      <td>sedan</td>\n",
              "      <td>black</td>\n",
              "      <td>2014 Ford Fusion Titanium     Offered by: GUAR...</td>\n",
              "      <td>2021-04-28 14:22:06+00:00</td>\n",
              "    </tr>\n",
              "    <tr>\n",
              "      <th>262826</th>\n",
              "      <td>others</td>\n",
              "      <td>5750</td>\n",
              "      <td>2007</td>\n",
              "      <td>ram</td>\n",
              "      <td>2500</td>\n",
              "      <td>unknown</td>\n",
              "      <td>6 cylinders</td>\n",
              "      <td>diesel</td>\n",
              "      <td>15000</td>\n",
              "      <td>clean</td>\n",
              "      <td>manual</td>\n",
              "      <td>4wd</td>\n",
              "      <td>unknown</td>\n",
              "      <td>unknown</td>\n",
              "      <td>Ford Super Duty F250 f350 f450 f550 Dodge ram ...</td>\n",
              "      <td>2021-05-01 12:35:19+00:00</td>\n",
              "    </tr>\n",
              "    <tr>\n",
              "      <th>95227</th>\n",
              "      <td>others</td>\n",
              "      <td>23590</td>\n",
              "      <td>2017</td>\n",
              "      <td>ram</td>\n",
              "      <td>others</td>\n",
              "      <td>good</td>\n",
              "      <td>6 cylinders</td>\n",
              "      <td>gas</td>\n",
              "      <td>42253</td>\n",
              "      <td>clean</td>\n",
              "      <td>other</td>\n",
              "      <td>unknown</td>\n",
              "      <td>pickup</td>\n",
              "      <td>black</td>\n",
              "      <td>Carvana is the safer way to buy a car During t...</td>\n",
              "      <td>2021-04-23 17:51:11+00:00</td>\n",
              "    </tr>\n",
              "    <tr>\n",
              "      <th>59854</th>\n",
              "      <td>others</td>\n",
              "      <td>7000</td>\n",
              "      <td>2004</td>\n",
              "      <td>dodge</td>\n",
              "      <td>others</td>\n",
              "      <td>like new</td>\n",
              "      <td>6 cylinders</td>\n",
              "      <td>gas</td>\n",
              "      <td>180000</td>\n",
              "      <td>clean</td>\n",
              "      <td>automatic</td>\n",
              "      <td>unknown</td>\n",
              "      <td>unknown</td>\n",
              "      <td>grey</td>\n",
              "      <td>2004 Dodge Dakota, 3/4 Ton, 3.7L V6,          ...</td>\n",
              "      <td>2021-05-01 06:07:59+00:00</td>\n",
              "    </tr>\n",
              "    <tr>\n",
              "      <th>22683</th>\n",
              "      <td>others</td>\n",
              "      <td>42995</td>\n",
              "      <td>2019</td>\n",
              "      <td>toyota</td>\n",
              "      <td>others</td>\n",
              "      <td>unknown</td>\n",
              "      <td>6 cylinders</td>\n",
              "      <td>gas</td>\n",
              "      <td>33078</td>\n",
              "      <td>clean</td>\n",
              "      <td>automatic</td>\n",
              "      <td>4wd</td>\n",
              "      <td>pickup</td>\n",
              "      <td>grey</td>\n",
              "      <td>2019 Toyota Tacoma LIFTED TRD SPORT Truck2019 ...</td>\n",
              "      <td>2021-04-16 22:40:16+00:00</td>\n",
              "    </tr>\n",
              "  </tbody>\n",
              "</table>\n",
              "</div>\n",
              "    <div class=\"colab-df-buttons\">\n",
              "\n",
              "  <div class=\"colab-df-container\">\n",
              "    <button class=\"colab-df-convert\" onclick=\"convertToInteractive('df-e1595b19-df7d-4f7f-aa03-51e7e87b3299')\"\n",
              "            title=\"Convert this dataframe to an interactive table.\"\n",
              "            style=\"display:none;\">\n",
              "\n",
              "  <svg xmlns=\"http://www.w3.org/2000/svg\" height=\"24px\" viewBox=\"0 -960 960 960\">\n",
              "    <path d=\"M120-120v-720h720v720H120Zm60-500h600v-160H180v160Zm220 220h160v-160H400v160Zm0 220h160v-160H400v160ZM180-400h160v-160H180v160Zm440 0h160v-160H620v160ZM180-180h160v-160H180v160Zm440 0h160v-160H620v160Z\"/>\n",
              "  </svg>\n",
              "    </button>\n",
              "\n",
              "  <style>\n",
              "    .colab-df-container {\n",
              "      display:flex;\n",
              "      gap: 12px;\n",
              "    }\n",
              "\n",
              "    .colab-df-convert {\n",
              "      background-color: #E8F0FE;\n",
              "      border: none;\n",
              "      border-radius: 50%;\n",
              "      cursor: pointer;\n",
              "      display: none;\n",
              "      fill: #1967D2;\n",
              "      height: 32px;\n",
              "      padding: 0 0 0 0;\n",
              "      width: 32px;\n",
              "    }\n",
              "\n",
              "    .colab-df-convert:hover {\n",
              "      background-color: #E2EBFA;\n",
              "      box-shadow: 0px 1px 2px rgba(60, 64, 67, 0.3), 0px 1px 3px 1px rgba(60, 64, 67, 0.15);\n",
              "      fill: #174EA6;\n",
              "    }\n",
              "\n",
              "    .colab-df-buttons div {\n",
              "      margin-bottom: 4px;\n",
              "    }\n",
              "\n",
              "    [theme=dark] .colab-df-convert {\n",
              "      background-color: #3B4455;\n",
              "      fill: #D2E3FC;\n",
              "    }\n",
              "\n",
              "    [theme=dark] .colab-df-convert:hover {\n",
              "      background-color: #434B5C;\n",
              "      box-shadow: 0px 1px 3px 1px rgba(0, 0, 0, 0.15);\n",
              "      filter: drop-shadow(0px 1px 2px rgba(0, 0, 0, 0.3));\n",
              "      fill: #FFFFFF;\n",
              "    }\n",
              "  </style>\n",
              "\n",
              "    <script>\n",
              "      const buttonEl =\n",
              "        document.querySelector('#df-e1595b19-df7d-4f7f-aa03-51e7e87b3299 button.colab-df-convert');\n",
              "      buttonEl.style.display =\n",
              "        google.colab.kernel.accessAllowed ? 'block' : 'none';\n",
              "\n",
              "      async function convertToInteractive(key) {\n",
              "        const element = document.querySelector('#df-e1595b19-df7d-4f7f-aa03-51e7e87b3299');\n",
              "        const dataTable =\n",
              "          await google.colab.kernel.invokeFunction('convertToInteractive',\n",
              "                                                    [key], {});\n",
              "        if (!dataTable) return;\n",
              "\n",
              "        const docLinkHtml = 'Like what you see? Visit the ' +\n",
              "          '<a target=\"_blank\" href=https://colab.research.google.com/notebooks/data_table.ipynb>data table notebook</a>'\n",
              "          + ' to learn more about interactive tables.';\n",
              "        element.innerHTML = '';\n",
              "        dataTable['output_type'] = 'display_data';\n",
              "        await google.colab.output.renderOutput(dataTable, element);\n",
              "        const docLink = document.createElement('div');\n",
              "        docLink.innerHTML = docLinkHtml;\n",
              "        element.appendChild(docLink);\n",
              "      }\n",
              "    </script>\n",
              "  </div>\n",
              "\n",
              "\n",
              "<div id=\"df-8e91b0d6-d0f3-4a48-b442-3915d77d1ec4\">\n",
              "  <button class=\"colab-df-quickchart\" onclick=\"quickchart('df-8e91b0d6-d0f3-4a48-b442-3915d77d1ec4')\"\n",
              "            title=\"Suggest charts\"\n",
              "            style=\"display:none;\">\n",
              "\n",
              "<svg xmlns=\"http://www.w3.org/2000/svg\" height=\"24px\"viewBox=\"0 0 24 24\"\n",
              "     width=\"24px\">\n",
              "    <g>\n",
              "        <path d=\"M19 3H5c-1.1 0-2 .9-2 2v14c0 1.1.9 2 2 2h14c1.1 0 2-.9 2-2V5c0-1.1-.9-2-2-2zM9 17H7v-7h2v7zm4 0h-2V7h2v10zm4 0h-2v-4h2v4z\"/>\n",
              "    </g>\n",
              "</svg>\n",
              "  </button>\n",
              "\n",
              "<style>\n",
              "  .colab-df-quickchart {\n",
              "      --bg-color: #E8F0FE;\n",
              "      --fill-color: #1967D2;\n",
              "      --hover-bg-color: #E2EBFA;\n",
              "      --hover-fill-color: #174EA6;\n",
              "      --disabled-fill-color: #AAA;\n",
              "      --disabled-bg-color: #DDD;\n",
              "  }\n",
              "\n",
              "  [theme=dark] .colab-df-quickchart {\n",
              "      --bg-color: #3B4455;\n",
              "      --fill-color: #D2E3FC;\n",
              "      --hover-bg-color: #434B5C;\n",
              "      --hover-fill-color: #FFFFFF;\n",
              "      --disabled-bg-color: #3B4455;\n",
              "      --disabled-fill-color: #666;\n",
              "  }\n",
              "\n",
              "  .colab-df-quickchart {\n",
              "    background-color: var(--bg-color);\n",
              "    border: none;\n",
              "    border-radius: 50%;\n",
              "    cursor: pointer;\n",
              "    display: none;\n",
              "    fill: var(--fill-color);\n",
              "    height: 32px;\n",
              "    padding: 0;\n",
              "    width: 32px;\n",
              "  }\n",
              "\n",
              "  .colab-df-quickchart:hover {\n",
              "    background-color: var(--hover-bg-color);\n",
              "    box-shadow: 0 1px 2px rgba(60, 64, 67, 0.3), 0 1px 3px 1px rgba(60, 64, 67, 0.15);\n",
              "    fill: var(--button-hover-fill-color);\n",
              "  }\n",
              "\n",
              "  .colab-df-quickchart-complete:disabled,\n",
              "  .colab-df-quickchart-complete:disabled:hover {\n",
              "    background-color: var(--disabled-bg-color);\n",
              "    fill: var(--disabled-fill-color);\n",
              "    box-shadow: none;\n",
              "  }\n",
              "\n",
              "  .colab-df-spinner {\n",
              "    border: 2px solid var(--fill-color);\n",
              "    border-color: transparent;\n",
              "    border-bottom-color: var(--fill-color);\n",
              "    animation:\n",
              "      spin 1s steps(1) infinite;\n",
              "  }\n",
              "\n",
              "  @keyframes spin {\n",
              "    0% {\n",
              "      border-color: transparent;\n",
              "      border-bottom-color: var(--fill-color);\n",
              "      border-left-color: var(--fill-color);\n",
              "    }\n",
              "    20% {\n",
              "      border-color: transparent;\n",
              "      border-left-color: var(--fill-color);\n",
              "      border-top-color: var(--fill-color);\n",
              "    }\n",
              "    30% {\n",
              "      border-color: transparent;\n",
              "      border-left-color: var(--fill-color);\n",
              "      border-top-color: var(--fill-color);\n",
              "      border-right-color: var(--fill-color);\n",
              "    }\n",
              "    40% {\n",
              "      border-color: transparent;\n",
              "      border-right-color: var(--fill-color);\n",
              "      border-top-color: var(--fill-color);\n",
              "    }\n",
              "    60% {\n",
              "      border-color: transparent;\n",
              "      border-right-color: var(--fill-color);\n",
              "    }\n",
              "    80% {\n",
              "      border-color: transparent;\n",
              "      border-right-color: var(--fill-color);\n",
              "      border-bottom-color: var(--fill-color);\n",
              "    }\n",
              "    90% {\n",
              "      border-color: transparent;\n",
              "      border-bottom-color: var(--fill-color);\n",
              "    }\n",
              "  }\n",
              "</style>\n",
              "\n",
              "  <script>\n",
              "    async function quickchart(key) {\n",
              "      const quickchartButtonEl =\n",
              "        document.querySelector('#' + key + ' button');\n",
              "      quickchartButtonEl.disabled = true;  // To prevent multiple clicks.\n",
              "      quickchartButtonEl.classList.add('colab-df-spinner');\n",
              "      try {\n",
              "        const charts = await google.colab.kernel.invokeFunction(\n",
              "            'suggestCharts', [key], {});\n",
              "      } catch (error) {\n",
              "        console.error('Error during call to suggestCharts:', error);\n",
              "      }\n",
              "      quickchartButtonEl.classList.remove('colab-df-spinner');\n",
              "      quickchartButtonEl.classList.add('colab-df-quickchart-complete');\n",
              "    }\n",
              "    (() => {\n",
              "      let quickchartButtonEl =\n",
              "        document.querySelector('#df-8e91b0d6-d0f3-4a48-b442-3915d77d1ec4 button');\n",
              "      quickchartButtonEl.style.display =\n",
              "        google.colab.kernel.accessAllowed ? 'block' : 'none';\n",
              "    })();\n",
              "  </script>\n",
              "</div>\n",
              "    </div>\n",
              "  </div>\n"
            ],
            "text/plain": [
              "        region  price  year manufacturer   model condition    cylinders  \\\n",
              "188006  others  10999  2014         ford  fusion   unknown      unknown   \n",
              "262826  others   5750  2007          ram    2500   unknown  6 cylinders   \n",
              "95227   others  23590  2017          ram  others      good  6 cylinders   \n",
              "59854   others   7000  2004        dodge  others  like new  6 cylinders   \n",
              "22683   others  42995  2019       toyota  others   unknown  6 cylinders   \n",
              "\n",
              "          fuel  odometer title_status transmission    drive     type  \\\n",
              "188006     gas    127197        clean    automatic      fwd    sedan   \n",
              "262826  diesel     15000        clean       manual      4wd  unknown   \n",
              "95227      gas     42253        clean        other  unknown   pickup   \n",
              "59854      gas    180000        clean    automatic  unknown  unknown   \n",
              "22683      gas     33078        clean    automatic      4wd   pickup   \n",
              "\n",
              "       paint_color                                        description  \\\n",
              "188006       black  2014 Ford Fusion Titanium     Offered by: GUAR...   \n",
              "262826     unknown  Ford Super Duty F250 f350 f450 f550 Dodge ram ...   \n",
              "95227        black  Carvana is the safer way to buy a car During t...   \n",
              "59854         grey  2004 Dodge Dakota, 3/4 Ton, 3.7L V6,          ...   \n",
              "22683         grey  2019 Toyota Tacoma LIFTED TRD SPORT Truck2019 ...   \n",
              "\n",
              "                    posting_date  \n",
              "188006 2021-04-28 14:22:06+00:00  \n",
              "262826 2021-05-01 12:35:19+00:00  \n",
              "95227  2021-04-23 17:51:11+00:00  \n",
              "59854  2021-05-01 06:07:59+00:00  \n",
              "22683  2021-04-16 22:40:16+00:00  "
            ]
          },
          "execution_count": 43,
          "metadata": {},
          "output_type": "execute_result"
        }
      ],
      "source": [
        "clear_df.sample(5)"
      ]
    },
    {
      "cell_type": "markdown",
      "metadata": {
        "id": "nRctVNno7gDm"
      },
      "source": [
        "## Бинаризация номинальных признаков\n",
        "\n",
        "\n",
        "\n"
      ]
    },
    {
      "cell_type": "code",
      "execution_count": null,
      "metadata": {
        "colab": {
          "base_uri": "https://localhost:8080/"
        },
        "id": "w6z_fSxE8PMt",
        "outputId": "00067f4d-d17e-42c9-da2a-cea66aa43ef1"
      },
      "outputs": [
        {
          "name": "stdout",
          "output_type": "stream",
          "text": [
            "<class 'pandas.core.frame.DataFrame'>\n",
            "Int64Index: 386276 entries, 27 to 426879\n",
            "Data columns (total 16 columns):\n",
            " #   Column        Non-Null Count   Dtype              \n",
            "---  ------        --------------   -----              \n",
            " 0   region        386276 non-null  category           \n",
            " 1   price         386276 non-null  int64              \n",
            " 2   year          386276 non-null  int64              \n",
            " 3   manufacturer  386276 non-null  category           \n",
            " 4   model         386276 non-null  category           \n",
            " 5   condition     386276 non-null  category           \n",
            " 6   cylinders     386276 non-null  category           \n",
            " 7   fuel          386276 non-null  category           \n",
            " 8   odometer      386276 non-null  int64              \n",
            " 9   title_status  386276 non-null  category           \n",
            " 10  transmission  386276 non-null  category           \n",
            " 11  drive         386276 non-null  category           \n",
            " 12  type          386276 non-null  category           \n",
            " 13  paint_color   386276 non-null  category           \n",
            " 14  description   386276 non-null  string             \n",
            " 15  posting_date  386276 non-null  datetime64[ns, UTC]\n",
            "dtypes: category(11), datetime64[ns, UTC](1), int64(3), string(1)\n",
            "memory usage: 21.7 MB\n"
          ]
        }
      ],
      "source": [
        "clear_df.info()"
      ]
    },
    {
      "cell_type": "markdown",
      "metadata": {
        "id": "nMlC39d29ET-"
      },
      "source": [
        "Бинаризируем следующие категориальные признаки"
      ]
    },
    {
      "cell_type": "code",
      "execution_count": 34,
      "metadata": {
        "colab": {
          "base_uri": "https://localhost:8080/"
        },
        "id": "3vy7GJxY8JyN",
        "outputId": "d1840997-890c-42d8-d880-766839e46fe3"
      },
      "outputs": [
        {
          "output_type": "execute_result",
          "data": {
            "text/plain": [
              "['region',\n",
              " 'manufacturer',\n",
              " 'model',\n",
              " 'condition',\n",
              " 'cylinders',\n",
              " 'fuel',\n",
              " 'title_status',\n",
              " 'transmission',\n",
              " 'drive',\n",
              " 'type',\n",
              " 'paint_color']"
            ]
          },
          "metadata": {},
          "execution_count": 34
        }
      ],
      "source": [
        "columns_for_enc = []\n",
        "\n",
        "for col in clear_df.columns:\n",
        "  if clear_df[col].dtype == 'category':\n",
        "    columns_for_enc.append(col)\n",
        "\n",
        "columns_for_enc"
      ]
    },
    {
      "cell_type": "code",
      "execution_count": 35,
      "metadata": {
        "id": "gpG90LQ68Bn3"
      },
      "outputs": [],
      "source": [
        "from sklearn.preprocessing import OneHotEncoder"
      ]
    },
    {
      "cell_type": "code",
      "execution_count": 36,
      "metadata": {
        "colab": {
          "base_uri": "https://localhost:8080/",
          "height": 109
        },
        "id": "EuCYb_Yi9jxX",
        "outputId": "9f9e3590-1b5f-4275-9147-991965daa2a3"
      },
      "outputs": [
        {
          "output_type": "stream",
          "name": "stderr",
          "text": [
            "/usr/local/lib/python3.10/dist-packages/sklearn/preprocessing/_encoders.py:868: FutureWarning: `sparse` was renamed to `sparse_output` in version 1.2 and will be removed in 1.4. `sparse_output` is ignored unless you leave `sparse` to its default value.\n",
            "  warnings.warn(\n"
          ]
        },
        {
          "output_type": "execute_result",
          "data": {
            "text/plain": [
              "OneHotEncoder(drop='if_binary', sparse=False, sparse_output=False)"
            ],
            "text/html": [
              "<style>#sk-container-id-1 {color: black;background-color: white;}#sk-container-id-1 pre{padding: 0;}#sk-container-id-1 div.sk-toggleable {background-color: white;}#sk-container-id-1 label.sk-toggleable__label {cursor: pointer;display: block;width: 100%;margin-bottom: 0;padding: 0.3em;box-sizing: border-box;text-align: center;}#sk-container-id-1 label.sk-toggleable__label-arrow:before {content: \"▸\";float: left;margin-right: 0.25em;color: #696969;}#sk-container-id-1 label.sk-toggleable__label-arrow:hover:before {color: black;}#sk-container-id-1 div.sk-estimator:hover label.sk-toggleable__label-arrow:before {color: black;}#sk-container-id-1 div.sk-toggleable__content {max-height: 0;max-width: 0;overflow: hidden;text-align: left;background-color: #f0f8ff;}#sk-container-id-1 div.sk-toggleable__content pre {margin: 0.2em;color: black;border-radius: 0.25em;background-color: #f0f8ff;}#sk-container-id-1 input.sk-toggleable__control:checked~div.sk-toggleable__content {max-height: 200px;max-width: 100%;overflow: auto;}#sk-container-id-1 input.sk-toggleable__control:checked~label.sk-toggleable__label-arrow:before {content: \"▾\";}#sk-container-id-1 div.sk-estimator input.sk-toggleable__control:checked~label.sk-toggleable__label {background-color: #d4ebff;}#sk-container-id-1 div.sk-label input.sk-toggleable__control:checked~label.sk-toggleable__label {background-color: #d4ebff;}#sk-container-id-1 input.sk-hidden--visually {border: 0;clip: rect(1px 1px 1px 1px);clip: rect(1px, 1px, 1px, 1px);height: 1px;margin: -1px;overflow: hidden;padding: 0;position: absolute;width: 1px;}#sk-container-id-1 div.sk-estimator {font-family: monospace;background-color: #f0f8ff;border: 1px dotted black;border-radius: 0.25em;box-sizing: border-box;margin-bottom: 0.5em;}#sk-container-id-1 div.sk-estimator:hover {background-color: #d4ebff;}#sk-container-id-1 div.sk-parallel-item::after {content: \"\";width: 100%;border-bottom: 1px solid gray;flex-grow: 1;}#sk-container-id-1 div.sk-label:hover label.sk-toggleable__label {background-color: #d4ebff;}#sk-container-id-1 div.sk-serial::before {content: \"\";position: absolute;border-left: 1px solid gray;box-sizing: border-box;top: 0;bottom: 0;left: 50%;z-index: 0;}#sk-container-id-1 div.sk-serial {display: flex;flex-direction: column;align-items: center;background-color: white;padding-right: 0.2em;padding-left: 0.2em;position: relative;}#sk-container-id-1 div.sk-item {position: relative;z-index: 1;}#sk-container-id-1 div.sk-parallel {display: flex;align-items: stretch;justify-content: center;background-color: white;position: relative;}#sk-container-id-1 div.sk-item::before, #sk-container-id-1 div.sk-parallel-item::before {content: \"\";position: absolute;border-left: 1px solid gray;box-sizing: border-box;top: 0;bottom: 0;left: 50%;z-index: -1;}#sk-container-id-1 div.sk-parallel-item {display: flex;flex-direction: column;z-index: 1;position: relative;background-color: white;}#sk-container-id-1 div.sk-parallel-item:first-child::after {align-self: flex-end;width: 50%;}#sk-container-id-1 div.sk-parallel-item:last-child::after {align-self: flex-start;width: 50%;}#sk-container-id-1 div.sk-parallel-item:only-child::after {width: 0;}#sk-container-id-1 div.sk-dashed-wrapped {border: 1px dashed gray;margin: 0 0.4em 0.5em 0.4em;box-sizing: border-box;padding-bottom: 0.4em;background-color: white;}#sk-container-id-1 div.sk-label label {font-family: monospace;font-weight: bold;display: inline-block;line-height: 1.2em;}#sk-container-id-1 div.sk-label-container {text-align: center;}#sk-container-id-1 div.sk-container {/* jupyter's `normalize.less` sets `[hidden] { display: none; }` but bootstrap.min.css set `[hidden] { display: none !important; }` so we also need the `!important` here to be able to override the default hidden behavior on the sphinx rendered scikit-learn.org. See: https://github.com/scikit-learn/scikit-learn/issues/21755 */display: inline-block !important;position: relative;}#sk-container-id-1 div.sk-text-repr-fallback {display: none;}</style><div id=\"sk-container-id-1\" class=\"sk-top-container\"><div class=\"sk-text-repr-fallback\"><pre>OneHotEncoder(drop=&#x27;if_binary&#x27;, sparse=False, sparse_output=False)</pre><b>In a Jupyter environment, please rerun this cell to show the HTML representation or trust the notebook. <br />On GitHub, the HTML representation is unable to render, please try loading this page with nbviewer.org.</b></div><div class=\"sk-container\" hidden><div class=\"sk-item\"><div class=\"sk-estimator sk-toggleable\"><input class=\"sk-toggleable__control sk-hidden--visually\" id=\"sk-estimator-id-1\" type=\"checkbox\" checked><label for=\"sk-estimator-id-1\" class=\"sk-toggleable__label sk-toggleable__label-arrow\">OneHotEncoder</label><div class=\"sk-toggleable__content\"><pre>OneHotEncoder(drop=&#x27;if_binary&#x27;, sparse=False, sparse_output=False)</pre></div></div></div></div></div>"
            ]
          },
          "metadata": {},
          "execution_count": 36
        }
      ],
      "source": [
        "enc = OneHotEncoder(drop='if_binary', sparse=False)\n",
        "enc.fit(clear_df[columns_for_enc])"
      ]
    },
    {
      "cell_type": "code",
      "execution_count": 37,
      "metadata": {
        "colab": {
          "base_uri": "https://localhost:8080/",
          "height": 273
        },
        "id": "XfNMLSSM-1oM",
        "outputId": "3da710a1-aa30-43da-d25d-fec84b6be419"
      },
      "outputs": [
        {
          "output_type": "execute_result",
          "data": {
            "text/plain": [
              "    region_SF bay area  region_albuquerque  region_baltimore  region_bend  \\\n",
              "27                 0.0                 0.0               0.0          0.0   \n",
              "28                 0.0                 0.0               0.0          0.0   \n",
              "29                 0.0                 0.0               0.0          0.0   \n",
              "30                 0.0                 0.0               0.0          0.0   \n",
              "31                 0.0                 0.0               0.0          0.0   \n",
              "\n",
              "    region_boise  region_cleveland  region_columbus  region_detroit metro  \\\n",
              "27           0.0               0.0              0.0                   0.0   \n",
              "28           0.0               0.0              0.0                   0.0   \n",
              "29           0.0               0.0              0.0                   0.0   \n",
              "30           0.0               0.0              0.0                   0.0   \n",
              "31           0.0               0.0              0.0                   0.0   \n",
              "\n",
              "    region_grand rapids  region_houston  ...  paint_color_custom  \\\n",
              "27                  0.0             0.0  ...                 0.0   \n",
              "28                  0.0             0.0  ...                 0.0   \n",
              "29                  0.0             0.0  ...                 0.0   \n",
              "30                  0.0             0.0  ...                 0.0   \n",
              "31                  0.0             0.0  ...                 0.0   \n",
              "\n",
              "    paint_color_green  paint_color_grey  paint_color_orange  \\\n",
              "27                0.0               0.0                 0.0   \n",
              "28                0.0               0.0                 0.0   \n",
              "29                0.0               0.0                 0.0   \n",
              "30                0.0               0.0                 0.0   \n",
              "31                0.0               0.0                 0.0   \n",
              "\n",
              "    paint_color_purple  paint_color_red  paint_color_silver  \\\n",
              "27                 0.0              0.0                 0.0   \n",
              "28                 0.0              0.0                 0.0   \n",
              "29                 0.0              1.0                 0.0   \n",
              "30                 0.0              1.0                 0.0   \n",
              "31                 0.0              0.0                 0.0   \n",
              "\n",
              "    paint_color_unknown  paint_color_white  paint_color_yellow  \n",
              "27                  0.0                1.0                 0.0  \n",
              "28                  0.0                0.0                 0.0  \n",
              "29                  0.0                0.0                 0.0  \n",
              "30                  0.0                0.0                 0.0  \n",
              "31                  0.0                0.0                 0.0  \n",
              "\n",
              "[5 rows x 165 columns]"
            ],
            "text/html": [
              "\n",
              "  <div id=\"df-f4ee446a-7e74-4625-a3cd-33ce1623aeb8\" class=\"colab-df-container\">\n",
              "    <div>\n",
              "<style scoped>\n",
              "    .dataframe tbody tr th:only-of-type {\n",
              "        vertical-align: middle;\n",
              "    }\n",
              "\n",
              "    .dataframe tbody tr th {\n",
              "        vertical-align: top;\n",
              "    }\n",
              "\n",
              "    .dataframe thead th {\n",
              "        text-align: right;\n",
              "    }\n",
              "</style>\n",
              "<table border=\"1\" class=\"dataframe\">\n",
              "  <thead>\n",
              "    <tr style=\"text-align: right;\">\n",
              "      <th></th>\n",
              "      <th>region_SF bay area</th>\n",
              "      <th>region_albuquerque</th>\n",
              "      <th>region_baltimore</th>\n",
              "      <th>region_bend</th>\n",
              "      <th>region_boise</th>\n",
              "      <th>region_cleveland</th>\n",
              "      <th>region_columbus</th>\n",
              "      <th>region_detroit metro</th>\n",
              "      <th>region_grand rapids</th>\n",
              "      <th>region_houston</th>\n",
              "      <th>...</th>\n",
              "      <th>paint_color_custom</th>\n",
              "      <th>paint_color_green</th>\n",
              "      <th>paint_color_grey</th>\n",
              "      <th>paint_color_orange</th>\n",
              "      <th>paint_color_purple</th>\n",
              "      <th>paint_color_red</th>\n",
              "      <th>paint_color_silver</th>\n",
              "      <th>paint_color_unknown</th>\n",
              "      <th>paint_color_white</th>\n",
              "      <th>paint_color_yellow</th>\n",
              "    </tr>\n",
              "  </thead>\n",
              "  <tbody>\n",
              "    <tr>\n",
              "      <th>27</th>\n",
              "      <td>0.0</td>\n",
              "      <td>0.0</td>\n",
              "      <td>0.0</td>\n",
              "      <td>0.0</td>\n",
              "      <td>0.0</td>\n",
              "      <td>0.0</td>\n",
              "      <td>0.0</td>\n",
              "      <td>0.0</td>\n",
              "      <td>0.0</td>\n",
              "      <td>0.0</td>\n",
              "      <td>...</td>\n",
              "      <td>0.0</td>\n",
              "      <td>0.0</td>\n",
              "      <td>0.0</td>\n",
              "      <td>0.0</td>\n",
              "      <td>0.0</td>\n",
              "      <td>0.0</td>\n",
              "      <td>0.0</td>\n",
              "      <td>0.0</td>\n",
              "      <td>1.0</td>\n",
              "      <td>0.0</td>\n",
              "    </tr>\n",
              "    <tr>\n",
              "      <th>28</th>\n",
              "      <td>0.0</td>\n",
              "      <td>0.0</td>\n",
              "      <td>0.0</td>\n",
              "      <td>0.0</td>\n",
              "      <td>0.0</td>\n",
              "      <td>0.0</td>\n",
              "      <td>0.0</td>\n",
              "      <td>0.0</td>\n",
              "      <td>0.0</td>\n",
              "      <td>0.0</td>\n",
              "      <td>...</td>\n",
              "      <td>0.0</td>\n",
              "      <td>0.0</td>\n",
              "      <td>0.0</td>\n",
              "      <td>0.0</td>\n",
              "      <td>0.0</td>\n",
              "      <td>0.0</td>\n",
              "      <td>0.0</td>\n",
              "      <td>0.0</td>\n",
              "      <td>0.0</td>\n",
              "      <td>0.0</td>\n",
              "    </tr>\n",
              "    <tr>\n",
              "      <th>29</th>\n",
              "      <td>0.0</td>\n",
              "      <td>0.0</td>\n",
              "      <td>0.0</td>\n",
              "      <td>0.0</td>\n",
              "      <td>0.0</td>\n",
              "      <td>0.0</td>\n",
              "      <td>0.0</td>\n",
              "      <td>0.0</td>\n",
              "      <td>0.0</td>\n",
              "      <td>0.0</td>\n",
              "      <td>...</td>\n",
              "      <td>0.0</td>\n",
              "      <td>0.0</td>\n",
              "      <td>0.0</td>\n",
              "      <td>0.0</td>\n",
              "      <td>0.0</td>\n",
              "      <td>1.0</td>\n",
              "      <td>0.0</td>\n",
              "      <td>0.0</td>\n",
              "      <td>0.0</td>\n",
              "      <td>0.0</td>\n",
              "    </tr>\n",
              "    <tr>\n",
              "      <th>30</th>\n",
              "      <td>0.0</td>\n",
              "      <td>0.0</td>\n",
              "      <td>0.0</td>\n",
              "      <td>0.0</td>\n",
              "      <td>0.0</td>\n",
              "      <td>0.0</td>\n",
              "      <td>0.0</td>\n",
              "      <td>0.0</td>\n",
              "      <td>0.0</td>\n",
              "      <td>0.0</td>\n",
              "      <td>...</td>\n",
              "      <td>0.0</td>\n",
              "      <td>0.0</td>\n",
              "      <td>0.0</td>\n",
              "      <td>0.0</td>\n",
              "      <td>0.0</td>\n",
              "      <td>1.0</td>\n",
              "      <td>0.0</td>\n",
              "      <td>0.0</td>\n",
              "      <td>0.0</td>\n",
              "      <td>0.0</td>\n",
              "    </tr>\n",
              "    <tr>\n",
              "      <th>31</th>\n",
              "      <td>0.0</td>\n",
              "      <td>0.0</td>\n",
              "      <td>0.0</td>\n",
              "      <td>0.0</td>\n",
              "      <td>0.0</td>\n",
              "      <td>0.0</td>\n",
              "      <td>0.0</td>\n",
              "      <td>0.0</td>\n",
              "      <td>0.0</td>\n",
              "      <td>0.0</td>\n",
              "      <td>...</td>\n",
              "      <td>0.0</td>\n",
              "      <td>0.0</td>\n",
              "      <td>0.0</td>\n",
              "      <td>0.0</td>\n",
              "      <td>0.0</td>\n",
              "      <td>0.0</td>\n",
              "      <td>0.0</td>\n",
              "      <td>0.0</td>\n",
              "      <td>0.0</td>\n",
              "      <td>0.0</td>\n",
              "    </tr>\n",
              "  </tbody>\n",
              "</table>\n",
              "<p>5 rows × 165 columns</p>\n",
              "</div>\n",
              "    <div class=\"colab-df-buttons\">\n",
              "\n",
              "  <div class=\"colab-df-container\">\n",
              "    <button class=\"colab-df-convert\" onclick=\"convertToInteractive('df-f4ee446a-7e74-4625-a3cd-33ce1623aeb8')\"\n",
              "            title=\"Convert this dataframe to an interactive table.\"\n",
              "            style=\"display:none;\">\n",
              "\n",
              "  <svg xmlns=\"http://www.w3.org/2000/svg\" height=\"24px\" viewBox=\"0 -960 960 960\">\n",
              "    <path d=\"M120-120v-720h720v720H120Zm60-500h600v-160H180v160Zm220 220h160v-160H400v160Zm0 220h160v-160H400v160ZM180-400h160v-160H180v160Zm440 0h160v-160H620v160ZM180-180h160v-160H180v160Zm440 0h160v-160H620v160Z\"/>\n",
              "  </svg>\n",
              "    </button>\n",
              "\n",
              "  <style>\n",
              "    .colab-df-container {\n",
              "      display:flex;\n",
              "      gap: 12px;\n",
              "    }\n",
              "\n",
              "    .colab-df-convert {\n",
              "      background-color: #E8F0FE;\n",
              "      border: none;\n",
              "      border-radius: 50%;\n",
              "      cursor: pointer;\n",
              "      display: none;\n",
              "      fill: #1967D2;\n",
              "      height: 32px;\n",
              "      padding: 0 0 0 0;\n",
              "      width: 32px;\n",
              "    }\n",
              "\n",
              "    .colab-df-convert:hover {\n",
              "      background-color: #E2EBFA;\n",
              "      box-shadow: 0px 1px 2px rgba(60, 64, 67, 0.3), 0px 1px 3px 1px rgba(60, 64, 67, 0.15);\n",
              "      fill: #174EA6;\n",
              "    }\n",
              "\n",
              "    .colab-df-buttons div {\n",
              "      margin-bottom: 4px;\n",
              "    }\n",
              "\n",
              "    [theme=dark] .colab-df-convert {\n",
              "      background-color: #3B4455;\n",
              "      fill: #D2E3FC;\n",
              "    }\n",
              "\n",
              "    [theme=dark] .colab-df-convert:hover {\n",
              "      background-color: #434B5C;\n",
              "      box-shadow: 0px 1px 3px 1px rgba(0, 0, 0, 0.15);\n",
              "      filter: drop-shadow(0px 1px 2px rgba(0, 0, 0, 0.3));\n",
              "      fill: #FFFFFF;\n",
              "    }\n",
              "  </style>\n",
              "\n",
              "    <script>\n",
              "      const buttonEl =\n",
              "        document.querySelector('#df-f4ee446a-7e74-4625-a3cd-33ce1623aeb8 button.colab-df-convert');\n",
              "      buttonEl.style.display =\n",
              "        google.colab.kernel.accessAllowed ? 'block' : 'none';\n",
              "\n",
              "      async function convertToInteractive(key) {\n",
              "        const element = document.querySelector('#df-f4ee446a-7e74-4625-a3cd-33ce1623aeb8');\n",
              "        const dataTable =\n",
              "          await google.colab.kernel.invokeFunction('convertToInteractive',\n",
              "                                                    [key], {});\n",
              "        if (!dataTable) return;\n",
              "\n",
              "        const docLinkHtml = 'Like what you see? Visit the ' +\n",
              "          '<a target=\"_blank\" href=https://colab.research.google.com/notebooks/data_table.ipynb>data table notebook</a>'\n",
              "          + ' to learn more about interactive tables.';\n",
              "        element.innerHTML = '';\n",
              "        dataTable['output_type'] = 'display_data';\n",
              "        await google.colab.output.renderOutput(dataTable, element);\n",
              "        const docLink = document.createElement('div');\n",
              "        docLink.innerHTML = docLinkHtml;\n",
              "        element.appendChild(docLink);\n",
              "      }\n",
              "    </script>\n",
              "  </div>\n",
              "\n",
              "\n",
              "<div id=\"df-602707f8-78c0-46fd-9931-d46e9ec7251e\">\n",
              "  <button class=\"colab-df-quickchart\" onclick=\"quickchart('df-602707f8-78c0-46fd-9931-d46e9ec7251e')\"\n",
              "            title=\"Suggest charts\"\n",
              "            style=\"display:none;\">\n",
              "\n",
              "<svg xmlns=\"http://www.w3.org/2000/svg\" height=\"24px\"viewBox=\"0 0 24 24\"\n",
              "     width=\"24px\">\n",
              "    <g>\n",
              "        <path d=\"M19 3H5c-1.1 0-2 .9-2 2v14c0 1.1.9 2 2 2h14c1.1 0 2-.9 2-2V5c0-1.1-.9-2-2-2zM9 17H7v-7h2v7zm4 0h-2V7h2v10zm4 0h-2v-4h2v4z\"/>\n",
              "    </g>\n",
              "</svg>\n",
              "  </button>\n",
              "\n",
              "<style>\n",
              "  .colab-df-quickchart {\n",
              "      --bg-color: #E8F0FE;\n",
              "      --fill-color: #1967D2;\n",
              "      --hover-bg-color: #E2EBFA;\n",
              "      --hover-fill-color: #174EA6;\n",
              "      --disabled-fill-color: #AAA;\n",
              "      --disabled-bg-color: #DDD;\n",
              "  }\n",
              "\n",
              "  [theme=dark] .colab-df-quickchart {\n",
              "      --bg-color: #3B4455;\n",
              "      --fill-color: #D2E3FC;\n",
              "      --hover-bg-color: #434B5C;\n",
              "      --hover-fill-color: #FFFFFF;\n",
              "      --disabled-bg-color: #3B4455;\n",
              "      --disabled-fill-color: #666;\n",
              "  }\n",
              "\n",
              "  .colab-df-quickchart {\n",
              "    background-color: var(--bg-color);\n",
              "    border: none;\n",
              "    border-radius: 50%;\n",
              "    cursor: pointer;\n",
              "    display: none;\n",
              "    fill: var(--fill-color);\n",
              "    height: 32px;\n",
              "    padding: 0;\n",
              "    width: 32px;\n",
              "  }\n",
              "\n",
              "  .colab-df-quickchart:hover {\n",
              "    background-color: var(--hover-bg-color);\n",
              "    box-shadow: 0 1px 2px rgba(60, 64, 67, 0.3), 0 1px 3px 1px rgba(60, 64, 67, 0.15);\n",
              "    fill: var(--button-hover-fill-color);\n",
              "  }\n",
              "\n",
              "  .colab-df-quickchart-complete:disabled,\n",
              "  .colab-df-quickchart-complete:disabled:hover {\n",
              "    background-color: var(--disabled-bg-color);\n",
              "    fill: var(--disabled-fill-color);\n",
              "    box-shadow: none;\n",
              "  }\n",
              "\n",
              "  .colab-df-spinner {\n",
              "    border: 2px solid var(--fill-color);\n",
              "    border-color: transparent;\n",
              "    border-bottom-color: var(--fill-color);\n",
              "    animation:\n",
              "      spin 1s steps(1) infinite;\n",
              "  }\n",
              "\n",
              "  @keyframes spin {\n",
              "    0% {\n",
              "      border-color: transparent;\n",
              "      border-bottom-color: var(--fill-color);\n",
              "      border-left-color: var(--fill-color);\n",
              "    }\n",
              "    20% {\n",
              "      border-color: transparent;\n",
              "      border-left-color: var(--fill-color);\n",
              "      border-top-color: var(--fill-color);\n",
              "    }\n",
              "    30% {\n",
              "      border-color: transparent;\n",
              "      border-left-color: var(--fill-color);\n",
              "      border-top-color: var(--fill-color);\n",
              "      border-right-color: var(--fill-color);\n",
              "    }\n",
              "    40% {\n",
              "      border-color: transparent;\n",
              "      border-right-color: var(--fill-color);\n",
              "      border-top-color: var(--fill-color);\n",
              "    }\n",
              "    60% {\n",
              "      border-color: transparent;\n",
              "      border-right-color: var(--fill-color);\n",
              "    }\n",
              "    80% {\n",
              "      border-color: transparent;\n",
              "      border-right-color: var(--fill-color);\n",
              "      border-bottom-color: var(--fill-color);\n",
              "    }\n",
              "    90% {\n",
              "      border-color: transparent;\n",
              "      border-bottom-color: var(--fill-color);\n",
              "    }\n",
              "  }\n",
              "</style>\n",
              "\n",
              "  <script>\n",
              "    async function quickchart(key) {\n",
              "      const quickchartButtonEl =\n",
              "        document.querySelector('#' + key + ' button');\n",
              "      quickchartButtonEl.disabled = true;  // To prevent multiple clicks.\n",
              "      quickchartButtonEl.classList.add('colab-df-spinner');\n",
              "      try {\n",
              "        const charts = await google.colab.kernel.invokeFunction(\n",
              "            'suggestCharts', [key], {});\n",
              "      } catch (error) {\n",
              "        console.error('Error during call to suggestCharts:', error);\n",
              "      }\n",
              "      quickchartButtonEl.classList.remove('colab-df-spinner');\n",
              "      quickchartButtonEl.classList.add('colab-df-quickchart-complete');\n",
              "    }\n",
              "    (() => {\n",
              "      let quickchartButtonEl =\n",
              "        document.querySelector('#df-602707f8-78c0-46fd-9931-d46e9ec7251e button');\n",
              "      quickchartButtonEl.style.display =\n",
              "        google.colab.kernel.accessAllowed ? 'block' : 'none';\n",
              "    })();\n",
              "  </script>\n",
              "</div>\n",
              "    </div>\n",
              "  </div>\n"
            ]
          },
          "metadata": {},
          "execution_count": 37
        }
      ],
      "source": [
        "dummies = pd.DataFrame(enc.transform(clear_df[columns_for_enc]),\n",
        "                       columns=enc.get_feature_names_out(), index=clear_df.index)\n",
        "dummies.head()"
      ]
    },
    {
      "cell_type": "code",
      "execution_count": 38,
      "metadata": {
        "id": "ZilSvmhI_DoB"
      },
      "outputs": [],
      "source": [
        "clear_df = pd.concat((clear_df, dummies), axis=1).drop(columns_for_enc, axis=1)"
      ]
    },
    {
      "cell_type": "code",
      "execution_count": null,
      "metadata": {
        "id": "uM5H7MXv_iPy"
      },
      "outputs": [],
      "source": [
        "clear_df.head()"
      ]
    },
    {
      "cell_type": "markdown",
      "metadata": {
        "id": "NpsjUlsEAj-_"
      },
      "source": [
        "## Векторизация строковых признаков"
      ]
    },
    {
      "cell_type": "code",
      "execution_count": null,
      "metadata": {
        "colab": {
          "base_uri": "https://localhost:8080/"
        },
        "id": "rITcejE_bOSo",
        "outputId": "1814a65b-8cb5-4a62-d2f9-672fbcef9ae1"
      },
      "outputs": [
        {
          "output_type": "stream",
          "name": "stdout",
          "text": [
            "Collecting pymorphy2\n",
            "  Downloading pymorphy2-0.9.1-py3-none-any.whl (55 kB)\n",
            "\u001b[?25l     \u001b[90m━━━━━━━━━━━━━━━━━━━━━━━━━━━━━━━━━━━━━━━━\u001b[0m \u001b[32m0.0/55.5 kB\u001b[0m \u001b[31m?\u001b[0m eta \u001b[36m-:--:--\u001b[0m\r\u001b[2K     \u001b[90m━━━━━━━━━━━━━━━━━━━━━━━━━━━━━━━━━━━━━━━━\u001b[0m \u001b[32m55.5/55.5 kB\u001b[0m \u001b[31m1.5 MB/s\u001b[0m eta \u001b[36m0:00:00\u001b[0m\n",
            "\u001b[?25hCollecting dawg-python>=0.7.1 (from pymorphy2)\n",
            "  Downloading DAWG_Python-0.7.2-py2.py3-none-any.whl (11 kB)\n",
            "Collecting pymorphy2-dicts-ru<3.0,>=2.4 (from pymorphy2)\n",
            "  Downloading pymorphy2_dicts_ru-2.4.417127.4579844-py2.py3-none-any.whl (8.2 MB)\n",
            "\u001b[2K     \u001b[90m━━━━━━━━━━━━━━━━━━━━━━━━━━━━━━━━━━━━━━━━\u001b[0m \u001b[32m8.2/8.2 MB\u001b[0m \u001b[31m45.4 MB/s\u001b[0m eta \u001b[36m0:00:00\u001b[0m\n",
            "\u001b[?25hCollecting docopt>=0.6 (from pymorphy2)\n",
            "  Downloading docopt-0.6.2.tar.gz (25 kB)\n",
            "  Preparing metadata (setup.py) ... \u001b[?25l\u001b[?25hdone\n",
            "Building wheels for collected packages: docopt\n",
            "  Building wheel for docopt (setup.py) ... \u001b[?25l\u001b[?25hdone\n",
            "  Created wheel for docopt: filename=docopt-0.6.2-py2.py3-none-any.whl size=13706 sha256=2b697496a9d6f39e0ccdd6402864dc12fe894ef56cce4b87bf179fa152094267\n",
            "  Stored in directory: /root/.cache/pip/wheels/fc/ab/d4/5da2067ac95b36618c629a5f93f809425700506f72c9732fac\n",
            "Successfully built docopt\n",
            "Installing collected packages: pymorphy2-dicts-ru, docopt, dawg-python, pymorphy2\n",
            "Successfully installed dawg-python-0.7.2 docopt-0.6.2 pymorphy2-0.9.1 pymorphy2-dicts-ru-2.4.417127.4579844\n"
          ]
        }
      ],
      "source": [
        "!pip install pymorphy2"
      ]
    },
    {
      "cell_type": "code",
      "execution_count": null,
      "metadata": {
        "id": "9qSb1F4LBPmp"
      },
      "outputs": [],
      "source": [
        "import re\n",
        "import pymorphy2\n",
        "\n",
        "import nltk\n",
        "\n",
        "from nltk.tokenize import word_tokenize\n",
        "from nltk.corpus import stopwords\n",
        "\n",
        "import gensim.downloader as api"
      ]
    },
    {
      "cell_type": "code",
      "execution_count": null,
      "metadata": {
        "id": "CdRpYDbGbtGA"
      },
      "outputs": [],
      "source": [
        "def clean_text(text):\n",
        "    text = text.lower()\n",
        "    regular = r'[\\*+\\#+\\№\\\"\\-+\\+\\=+\\?+\\&\\^\\.+\\;\\,+\\>+\\(\\)\\/+\\:\\\\+\\`]'\n",
        "    text = re.sub(regular, '', text)\n",
        "\n",
        "    text = re.sub(r'(\\d+\\s\\d+)|(\\d+)',' NUM ', text)\n",
        "\n",
        "    return text\n",
        "\n",
        "def normalize(text):\n",
        "    text = word_tokenize(clean_text(text), language=\"english\")\n",
        "\n",
        "    res = []\n",
        "    for token in text:\n",
        "      if token not in stop_words:\n",
        "          res.append(morphy.parse(token)[0].normal_form)\n",
        "    return res"
      ]
    },
    {
      "cell_type": "code",
      "execution_count": null,
      "metadata": {
        "id": "5ycajt42BMZ2"
      },
      "outputs": [],
      "source": [
        "morphy = pymorphy2.MorphAnalyzer()\n",
        "word_vectors = api.load('glove-wiki-gigaword-50')\n",
        "stop_words = stopwords.words(\"english\")\n",
        "\n",
        "nltk.download('stopwords')\n",
        "nltk.download('punkt')"
      ]
    },
    {
      "cell_type": "code",
      "execution_count": null,
      "metadata": {
        "id": "pM_n7hsiiQpQ"
      },
      "outputs": [],
      "source": [
        "descriptions = clear_df['description']\n",
        "desc = descriptions.iloc[0]\n",
        "\n",
        "words = desc.split(' ')\n",
        "print(words)"
      ]
    },
    {
      "cell_type": "code",
      "execution_count": null,
      "metadata": {
        "colab": {
          "base_uri": "https://localhost:8080/"
        },
        "id": "ok3aDhyUipoA",
        "outputId": "85ee83b0-7930-48e4-a5e3-481cd51794a4"
      },
      "outputs": [
        {
          "data": {
            "text/plain": [
              "array([ 0.53662  , -0.01189  , -0.24985  , -0.30536  ,  0.33947  ,\n",
              "       -0.10958  , -0.44209  ,  0.0099388, -0.1815   ,  0.26726  ,\n",
              "       -0.4314   ,  0.30656  , -0.68874  ,  0.044483 ,  0.11504  ,\n",
              "        0.35505  ,  0.72325  , -0.2174   , -0.046881 , -0.63777  ,\n",
              "       -0.12445  ,  0.45086  , -0.10405  ,  0.16283  ,  0.81381  ,\n",
              "       -1.9463   , -0.39676  ,  0.29121  ,  0.90593  , -0.77543  ,\n",
              "        3.6326   ,  0.49683  , -0.50868  , -0.40184  ,  0.0088379,\n",
              "       -0.23548  , -0.19416  ,  0.43335  , -0.17993  , -0.15557  ,\n",
              "       -0.34559  ,  0.01032  ,  0.04439  ,  0.33125  , -0.15722  ,\n",
              "        0.28526  ,  0.14313  , -0.23625  ,  0.063342 ,  0.17774  ],\n",
              "      dtype=float32)"
            ]
          },
          "execution_count": 58,
          "metadata": {},
          "output_type": "execute_result"
        }
      ],
      "source": [
        "word_vectors[words[4]]"
      ]
    },
    {
      "cell_type": "code",
      "execution_count": 39,
      "metadata": {
        "id": "A8R6yqKVtpOq"
      },
      "outputs": [],
      "source": [
        "clear_df = clear_df.drop_duplicates()"
      ]
    },
    {
      "cell_type": "code",
      "execution_count": 40,
      "metadata": {
        "id": "T2Yl11Vzw35-"
      },
      "outputs": [],
      "source": [
        "clear_df.reset_index(inplace=True, drop=True)"
      ]
    },
    {
      "cell_type": "code",
      "execution_count": null,
      "metadata": {
        "colab": {
          "base_uri": "https://localhost:8080/"
        },
        "id": "beGwkRF1zNWD",
        "outputId": "1957d14c-0d57-46f4-da9f-496598c265a4"
      },
      "outputs": [
        {
          "name": "stderr",
          "output_type": "stream",
          "text": [
            "<ipython-input-61-9b745bb5342d>:1: SettingWithCopyWarning: \n",
            "A value is trying to be set on a copy of a slice from a DataFrame.\n",
            "Try using .loc[row_indexer,col_indexer] = value instead\n",
            "\n",
            "See the caveats in the documentation: https://pandas.pydata.org/pandas-docs/stable/user_guide/indexing.html#returning-a-view-versus-a-copy\n",
            "  clear_df['description'] = clear_df['description'].astype('object')\n"
          ]
        }
      ],
      "source": [
        "clear_df['description'] = clear_df['description'].astype('object')"
      ]
    },
    {
      "cell_type": "code",
      "execution_count": null,
      "metadata": {
        "id": "aR4oNfSbccYM"
      },
      "outputs": [],
      "source": [
        "error_count = 0\n",
        "\n",
        "for (index, desc) in clear_df['description'].items():\n",
        "  norm = normalize(desc)\n",
        "  vectors = []\n",
        "  for token in norm:\n",
        "    try:\n",
        "        v = word_vectors[token]\n",
        "        vectors.append(v.tolist())\n",
        "    except:\n",
        "      error_count += 1\n",
        "\n",
        "  clear_df['description'][index] = np.array(vectors)\n",
        "\n",
        "print(\"Errors count: \", error_count)"
      ]
    },
    {
      "cell_type": "code",
      "execution_count": null,
      "metadata": {
        "id": "mulROxIHm2Ey"
      },
      "outputs": [],
      "source": [
        "clear_df.head()"
      ]
    },
    {
      "cell_type": "markdown",
      "metadata": {
        "id": "5s4ETuzw6Sxy"
      },
      "source": [
        "## Построение моделей ИИ"
      ]
    },
    {
      "cell_type": "code",
      "execution_count": 41,
      "metadata": {
        "id": "WoFW_oni7vrJ"
      },
      "outputs": [],
      "source": [
        "import math\n",
        "\n",
        "def analyse(y_predict_test, y_test):\n",
        "  errors=[]\n",
        "  y_test = y_test.tolist()\n",
        "  for i in range(len(y_predict_test)):\n",
        "    errors.append(min(1, math.floor(abs(y_predict_test[i]-y_test[i])/0.2)/((8.4-4.4)/2/0.2)))\n",
        "  return 1-np.mean(errors)"
      ]
    },
    {
      "cell_type": "markdown",
      "metadata": {
        "id": "egkLsVc36Sgg"
      },
      "source": [
        "### Разбиение данных на обучающуюю и тестовую выборки"
      ]
    },
    {
      "cell_type": "code",
      "execution_count": 42,
      "metadata": {
        "id": "2uqj2yYV6QtI"
      },
      "outputs": [],
      "source": [
        "from sklearn.model_selection import train_test_split\n",
        "\n",
        "useless_col = ['description', 'posting_date', 'price']\n",
        "X = clear_df.drop(useless_col, axis=1)\n",
        "y = clear_df['price']\n",
        "X_train, X_test, y_train, y_test = train_test_split(X, y, test_size = 0.2, random_state = 3)"
      ]
    },
    {
      "cell_type": "code",
      "execution_count": 43,
      "metadata": {
        "colab": {
          "base_uri": "https://localhost:8080/"
        },
        "id": "_Lq_bMUy7bWN",
        "outputId": "90a5124b-a7de-437e-9161-94cc3a1eb9a9"
      },
      "outputs": [
        {
          "output_type": "execute_result",
          "data": {
            "text/plain": [
              "(308981, 77246)"
            ]
          },
          "metadata": {},
          "execution_count": 43
        }
      ],
      "source": [
        "N_train, _ = X_train.shape\n",
        "N_test,  _ = X_test.shape\n",
        "\n",
        "N_train, N_test"
      ]
    },
    {
      "cell_type": "code",
      "execution_count": null,
      "metadata": {
        "colab": {
          "base_uri": "https://localhost:8080/"
        },
        "id": "D_IE-XfS7XBZ",
        "outputId": "44a50a60-b786-4905-c352-51ccdc5fa5c0"
      },
      "outputs": [
        {
          "data": {
            "text/plain": [
              "(309020, 167)"
            ]
          },
          "execution_count": 68,
          "metadata": {},
          "output_type": "execute_result"
        }
      ],
      "source": [
        "X_train.shape"
      ]
    },
    {
      "cell_type": "markdown",
      "metadata": {
        "id": "6c3Ce8FU61DC"
      },
      "source": [
        "### Линейная регрессия"
      ]
    },
    {
      "cell_type": "code",
      "execution_count": null,
      "metadata": {
        "colab": {
          "base_uri": "https://localhost:8080/",
          "height": 74
        },
        "id": "OqD7-6os619y",
        "outputId": "bc5437e3-9286-4807-d2fc-47fc959ac8a6"
      },
      "outputs": [
        {
          "data": {
            "text/html": [
              "<style>#sk-container-id-2 {color: black;background-color: white;}#sk-container-id-2 pre{padding: 0;}#sk-container-id-2 div.sk-toggleable {background-color: white;}#sk-container-id-2 label.sk-toggleable__label {cursor: pointer;display: block;width: 100%;margin-bottom: 0;padding: 0.3em;box-sizing: border-box;text-align: center;}#sk-container-id-2 label.sk-toggleable__label-arrow:before {content: \"▸\";float: left;margin-right: 0.25em;color: #696969;}#sk-container-id-2 label.sk-toggleable__label-arrow:hover:before {color: black;}#sk-container-id-2 div.sk-estimator:hover label.sk-toggleable__label-arrow:before {color: black;}#sk-container-id-2 div.sk-toggleable__content {max-height: 0;max-width: 0;overflow: hidden;text-align: left;background-color: #f0f8ff;}#sk-container-id-2 div.sk-toggleable__content pre {margin: 0.2em;color: black;border-radius: 0.25em;background-color: #f0f8ff;}#sk-container-id-2 input.sk-toggleable__control:checked~div.sk-toggleable__content {max-height: 200px;max-width: 100%;overflow: auto;}#sk-container-id-2 input.sk-toggleable__control:checked~label.sk-toggleable__label-arrow:before {content: \"▾\";}#sk-container-id-2 div.sk-estimator input.sk-toggleable__control:checked~label.sk-toggleable__label {background-color: #d4ebff;}#sk-container-id-2 div.sk-label input.sk-toggleable__control:checked~label.sk-toggleable__label {background-color: #d4ebff;}#sk-container-id-2 input.sk-hidden--visually {border: 0;clip: rect(1px 1px 1px 1px);clip: rect(1px, 1px, 1px, 1px);height: 1px;margin: -1px;overflow: hidden;padding: 0;position: absolute;width: 1px;}#sk-container-id-2 div.sk-estimator {font-family: monospace;background-color: #f0f8ff;border: 1px dotted black;border-radius: 0.25em;box-sizing: border-box;margin-bottom: 0.5em;}#sk-container-id-2 div.sk-estimator:hover {background-color: #d4ebff;}#sk-container-id-2 div.sk-parallel-item::after {content: \"\";width: 100%;border-bottom: 1px solid gray;flex-grow: 1;}#sk-container-id-2 div.sk-label:hover label.sk-toggleable__label {background-color: #d4ebff;}#sk-container-id-2 div.sk-serial::before {content: \"\";position: absolute;border-left: 1px solid gray;box-sizing: border-box;top: 0;bottom: 0;left: 50%;z-index: 0;}#sk-container-id-2 div.sk-serial {display: flex;flex-direction: column;align-items: center;background-color: white;padding-right: 0.2em;padding-left: 0.2em;position: relative;}#sk-container-id-2 div.sk-item {position: relative;z-index: 1;}#sk-container-id-2 div.sk-parallel {display: flex;align-items: stretch;justify-content: center;background-color: white;position: relative;}#sk-container-id-2 div.sk-item::before, #sk-container-id-2 div.sk-parallel-item::before {content: \"\";position: absolute;border-left: 1px solid gray;box-sizing: border-box;top: 0;bottom: 0;left: 50%;z-index: -1;}#sk-container-id-2 div.sk-parallel-item {display: flex;flex-direction: column;z-index: 1;position: relative;background-color: white;}#sk-container-id-2 div.sk-parallel-item:first-child::after {align-self: flex-end;width: 50%;}#sk-container-id-2 div.sk-parallel-item:last-child::after {align-self: flex-start;width: 50%;}#sk-container-id-2 div.sk-parallel-item:only-child::after {width: 0;}#sk-container-id-2 div.sk-dashed-wrapped {border: 1px dashed gray;margin: 0 0.4em 0.5em 0.4em;box-sizing: border-box;padding-bottom: 0.4em;background-color: white;}#sk-container-id-2 div.sk-label label {font-family: monospace;font-weight: bold;display: inline-block;line-height: 1.2em;}#sk-container-id-2 div.sk-label-container {text-align: center;}#sk-container-id-2 div.sk-container {/* jupyter's `normalize.less` sets `[hidden] { display: none; }` but bootstrap.min.css set `[hidden] { display: none !important; }` so we also need the `!important` here to be able to override the default hidden behavior on the sphinx rendered scikit-learn.org. See: https://github.com/scikit-learn/scikit-learn/issues/21755 */display: inline-block !important;position: relative;}#sk-container-id-2 div.sk-text-repr-fallback {display: none;}</style><div id=\"sk-container-id-2\" class=\"sk-top-container\"><div class=\"sk-text-repr-fallback\"><pre>LinearRegression()</pre><b>In a Jupyter environment, please rerun this cell to show the HTML representation or trust the notebook. <br />On GitHub, the HTML representation is unable to render, please try loading this page with nbviewer.org.</b></div><div class=\"sk-container\" hidden><div class=\"sk-item\"><div class=\"sk-estimator sk-toggleable\"><input class=\"sk-toggleable__control sk-hidden--visually\" id=\"sk-estimator-id-2\" type=\"checkbox\" checked><label for=\"sk-estimator-id-2\" class=\"sk-toggleable__label sk-toggleable__label-arrow\">LinearRegression</label><div class=\"sk-toggleable__content\"><pre>LinearRegression()</pre></div></div></div></div></div>"
            ],
            "text/plain": [
              "LinearRegression()"
            ]
          },
          "execution_count": 69,
          "metadata": {},
          "output_type": "execute_result"
        }
      ],
      "source": [
        "from sklearn.linear_model import LinearRegression\n",
        "\n",
        "lr_model = LinearRegression()\n",
        "\n",
        "lr_model.fit(X_train, y_train)"
      ]
    },
    {
      "cell_type": "code",
      "execution_count": null,
      "metadata": {
        "id": "BA6qiAk36zFC"
      },
      "outputs": [],
      "source": [
        "r_sq = lr_model.score(X_test, y_test)"
      ]
    },
    {
      "cell_type": "code",
      "execution_count": null,
      "metadata": {
        "colab": {
          "base_uri": "https://localhost:8080/"
        },
        "id": "iq2AleA39JF_",
        "outputId": "9a955bd3-d7bb-48e8-c137-d6dc0a7d3235"
      },
      "outputs": [
        {
          "name": "stdout",
          "output_type": "stream",
          "text": [
            "R2 score:  0.4551814723704908\n"
          ]
        }
      ],
      "source": [
        "print('R2 score: ', r_sq)"
      ]
    },
    {
      "cell_type": "markdown",
      "metadata": {
        "id": "oE8TOFH_9vQv"
      },
      "source": [
        "### K-Nearest Neighbour"
      ]
    },
    {
      "cell_type": "code",
      "execution_count": null,
      "metadata": {
        "colab": {
          "base_uri": "https://localhost:8080/",
          "height": 74
        },
        "id": "ijXvtIqF-qE4",
        "outputId": "e60ba908-9e6d-4452-81e9-cd0de47cd3d6"
      },
      "outputs": [
        {
          "data": {
            "text/html": [
              "<style>#sk-container-id-3 {color: black;background-color: white;}#sk-container-id-3 pre{padding: 0;}#sk-container-id-3 div.sk-toggleable {background-color: white;}#sk-container-id-3 label.sk-toggleable__label {cursor: pointer;display: block;width: 100%;margin-bottom: 0;padding: 0.3em;box-sizing: border-box;text-align: center;}#sk-container-id-3 label.sk-toggleable__label-arrow:before {content: \"▸\";float: left;margin-right: 0.25em;color: #696969;}#sk-container-id-3 label.sk-toggleable__label-arrow:hover:before {color: black;}#sk-container-id-3 div.sk-estimator:hover label.sk-toggleable__label-arrow:before {color: black;}#sk-container-id-3 div.sk-toggleable__content {max-height: 0;max-width: 0;overflow: hidden;text-align: left;background-color: #f0f8ff;}#sk-container-id-3 div.sk-toggleable__content pre {margin: 0.2em;color: black;border-radius: 0.25em;background-color: #f0f8ff;}#sk-container-id-3 input.sk-toggleable__control:checked~div.sk-toggleable__content {max-height: 200px;max-width: 100%;overflow: auto;}#sk-container-id-3 input.sk-toggleable__control:checked~label.sk-toggleable__label-arrow:before {content: \"▾\";}#sk-container-id-3 div.sk-estimator input.sk-toggleable__control:checked~label.sk-toggleable__label {background-color: #d4ebff;}#sk-container-id-3 div.sk-label input.sk-toggleable__control:checked~label.sk-toggleable__label {background-color: #d4ebff;}#sk-container-id-3 input.sk-hidden--visually {border: 0;clip: rect(1px 1px 1px 1px);clip: rect(1px, 1px, 1px, 1px);height: 1px;margin: -1px;overflow: hidden;padding: 0;position: absolute;width: 1px;}#sk-container-id-3 div.sk-estimator {font-family: monospace;background-color: #f0f8ff;border: 1px dotted black;border-radius: 0.25em;box-sizing: border-box;margin-bottom: 0.5em;}#sk-container-id-3 div.sk-estimator:hover {background-color: #d4ebff;}#sk-container-id-3 div.sk-parallel-item::after {content: \"\";width: 100%;border-bottom: 1px solid gray;flex-grow: 1;}#sk-container-id-3 div.sk-label:hover label.sk-toggleable__label {background-color: #d4ebff;}#sk-container-id-3 div.sk-serial::before {content: \"\";position: absolute;border-left: 1px solid gray;box-sizing: border-box;top: 0;bottom: 0;left: 50%;z-index: 0;}#sk-container-id-3 div.sk-serial {display: flex;flex-direction: column;align-items: center;background-color: white;padding-right: 0.2em;padding-left: 0.2em;position: relative;}#sk-container-id-3 div.sk-item {position: relative;z-index: 1;}#sk-container-id-3 div.sk-parallel {display: flex;align-items: stretch;justify-content: center;background-color: white;position: relative;}#sk-container-id-3 div.sk-item::before, #sk-container-id-3 div.sk-parallel-item::before {content: \"\";position: absolute;border-left: 1px solid gray;box-sizing: border-box;top: 0;bottom: 0;left: 50%;z-index: -1;}#sk-container-id-3 div.sk-parallel-item {display: flex;flex-direction: column;z-index: 1;position: relative;background-color: white;}#sk-container-id-3 div.sk-parallel-item:first-child::after {align-self: flex-end;width: 50%;}#sk-container-id-3 div.sk-parallel-item:last-child::after {align-self: flex-start;width: 50%;}#sk-container-id-3 div.sk-parallel-item:only-child::after {width: 0;}#sk-container-id-3 div.sk-dashed-wrapped {border: 1px dashed gray;margin: 0 0.4em 0.5em 0.4em;box-sizing: border-box;padding-bottom: 0.4em;background-color: white;}#sk-container-id-3 div.sk-label label {font-family: monospace;font-weight: bold;display: inline-block;line-height: 1.2em;}#sk-container-id-3 div.sk-label-container {text-align: center;}#sk-container-id-3 div.sk-container {/* jupyter's `normalize.less` sets `[hidden] { display: none; }` but bootstrap.min.css set `[hidden] { display: none !important; }` so we also need the `!important` here to be able to override the default hidden behavior on the sphinx rendered scikit-learn.org. See: https://github.com/scikit-learn/scikit-learn/issues/21755 */display: inline-block !important;position: relative;}#sk-container-id-3 div.sk-text-repr-fallback {display: none;}</style><div id=\"sk-container-id-3\" class=\"sk-top-container\"><div class=\"sk-text-repr-fallback\"><pre>KNeighborsRegressor()</pre><b>In a Jupyter environment, please rerun this cell to show the HTML representation or trust the notebook. <br />On GitHub, the HTML representation is unable to render, please try loading this page with nbviewer.org.</b></div><div class=\"sk-container\" hidden><div class=\"sk-item\"><div class=\"sk-estimator sk-toggleable\"><input class=\"sk-toggleable__control sk-hidden--visually\" id=\"sk-estimator-id-3\" type=\"checkbox\" checked><label for=\"sk-estimator-id-3\" class=\"sk-toggleable__label sk-toggleable__label-arrow\">KNeighborsRegressor</label><div class=\"sk-toggleable__content\"><pre>KNeighborsRegressor()</pre></div></div></div></div></div>"
            ],
            "text/plain": [
              "KNeighborsRegressor()"
            ]
          },
          "execution_count": 71,
          "metadata": {},
          "output_type": "execute_result"
        }
      ],
      "source": [
        "from sklearn.neighbors import KNeighborsRegressor\n",
        "\n",
        "KNN = KNeighborsRegressor(n_neighbors=5)\n",
        "KNN.fit(X_train, y_train)"
      ]
    },
    {
      "cell_type": "code",
      "execution_count": null,
      "metadata": {
        "id": "wRkM6H8FAnsj"
      },
      "outputs": [],
      "source": [
        "r_sq = KNN.score(X_test, y_test)\n",
        "print('R2 score: ', r_sq)"
      ]
    },
    {
      "cell_type": "markdown",
      "metadata": {
        "id": "XHEkMuM5rjvJ"
      },
      "source": [
        "\n",
        "#Обучение нейронной сети\n",
        "\n"
      ]
    },
    {
      "cell_type": "code",
      "execution_count": null,
      "metadata": {
        "id": "XOYOakUGruni"
      },
      "outputs": [],
      "source": [
        "import numpy\n",
        "import os\n",
        "import pandas\n",
        "import sklearn\n",
        "import sklearn.model_selection\n",
        "import sklearn.metrics\n",
        "import warnings\n",
        "\n",
        "from matplotlib import pyplot\n",
        "from sklearn.neural_network import MLPRegressor\n",
        "from sklearn.exceptions import ConvergenceWarning"
      ]
    },
    {
      "cell_type": "code",
      "execution_count": null,
      "metadata": {
        "id": "ToktJ5xjr7_7"
      },
      "outputs": [],
      "source": [
        "warnings.filterwarnings(\"ignore\", category=ConvergenceWarning)"
      ]
    },
    {
      "cell_type": "code",
      "execution_count": null,
      "metadata": {
        "id": "pyF__dYJr9TR"
      },
      "outputs": [],
      "source": [
        "linear_regression_model = SGDRegressor(tol=.0001, eta0=.01)"
      ]
    },
    {
      "cell_type": "code",
      "execution_count": null,
      "metadata": {
        "colab": {
          "base_uri": "https://localhost:8080/",
          "height": 109
        },
        "id": "M4cu_uA9sEDX",
        "outputId": "e5ea6341-3626-4f61-e6ff-01a40dafb3be"
      },
      "outputs": [
        {
          "name": "stdout",
          "output_type": "stream",
          "text": [
            "CPU times: user 4min 24s, sys: 1.33 s, total: 4min 26s\n",
            "Wall time: 4min 27s\n"
          ]
        },
        {
          "data": {
            "text/html": [
              "<style>#sk-container-id-4 {color: black;background-color: white;}#sk-container-id-4 pre{padding: 0;}#sk-container-id-4 div.sk-toggleable {background-color: white;}#sk-container-id-4 label.sk-toggleable__label {cursor: pointer;display: block;width: 100%;margin-bottom: 0;padding: 0.3em;box-sizing: border-box;text-align: center;}#sk-container-id-4 label.sk-toggleable__label-arrow:before {content: \"▸\";float: left;margin-right: 0.25em;color: #696969;}#sk-container-id-4 label.sk-toggleable__label-arrow:hover:before {color: black;}#sk-container-id-4 div.sk-estimator:hover label.sk-toggleable__label-arrow:before {color: black;}#sk-container-id-4 div.sk-toggleable__content {max-height: 0;max-width: 0;overflow: hidden;text-align: left;background-color: #f0f8ff;}#sk-container-id-4 div.sk-toggleable__content pre {margin: 0.2em;color: black;border-radius: 0.25em;background-color: #f0f8ff;}#sk-container-id-4 input.sk-toggleable__control:checked~div.sk-toggleable__content {max-height: 200px;max-width: 100%;overflow: auto;}#sk-container-id-4 input.sk-toggleable__control:checked~label.sk-toggleable__label-arrow:before {content: \"▾\";}#sk-container-id-4 div.sk-estimator input.sk-toggleable__control:checked~label.sk-toggleable__label {background-color: #d4ebff;}#sk-container-id-4 div.sk-label input.sk-toggleable__control:checked~label.sk-toggleable__label {background-color: #d4ebff;}#sk-container-id-4 input.sk-hidden--visually {border: 0;clip: rect(1px 1px 1px 1px);clip: rect(1px, 1px, 1px, 1px);height: 1px;margin: -1px;overflow: hidden;padding: 0;position: absolute;width: 1px;}#sk-container-id-4 div.sk-estimator {font-family: monospace;background-color: #f0f8ff;border: 1px dotted black;border-radius: 0.25em;box-sizing: border-box;margin-bottom: 0.5em;}#sk-container-id-4 div.sk-estimator:hover {background-color: #d4ebff;}#sk-container-id-4 div.sk-parallel-item::after {content: \"\";width: 100%;border-bottom: 1px solid gray;flex-grow: 1;}#sk-container-id-4 div.sk-label:hover label.sk-toggleable__label {background-color: #d4ebff;}#sk-container-id-4 div.sk-serial::before {content: \"\";position: absolute;border-left: 1px solid gray;box-sizing: border-box;top: 0;bottom: 0;left: 50%;z-index: 0;}#sk-container-id-4 div.sk-serial {display: flex;flex-direction: column;align-items: center;background-color: white;padding-right: 0.2em;padding-left: 0.2em;position: relative;}#sk-container-id-4 div.sk-item {position: relative;z-index: 1;}#sk-container-id-4 div.sk-parallel {display: flex;align-items: stretch;justify-content: center;background-color: white;position: relative;}#sk-container-id-4 div.sk-item::before, #sk-container-id-4 div.sk-parallel-item::before {content: \"\";position: absolute;border-left: 1px solid gray;box-sizing: border-box;top: 0;bottom: 0;left: 50%;z-index: -1;}#sk-container-id-4 div.sk-parallel-item {display: flex;flex-direction: column;z-index: 1;position: relative;background-color: white;}#sk-container-id-4 div.sk-parallel-item:first-child::after {align-self: flex-end;width: 50%;}#sk-container-id-4 div.sk-parallel-item:last-child::after {align-self: flex-start;width: 50%;}#sk-container-id-4 div.sk-parallel-item:only-child::after {width: 0;}#sk-container-id-4 div.sk-dashed-wrapped {border: 1px dashed gray;margin: 0 0.4em 0.5em 0.4em;box-sizing: border-box;padding-bottom: 0.4em;background-color: white;}#sk-container-id-4 div.sk-label label {font-family: monospace;font-weight: bold;display: inline-block;line-height: 1.2em;}#sk-container-id-4 div.sk-label-container {text-align: center;}#sk-container-id-4 div.sk-container {/* jupyter's `normalize.less` sets `[hidden] { display: none; }` but bootstrap.min.css set `[hidden] { display: none !important; }` so we also need the `!important` here to be able to override the default hidden behavior on the sphinx rendered scikit-learn.org. See: https://github.com/scikit-learn/scikit-learn/issues/21755 */display: inline-block !important;position: relative;}#sk-container-id-4 div.sk-text-repr-fallback {display: none;}</style><div id=\"sk-container-id-4\" class=\"sk-top-container\"><div class=\"sk-text-repr-fallback\"><pre>SGDRegressor(tol=0.0001)</pre><b>In a Jupyter environment, please rerun this cell to show the HTML representation or trust the notebook. <br />On GitHub, the HTML representation is unable to render, please try loading this page with nbviewer.org.</b></div><div class=\"sk-container\" hidden><div class=\"sk-item\"><div class=\"sk-estimator sk-toggleable\"><input class=\"sk-toggleable__control sk-hidden--visually\" id=\"sk-estimator-id-4\" type=\"checkbox\" checked><label for=\"sk-estimator-id-4\" class=\"sk-toggleable__label sk-toggleable__label-arrow\">SGDRegressor</label><div class=\"sk-toggleable__content\"><pre>SGDRegressor(tol=0.0001)</pre></div></div></div></div></div>"
            ],
            "text/plain": [
              "SGDRegressor(tol=0.0001)"
            ]
          },
          "execution_count": 80,
          "metadata": {},
          "output_type": "execute_result"
        }
      ],
      "source": [
        "%%time\n",
        "linear_regression_model.fit(X_train, y_train)"
      ]
    },
    {
      "cell_type": "markdown",
      "metadata": {
        "id": "AztZiaOWsks_"
      },
      "source": [
        "## Проверяем качество полученной нейронной сети"
      ]
    },
    {
      "cell_type": "code",
      "execution_count": null,
      "metadata": {
        "colab": {
          "base_uri": "https://localhost:8080/"
        },
        "id": "-3J8SMBTsEAn",
        "outputId": "20296e65-601b-4383-8d4f-85f1dec8bf4a"
      },
      "outputs": [
        {
          "name": "stdout",
          "output_type": "stream",
          "text": [
            "Train MSE: 2.6863290794851026e+35\n",
            "Test MSE: 2.6894395597440238e+35\n"
          ]
        }
      ],
      "source": [
        "train_predictions = linear_regression_model.predict(X_train)\n",
        "test_predictions = linear_regression_model.predict(X_test)\n",
        "\n",
        "train_mse = sklearn.metrics.mean_squared_error(y_train, train_predictions)\n",
        "test_mse = sklearn.metrics.mean_squared_error(y_test, test_predictions)\n",
        "print(\"Train MSE: {}\".format(train_mse))\n",
        "print(\"Test MSE: {}\".format(test_mse))"
      ]
    },
    {
      "cell_type": "markdown",
      "metadata": {
        "id": "hD2kK46ts5uH"
      },
      "source": [
        "## Подбор параметров модели"
      ]
    },
    {
      "cell_type": "code",
      "execution_count": null,
      "metadata": {
        "colab": {
          "background_save": true
        },
        "id": "GyFJuX9isD9u",
        "outputId": "42521f45-527d-4933-eb04-489687689bfc"
      },
      "outputs": [
        {
          "name": "stdout",
          "output_type": "stream",
          "text": [
            "Лучшие параметры: {'eta0': 0.001}\n",
            "Лучшая оценка MSE: -5.622836910124902e+33\n"
          ]
        }
      ],
      "source": [
        "from sklearn.model_selection import RandomizedSearchCV\n",
        "from sklearn.linear_model import SGDRegressor\n",
        "\n",
        "param_dist = {\"eta0\": [ .001, .003, .01, .03, .1, .3, 1, 3]}\n",
        "linear_regression_model = SGDRegressor(tol=.0001)\n",
        "n_iter_search = 8\n",
        "random_search = RandomizedSearchCV(linear_regression_model,\n",
        "                                   param_distributions=param_dist,\n",
        "                                   n_iter=n_iter_search,\n",
        "                                   cv=3,\n",
        "                                   scoring='neg_mean_squared_error')\n",
        "random_search.fit(X_train, y_train)\n",
        "\n",
        "print(\"Лучшие параметры: {}\".format(random_search.best_params_))\n",
        "print(\"Лучшая оценка MSE: {}\".format(random_search.best_score_))\n"
      ]
    }
  ],
  "metadata": {
    "colab": {
      "provenance": []
    },
    "kernelspec": {
      "display_name": "Python 3",
      "name": "python3"
    },
    "language_info": {
      "name": "python"
    }
  },
  "nbformat": 4,
  "nbformat_minor": 0
}